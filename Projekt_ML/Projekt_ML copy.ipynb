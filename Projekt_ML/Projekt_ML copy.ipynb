{
 "cells": [
  {
   "cell_type": "markdown",
   "metadata": {},
   "source": [
    "7. Śmierć pacjenta\n",
    "• Estymacja niewydolności serca\n",
    "• Aplikacja pokazująca lekarzowi prawdopodobieństwo zdarzenia\n",
    "• https://www.kaggle.com/andrewmvd/heart-failure-clinical-data"
   ]
  },
  {
   "cell_type": "code",
   "execution_count": 1,
   "metadata": {},
   "outputs": [],
   "source": [
    "import pandas as pd\n",
    "import numpy as np\n",
    "import seaborn as sns\n",
    "import matplotlib.pyplot as plt\n",
    "\n",
    "from sklearn.tree import DecisionTreeClassifier\n",
    "from sklearn.ensemble import RandomForestClassifier\n",
    "from sklearn.decomposition import PCA\n",
    "from sklearn.model_selection import train_test_split\n",
    "from sklearn.metrics import confusion_matrix, accuracy_score, roc_auc_score, classification_report, f1_score\n",
    "from sklearn.model_selection import GridSearchCV, RandomizedSearchCV\n",
    "from sklearn.preprocessing import StandardScaler\n",
    "# import imblearn as imb\n",
    "from collections import Counter\n",
    "\n",
    "import warnings\n",
    "warnings.filterwarnings('ignore')"
   ]
  },
  {
   "cell_type": "code",
   "execution_count": 2,
   "metadata": {},
   "outputs": [],
   "source": [
    "df = pd.read_csv(\"heart_failure_clinical_records_dataset.csv\")\n",
    "train = pd.read_csv(\"train_set.csv\")\n",
    "test = pd.read_csv(\"test_set.csv\")"
   ]
  },
  {
   "cell_type": "code",
   "execution_count": null,
   "metadata": {},
   "outputs": [],
   "source": [
    "df.info()"
   ]
  },
  {
   "cell_type": "code",
   "execution_count": null,
   "metadata": {},
   "outputs": [],
   "source": [
    "df.head()"
   ]
  },
  {
   "cell_type": "code",
   "execution_count": null,
   "metadata": {},
   "outputs": [],
   "source": [
    "df[\"DEATH_EVENT\"].value_counts()"
   ]
  },
  {
   "cell_type": "code",
   "execution_count": null,
   "metadata": {},
   "outputs": [],
   "source": [
    "df.shape"
   ]
  },
  {
   "cell_type": "code",
   "execution_count": null,
   "metadata": {},
   "outputs": [],
   "source": [
    "plt.figure(figsize=(12,12))\n",
    "mask = np.triu(np.ones_like(df.corr()), k=0) \n",
    "sns.heatmap(df.corr(), annot=True, mask = mask, vmin=-1., vmax=1.)\n",
    "pass"
   ]
  },
  {
   "cell_type": "code",
   "execution_count": null,
   "metadata": {},
   "outputs": [],
   "source": [
    "df.corr()[\"DEATH_EVENT\"].sort_values(ascending=False)[1:]"
   ]
  },
  {
   "cell_type": "code",
   "execution_count": null,
   "metadata": {},
   "outputs": [],
   "source": [
    "sns.heatmap(df.corr()[['DEATH_EVENT']].sort_values(by='DEATH_EVENT', ascending=False), annot = True)\n",
    "plt.show()"
   ]
  },
  {
   "cell_type": "code",
   "execution_count": null,
   "metadata": {},
   "outputs": [],
   "source": [
    "columns = [\"serum_creatinine\", \"age\", \"high_blood_pressure\", \"anaemia\", \"creatinine_phosphokinase\"]\n",
    "\n",
    "for i in columns:\n",
    "    sns.boxplot(df[i])\n",
    "    plt.title(i)\n",
    "    plt.show()"
   ]
  },
  {
   "cell_type": "code",
   "execution_count": null,
   "metadata": {},
   "outputs": [],
   "source": [
    "# Train test split został wykonany przez Błażeja, który udostępnił nam dane abyśmy mogli pracować na takich samych zbiorach"
   ]
  },
  {
   "cell_type": "code",
   "execution_count": 3,
   "metadata": {},
   "outputs": [],
   "source": [
    "X_train, y_train = train.drop(columns=\"DEATH_EVENT\"), train[\"DEATH_EVENT\"]\n",
    "X_test, y_test = test.drop(columns=\"DEATH_EVENT\"), test[\"DEATH_EVENT\"]"
   ]
  },
  {
   "cell_type": "code",
   "execution_count": 4,
   "metadata": {},
   "outputs": [
    {
     "name": "stdout",
     "output_type": "stream",
     "text": [
      "Confusion matrix:  \n",
      " [[162   0]\n",
      " [  0  77]] \n",
      "\n",
      "Classification matrix:  \n",
      "               precision    recall  f1-score   support\n",
      "\n",
      "           0       1.00      1.00      1.00       162\n",
      "           1       1.00      1.00      1.00        77\n",
      "\n",
      "    accuracy                           1.00       239\n",
      "   macro avg       1.00      1.00      1.00       239\n",
      "weighted avg       1.00      1.00      1.00       239\n",
      "\n",
      "Confusion matrix:  \n",
      " [[38  3]\n",
      " [ 5 14]] \n",
      "\n",
      "Classification matrix:  \n",
      "               precision    recall  f1-score   support\n",
      "\n",
      "           0       0.88      0.93      0.90        41\n",
      "           1       0.82      0.74      0.78        19\n",
      "\n",
      "    accuracy                           0.87        60\n",
      "   macro avg       0.85      0.83      0.84        60\n",
      "weighted avg       0.86      0.87      0.86        60\n",
      "\n"
     ]
    }
   ],
   "source": [
    "dtc = DecisionTreeClassifier().fit(X_train, y_train)\n",
    "y_pred = dtc.predict(X_train)\n",
    "y_pred2 = dtc.predict(X_test)\n",
    "\n",
    "print(\"Confusion matrix: \",\"\\n\", confusion_matrix(y_train, y_pred),\"\\n\")\n",
    "print(\"Classification matrix: \",\"\\n\", classification_report(y_train, y_pred))\n",
    "print(\"Confusion matrix: \",\"\\n\", confusion_matrix(y_test, y_pred2),\"\\n\")\n",
    "print(\"Classification matrix: \",\"\\n\", classification_report(y_test, y_pred2))"
   ]
  },
  {
   "cell_type": "code",
   "execution_count": 7,
   "metadata": {},
   "outputs": [
    {
     "data": {
      "text/plain": [
       "array([0.01493743, 0.02969777, 0.10913857, 0.01459798, 0.06872939,\n",
       "       0.        , 0.07679908, 0.08542588, 0.06775645, 0.01596654,\n",
       "       0.        , 0.5169509 ])"
      ]
     },
     "execution_count": 7,
     "metadata": {},
     "output_type": "execute_result"
    }
   ],
   "source": [
    "dtc.feature_importances_"
   ]
  },
  {
   "cell_type": "code",
   "execution_count": 11,
   "metadata": {},
   "outputs": [
    {
     "data": {
      "image/png": "[encoded data removed]",
      "text/plain": [
       "<Figure size 432x288 with 1 Axes>"
      ]
     },
     "metadata": {
      "needs_background": "light"
     },
     "output_type": "display_data"
    }
   ],
   "source": [
    "feat_importances = pd.Series(dtc.feature_importances_, index=X_test.columns)\n",
    "feat_importances.nlargest(12).plot(kind='barh')\n",
    "plt.show()"
   ]
  },
  {
   "cell_type": "code",
   "execution_count": 16,
   "metadata": {},
   "outputs": [
    {
     "data": {
      "text/html": [
       "<div>\n",
       "<style scoped>\n",
       "    .dataframe tbody tr th:only-of-type {\n",
       "        vertical-align: middle;\n",
       "    }\n",
       "\n",
       "    .dataframe tbody tr th {\n",
       "        vertical-align: top;\n",
       "    }\n",
       "\n",
       "    .dataframe thead th {\n",
       "        text-align: right;\n",
       "    }\n",
       "</style>\n",
       "<table border=\"1\" class=\"dataframe\">\n",
       "  <thead>\n",
       "    <tr style=\"text-align: right;\">\n",
       "      <th></th>\n",
       "      <th>age</th>\n",
       "      <th>anaemia</th>\n",
       "      <th>creatinine_phosphokinase</th>\n",
       "      <th>diabetes</th>\n",
       "      <th>ejection_fraction</th>\n",
       "      <th>high_blood_pressure</th>\n",
       "      <th>platelets</th>\n",
       "      <th>serum_creatinine</th>\n",
       "      <th>serum_sodium</th>\n",
       "      <th>sex</th>\n",
       "      <th>smoking</th>\n",
       "      <th>time</th>\n",
       "      <th>DEATH_EVENT</th>\n",
       "    </tr>\n",
       "  </thead>\n",
       "  <tbody>\n",
       "    <tr>\n",
       "      <th>0</th>\n",
       "      <td>55.0</td>\n",
       "      <td>0</td>\n",
       "      <td>60</td>\n",
       "      <td>0</td>\n",
       "      <td>35</td>\n",
       "      <td>0</td>\n",
       "      <td>228000.00</td>\n",
       "      <td>1.2</td>\n",
       "      <td>135</td>\n",
       "      <td>1</td>\n",
       "      <td>1</td>\n",
       "      <td>90</td>\n",
       "      <td>0</td>\n",
       "    </tr>\n",
       "    <tr>\n",
       "      <th>1</th>\n",
       "      <td>58.0</td>\n",
       "      <td>0</td>\n",
       "      <td>144</td>\n",
       "      <td>1</td>\n",
       "      <td>38</td>\n",
       "      <td>1</td>\n",
       "      <td>327000.00</td>\n",
       "      <td>0.7</td>\n",
       "      <td>142</td>\n",
       "      <td>0</td>\n",
       "      <td>0</td>\n",
       "      <td>83</td>\n",
       "      <td>0</td>\n",
       "    </tr>\n",
       "    <tr>\n",
       "      <th>2</th>\n",
       "      <td>53.0</td>\n",
       "      <td>1</td>\n",
       "      <td>446</td>\n",
       "      <td>0</td>\n",
       "      <td>60</td>\n",
       "      <td>1</td>\n",
       "      <td>263358.03</td>\n",
       "      <td>1.0</td>\n",
       "      <td>139</td>\n",
       "      <td>1</td>\n",
       "      <td>0</td>\n",
       "      <td>215</td>\n",
       "      <td>0</td>\n",
       "    </tr>\n",
       "    <tr>\n",
       "      <th>3</th>\n",
       "      <td>65.0</td>\n",
       "      <td>0</td>\n",
       "      <td>146</td>\n",
       "      <td>0</td>\n",
       "      <td>20</td>\n",
       "      <td>0</td>\n",
       "      <td>162000.00</td>\n",
       "      <td>1.3</td>\n",
       "      <td>129</td>\n",
       "      <td>1</td>\n",
       "      <td>1</td>\n",
       "      <td>7</td>\n",
       "      <td>1</td>\n",
       "    </tr>\n",
       "    <tr>\n",
       "      <th>4</th>\n",
       "      <td>45.0</td>\n",
       "      <td>1</td>\n",
       "      <td>981</td>\n",
       "      <td>0</td>\n",
       "      <td>30</td>\n",
       "      <td>0</td>\n",
       "      <td>136000.00</td>\n",
       "      <td>1.1</td>\n",
       "      <td>137</td>\n",
       "      <td>1</td>\n",
       "      <td>0</td>\n",
       "      <td>11</td>\n",
       "      <td>1</td>\n",
       "    </tr>\n",
       "  </tbody>\n",
       "</table>\n",
       "</div>"
      ],
      "text/plain": [
       "    age  anaemia  creatinine_phosphokinase  diabetes  ejection_fraction  \\\n",
       "0  55.0        0                        60         0                 35   \n",
       "1  58.0        0                       144         1                 38   \n",
       "2  53.0        1                       446         0                 60   \n",
       "3  65.0        0                       146         0                 20   \n",
       "4  45.0        1                       981         0                 30   \n",
       "\n",
       "   high_blood_pressure  platelets  serum_creatinine  serum_sodium  sex  \\\n",
       "0                    0  228000.00               1.2           135    1   \n",
       "1                    1  327000.00               0.7           142    0   \n",
       "2                    1  263358.03               1.0           139    1   \n",
       "3                    0  162000.00               1.3           129    1   \n",
       "4                    0  136000.00               1.1           137    1   \n",
       "\n",
       "   smoking  time  DEATH_EVENT  \n",
       "0        1    90            0  \n",
       "1        0    83            0  \n",
       "2        0   215            0  \n",
       "3        1     7            1  \n",
       "4        0    11            1  "
      ]
     },
     "execution_count": 16,
     "metadata": {},
     "output_type": "execute_result"
    }
   ],
   "source": [
    "train.head()"
   ]
  },
  {
   "cell_type": "code",
   "execution_count": 17,
   "metadata": {},
   "outputs": [
    {
     "data": {
      "text/html": [
       "<div>\n",
       "<style scoped>\n",
       "    .dataframe tbody tr th:only-of-type {\n",
       "        vertical-align: middle;\n",
       "    }\n",
       "\n",
       "    .dataframe tbody tr th {\n",
       "        vertical-align: top;\n",
       "    }\n",
       "\n",
       "    .dataframe thead th {\n",
       "        text-align: right;\n",
       "    }\n",
       "</style>\n",
       "<table border=\"1\" class=\"dataframe\">\n",
       "  <thead>\n",
       "    <tr style=\"text-align: right;\">\n",
       "      <th></th>\n",
       "      <th>time</th>\n",
       "      <th>creatinine_phosphokinase</th>\n",
       "      <th>serum_creatinine</th>\n",
       "      <th>platelets</th>\n",
       "      <th>ejection_fraction</th>\n",
       "      <th>serum_sodium</th>\n",
       "    </tr>\n",
       "  </thead>\n",
       "  <tbody>\n",
       "    <tr>\n",
       "      <th>0</th>\n",
       "      <td>90</td>\n",
       "      <td>60</td>\n",
       "      <td>1.20</td>\n",
       "      <td>228000.00</td>\n",
       "      <td>35</td>\n",
       "      <td>135</td>\n",
       "    </tr>\n",
       "    <tr>\n",
       "      <th>1</th>\n",
       "      <td>83</td>\n",
       "      <td>144</td>\n",
       "      <td>0.70</td>\n",
       "      <td>327000.00</td>\n",
       "      <td>38</td>\n",
       "      <td>142</td>\n",
       "    </tr>\n",
       "    <tr>\n",
       "      <th>2</th>\n",
       "      <td>215</td>\n",
       "      <td>446</td>\n",
       "      <td>1.00</td>\n",
       "      <td>263358.03</td>\n",
       "      <td>60</td>\n",
       "      <td>139</td>\n",
       "    </tr>\n",
       "    <tr>\n",
       "      <th>3</th>\n",
       "      <td>7</td>\n",
       "      <td>146</td>\n",
       "      <td>1.30</td>\n",
       "      <td>162000.00</td>\n",
       "      <td>20</td>\n",
       "      <td>129</td>\n",
       "    </tr>\n",
       "    <tr>\n",
       "      <th>4</th>\n",
       "      <td>11</td>\n",
       "      <td>981</td>\n",
       "      <td>1.10</td>\n",
       "      <td>136000.00</td>\n",
       "      <td>30</td>\n",
       "      <td>137</td>\n",
       "    </tr>\n",
       "    <tr>\n",
       "      <th>...</th>\n",
       "      <td>...</td>\n",
       "      <td>...</td>\n",
       "      <td>...</td>\n",
       "      <td>...</td>\n",
       "      <td>...</td>\n",
       "      <td>...</td>\n",
       "    </tr>\n",
       "    <tr>\n",
       "      <th>234</th>\n",
       "      <td>90</td>\n",
       "      <td>369</td>\n",
       "      <td>1.60</td>\n",
       "      <td>252000.00</td>\n",
       "      <td>25</td>\n",
       "      <td>136</td>\n",
       "    </tr>\n",
       "    <tr>\n",
       "      <th>235</th>\n",
       "      <td>28</td>\n",
       "      <td>249</td>\n",
       "      <td>1.00</td>\n",
       "      <td>319000.00</td>\n",
       "      <td>35</td>\n",
       "      <td>128</td>\n",
       "    </tr>\n",
       "    <tr>\n",
       "      <th>236</th>\n",
       "      <td>26</td>\n",
       "      <td>70</td>\n",
       "      <td>1.20</td>\n",
       "      <td>200000.00</td>\n",
       "      <td>30</td>\n",
       "      <td>132</td>\n",
       "    </tr>\n",
       "    <tr>\n",
       "      <th>237</th>\n",
       "      <td>120</td>\n",
       "      <td>335</td>\n",
       "      <td>0.80</td>\n",
       "      <td>235000.00</td>\n",
       "      <td>35</td>\n",
       "      <td>136</td>\n",
       "    </tr>\n",
       "    <tr>\n",
       "      <th>238</th>\n",
       "      <td>82</td>\n",
       "      <td>582</td>\n",
       "      <td>1.18</td>\n",
       "      <td>263358.03</td>\n",
       "      <td>60</td>\n",
       "      <td>137</td>\n",
       "    </tr>\n",
       "  </tbody>\n",
       "</table>\n",
       "<p>239 rows × 6 columns</p>\n",
       "</div>"
      ],
      "text/plain": [
       "     time  creatinine_phosphokinase  serum_creatinine  platelets  \\\n",
       "0      90                        60              1.20  228000.00   \n",
       "1      83                       144              0.70  327000.00   \n",
       "2     215                       446              1.00  263358.03   \n",
       "3       7                       146              1.30  162000.00   \n",
       "4      11                       981              1.10  136000.00   \n",
       "..    ...                       ...               ...        ...   \n",
       "234    90                       369              1.60  252000.00   \n",
       "235    28                       249              1.00  319000.00   \n",
       "236    26                        70              1.20  200000.00   \n",
       "237   120                       335              0.80  235000.00   \n",
       "238    82                       582              1.18  263358.03   \n",
       "\n",
       "     ejection_fraction  serum_sodium  \n",
       "0                   35           135  \n",
       "1                   38           142  \n",
       "2                   60           139  \n",
       "3                   20           129  \n",
       "4                   30           137  \n",
       "..                 ...           ...  \n",
       "234                 25           136  \n",
       "235                 35           128  \n",
       "236                 30           132  \n",
       "237                 35           136  \n",
       "238                 60           137  \n",
       "\n",
       "[239 rows x 6 columns]"
      ]
     },
     "execution_count": 17,
     "metadata": {},
     "output_type": "execute_result"
    }
   ],
   "source": [
    "train.iloc[:,[11, 2, 7, 6, 4, 8]]"
   ]
  },
  {
   "cell_type": "code",
   "execution_count": null,
   "metadata": {},
   "outputs": [],
   "source": [
    "params_grid = {\"max_depth\": [3,5,7,10, None],\n",
    "              \"max_features\": list(range(1,14)),\n",
    "              \"min_samples_leaf\": [1, 3, 5]\n",
    "              \n",
    "}"
   ]
  },
  {
   "cell_type": "code",
   "execution_count": null,
   "metadata": {},
   "outputs": [],
   "source": [
    "grid_search = GridSearchCV(dtc, param_grid=params_grid, cv=5, verbose=0)\n",
    "grid_search.fit(X_train, y_train)"
   ]
  },
  {
   "cell_type": "code",
   "execution_count": null,
   "metadata": {},
   "outputs": [],
   "source": [
    "grid_search.best_params_"
   ]
  },
  {
   "cell_type": "code",
   "execution_count": null,
   "metadata": {},
   "outputs": [],
   "source": [
    "dtc_params = DecisionTreeClassifier(max_depth=5, class_weight=\"balanced\", max_features=8, min_samples_leaf=5).fit(X_train, y_train)\n",
    "y_predCV = dtc_params.predict(X_train)\n",
    "y_predCV2 = dtc_params.predict(X_test)\n",
    "\n",
    "print(\"Confusion matrix: \",\"\\n\", confusion_matrix(y_train, y_predCV))\n",
    "print(\"Classification matrix: \",\"\\n\", classification_report(y_train, y_predCV))\n",
    "print(\"Confusion matrix: \",\"\\n\", confusion_matrix(y_test, y_predCV2))\n",
    "print(\"Classification matrix: \",\"\\n\", classification_report(y_test, y_predCV2))"
   ]
  },
  {
   "cell_type": "code",
   "execution_count": null,
   "metadata": {},
   "outputs": [],
   "source": [
    "# undersample = imb.under_sampling.RandomUnderSampler()\n",
    "# X_test2, y_test2 = undersample.fit_resample(X,y)"
   ]
  },
  {
   "cell_type": "markdown",
   "metadata": {},
   "source": [
    "Random Forrest Classifier z domyślnymi parametrami\n",
    "Sprawdzenie modelu na danych treningowych oraz testowych"
   ]
  },
  {
   "cell_type": "code",
   "execution_count": null,
   "metadata": {},
   "outputs": [],
   "source": [
    "rdc = RandomForestClassifier().fit(X_train, y_train)\n",
    "y_predRDC = rdc.predict(X_train)\n",
    "y_predRDC2 = rdc.predict(X_test)\n",
    "\n",
    "print(\"Confusion matrix: \",\"\\n\", confusion_matrix(y_train, y_predRDC))\n",
    "print(\"Classification matrix: \",\"\\n\", classification_report(y_train, y_predRDC))\n",
    "print(\"Confusion matrix: \",\"\\n\", confusion_matrix(y_test, y_predRDC2))\n",
    "print(\"Classification matrix: \",\"\\n\", classification_report(y_test, y_predRDC2))"
   ]
  },
  {
   "cell_type": "code",
   "execution_count": null,
   "metadata": {},
   "outputs": [],
   "source": [
    "param_random = {\"max_depth\": [3, 5, 7, None],\n",
    "                \"n_estimators\": [100, 200, 500],\n",
    "                \"max_features\": list(range(1, 14)),\n",
    "                \"min_samples_leaf\": [1,3,5] \n",
    "}"
   ]
  },
  {
   "cell_type": "code",
   "execution_count": null,
   "metadata": {},
   "outputs": [],
   "source": [
    "random_search = RandomizedSearchCV(rdc,\n",
    "                                   param_distributions=param_random,\n",
    "                                   cv=5,\n",
    "                                   n_iter=10,\n",
    "                                   verbose=1, \n",
    "                                   scoring='f1_macro',\n",
    "                                   random_state=42)"
   ]
  },
  {
   "cell_type": "code",
   "execution_count": null,
   "metadata": {},
   "outputs": [],
   "source": [
    "random_search.fit(X_train, y_train)"
   ]
  },
  {
   "cell_type": "code",
   "execution_count": null,
   "metadata": {},
   "outputs": [],
   "source": [
    "random_search.best_params_"
   ]
  },
  {
   "cell_type": "code",
   "execution_count": null,
   "metadata": {},
   "outputs": [],
   "source": []
  },
  {
   "cell_type": "code",
   "execution_count": null,
   "metadata": {},
   "outputs": [],
   "source": [
    "rdc_2 = RandomForestClassifier(n_estimators=500, min_samples_leaf=3, max_features=9, max_depth=None).fit(X_train, y_train)"
   ]
  },
  {
   "cell_type": "code",
   "execution_count": null,
   "metadata": {},
   "outputs": [],
   "source": [
    "y_predRDC_CV = rdc_2.predict(X_train)\n",
    "y_predRDC_CV2 = rdc_2.predict(X_test)\n",
    "\n",
    "\n",
    "print(\"Confusion matrix: \",\"\\n\", confusion_matrix(y_train, y_predRDC_CV))\n",
    "print(\"Classification matrix: \",\"\\n\", classification_report(y_train, y_predRDC_CV))\n",
    "print(\"Confusion matrix: \",\"\\n\", confusion_matrix(y_test, y_predRDC_CV2))\n",
    "print(\"Classification matrix: \",\"\\n\", classification_report(y_test, y_predRDC_CV2))"
   ]
  },
  {
   "cell_type": "markdown",
   "metadata": {},
   "source": [
    "Test modelu po wybraniu najlepszych zmiennych"
   ]
  },
  {
   "cell_type": "code",
   "execution_count": null,
   "metadata": {},
   "outputs": [],
   "source": [
    "X = train.drop(columns=\"DEATH_EVENT\", axis=1)\n",
    "y = train[\"DEATH_EVENT\"]"
   ]
  },
  {
   "cell_type": "code",
   "execution_count": null,
   "metadata": {},
   "outputs": [],
   "source": [
    "model = RandomForestClassifier()\n",
    "model.fit(X,y)\n",
    "print(model.feature_importances_)\n",
    "feat_importances = pd.Series(model.feature_importances_, index=X.columns)\n",
    "feat_importances.nlargest(12).plot(kind='barh')\n",
    "plt.show()"
   ]
  },
  {
   "cell_type": "code",
   "execution_count": null,
   "metadata": {},
   "outputs": [],
   "source": [
    "X_train2, X_test2 = train.iloc[:,[0,4,7,11]], test.iloc[:, [0,4,7,11]]"
   ]
  },
  {
   "cell_type": "code",
   "execution_count": null,
   "metadata": {},
   "outputs": [],
   "source": [
    "train.iloc[:,[0,4,7,11]].columns"
   ]
  },
  {
   "cell_type": "code",
   "execution_count": null,
   "metadata": {},
   "outputs": [],
   "source": [
    "sc=StandardScaler()\n",
    "X_train2 = sc.fit_transform(X_train2)\n",
    "X_test2 = sc.fit_transform(X_test2)"
   ]
  },
  {
   "cell_type": "code",
   "execution_count": null,
   "metadata": {},
   "outputs": [],
   "source": [
    "param_grid2 = {\n",
    "    \"n_estimators\": [100, 500, 1000],\n",
    "    \"max_features\": [0.5,1,'auto'],\n",
    "    \"max_depth\": [1,2,3,4,None],\n",
    "    \"min_samples_split\": [2,5,8]\n",
    "}\n",
    "\n",
    "clf = RandomForestClassifier()\n",
    "grid = GridSearchCV(clf, param_grid2, n_jobs=-1, verbose=2, cv=10)\n",
    "grid.fit(X_train2, y_train)\n",
    "grid.best_params_"
   ]
  },
  {
   "cell_type": "code",
   "execution_count": null,
   "metadata": {},
   "outputs": [],
   "source": [
    "clf = RandomForestClassifier(\n",
    "    n_estimators=500,\n",
    "    max_features=\"auto\",\n",
    "    max_depth=2,\n",
    "    min_samples_split=8,\n",
    "    random_state=0)"
   ]
  },
  {
   "cell_type": "code",
   "execution_count": null,
   "metadata": {},
   "outputs": [],
   "source": [
    "clf.fit(X_train2, y_train)\n",
    "y_prediction = clf.predict(X_train2)\n",
    "y_prediction2 = clf.predict(X_test2)\n",
    "\n",
    "print(\"Confusion matrix: \",\"\\n\", confusion_matrix(y_train, y_prediction))\n",
    "print(\"Classification matrix: \",\"\\n\", classification_report(y_train, y_prediction))\n",
    "\n",
    "print(\"Confusion matrix: \",\"\\n\", confusion_matrix(y_test, y_prediction2))\n",
    "print(\"Classification matrix: \",\"\\n\", classification_report(y_test, y_prediction2))"
   ]
  },
  {
   "cell_type": "code",
   "execution_count": null,
   "metadata": {},
   "outputs": [],
   "source": [
    "# Reporting\n",
    "# I evaluated the results I found with Confusion Matrix, the results are as follows:\n",
    "\n",
    "# Correctly predicted -> %95.00 (282 of 297 predict are correct)\n",
    "\n",
    "# True Negative -> %68.33 (41 people) -> Those who were predicted not to die and who did not die\n",
    "# True Positive -> %26.67 (16 people) -> Those who were predicted to die and who did die\n",
    "# Wrong predicted-> %10.98 (15 of 297 predict are wrong)\n",
    "\n",
    "# False Positive -> %3.33 (2 people) -> Those who were predicted to die but who did not die\n",
    "# False Negative -> %01.67 (1 people) -> Those who were predicted to not die but who did die"
   ]
  }
 ],
 "metadata": {
  "interpreter": {
   "hash": "86479d7fd6a0b0e0c541fb1f565da6ec7356cde8bbf497fd95abc5424f8117e4"
  },
  "kernelspec": {
   "display_name": "Python 3.8.8 ('base')",
   "language": "python",
   "name": "python3"
  },
  "language_info": {
   "codemirror_mode": {
    "name": "ipython",
    "version": 3
   },
   "file_extension": ".py",
   "mimetype": "text/x-python",
   "name": "python",
   "nbconvert_exporter": "python",
   "pygments_lexer": "ipython3",
   "version": "3.8.8"
  },
  "orig_nbformat": 4
 },
 "nbformat": 4,
 "nbformat_minor": 2
}
