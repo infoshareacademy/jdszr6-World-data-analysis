{
 "cells": [
  {
   "cell_type": "markdown",
   "metadata": {},
   "source": [
    "7. Śmierć pacjenta\n",
    "• Estymacja niewydolności serca\n",
    "• Aplikacja pokazująca lekarzowi prawdopodobieństwo zdarzenia\n",
    "• https://www.kaggle.com/andrewmvd/heart-failure-clinical-data"
   ]
  },
  {
   "cell_type": "code",
   "execution_count": 1,
   "metadata": {},
   "outputs": [],
   "source": [
    "import pandas as pd\n",
    "import numpy as np\n",
    "import seaborn as sns\n",
    "import matplotlib.pyplot as plt\n",
    "from sklearn.tree import DecisionTreeClassifier\n",
    "from sklearn.ensemble import RandomForestClassifier\n",
    "from sklearn.decomposition import PCA\n",
    "from sklearn.model_selection import train_test_split\n",
    "from sklearn.metrics import confusion_matrix, accuracy_score, roc_auc_score, classification_report, f1_score\n",
    "from sklearn.model_selection import GridSearchCV, RandomizedSearchCV\n",
    "from sklearn.preprocessing import StandardScaler\n",
    "import imblearn as imb\n",
    "from collections import Counter\n",
    "\n",
    "import warnings\n",
    "warnings.filterwarnings('ignore')"
   ]
  },
  {
   "cell_type": "code",
   "execution_count": 2,
   "metadata": {},
   "outputs": [],
   "source": [
    "df = pd.read_csv(\"heart_failure_clinical_records_dataset.csv\")\n",
    "train = pd.read_csv(\"train_set.csv\")\n",
    "test = pd.read_csv(\"test_set.csv\")"
   ]
  },
  {
   "cell_type": "code",
   "execution_count": 3,
   "metadata": {},
   "outputs": [
    {
     "name": "stdout",
     "output_type": "stream",
     "text": [
      "<class 'pandas.core.frame.DataFrame'>\n",
      "RangeIndex: 299 entries, 0 to 298\n",
      "Data columns (total 13 columns):\n",
      " #   Column                    Non-Null Count  Dtype  \n",
      "---  ------                    --------------  -----  \n",
      " 0   age                       299 non-null    float64\n",
      " 1   anaemia                   299 non-null    int64  \n",
      " 2   creatinine_phosphokinase  299 non-null    int64  \n",
      " 3   diabetes                  299 non-null    int64  \n",
      " 4   ejection_fraction         299 non-null    int64  \n",
      " 5   high_blood_pressure       299 non-null    int64  \n",
      " 6   platelets                 299 non-null    float64\n",
      " 7   serum_creatinine          299 non-null    float64\n",
      " 8   serum_sodium              299 non-null    int64  \n",
      " 9   sex                       299 non-null    int64  \n",
      " 10  smoking                   299 non-null    int64  \n",
      " 11  time                      299 non-null    int64  \n",
      " 12  DEATH_EVENT               299 non-null    int64  \n",
      "dtypes: float64(3), int64(10)\n",
      "memory usage: 30.5 KB\n"
     ]
    }
   ],
   "source": [
    "df.info()"
   ]
  },
  {
   "cell_type": "code",
   "execution_count": 4,
   "metadata": {},
   "outputs": [
    {
     "data": {
      "text/html": [
       "<div>\n",
       "<style scoped>\n",
       "    .dataframe tbody tr th:only-of-type {\n",
       "        vertical-align: middle;\n",
       "    }\n",
       "\n",
       "    .dataframe tbody tr th {\n",
       "        vertical-align: top;\n",
       "    }\n",
       "\n",
       "    .dataframe thead th {\n",
       "        text-align: right;\n",
       "    }\n",
       "</style>\n",
       "<table border=\"1\" class=\"dataframe\">\n",
       "  <thead>\n",
       "    <tr style=\"text-align: right;\">\n",
       "      <th></th>\n",
       "      <th>age</th>\n",
       "      <th>anaemia</th>\n",
       "      <th>creatinine_phosphokinase</th>\n",
       "      <th>diabetes</th>\n",
       "      <th>ejection_fraction</th>\n",
       "      <th>high_blood_pressure</th>\n",
       "      <th>platelets</th>\n",
       "      <th>serum_creatinine</th>\n",
       "      <th>serum_sodium</th>\n",
       "      <th>sex</th>\n",
       "      <th>smoking</th>\n",
       "      <th>time</th>\n",
       "      <th>DEATH_EVENT</th>\n",
       "    </tr>\n",
       "  </thead>\n",
       "  <tbody>\n",
       "    <tr>\n",
       "      <th>0</th>\n",
       "      <td>75.0</td>\n",
       "      <td>0</td>\n",
       "      <td>582</td>\n",
       "      <td>0</td>\n",
       "      <td>20</td>\n",
       "      <td>1</td>\n",
       "      <td>265000.00</td>\n",
       "      <td>1.9</td>\n",
       "      <td>130</td>\n",
       "      <td>1</td>\n",
       "      <td>0</td>\n",
       "      <td>4</td>\n",
       "      <td>1</td>\n",
       "    </tr>\n",
       "    <tr>\n",
       "      <th>1</th>\n",
       "      <td>55.0</td>\n",
       "      <td>0</td>\n",
       "      <td>7861</td>\n",
       "      <td>0</td>\n",
       "      <td>38</td>\n",
       "      <td>0</td>\n",
       "      <td>263358.03</td>\n",
       "      <td>1.1</td>\n",
       "      <td>136</td>\n",
       "      <td>1</td>\n",
       "      <td>0</td>\n",
       "      <td>6</td>\n",
       "      <td>1</td>\n",
       "    </tr>\n",
       "    <tr>\n",
       "      <th>2</th>\n",
       "      <td>65.0</td>\n",
       "      <td>0</td>\n",
       "      <td>146</td>\n",
       "      <td>0</td>\n",
       "      <td>20</td>\n",
       "      <td>0</td>\n",
       "      <td>162000.00</td>\n",
       "      <td>1.3</td>\n",
       "      <td>129</td>\n",
       "      <td>1</td>\n",
       "      <td>1</td>\n",
       "      <td>7</td>\n",
       "      <td>1</td>\n",
       "    </tr>\n",
       "    <tr>\n",
       "      <th>3</th>\n",
       "      <td>50.0</td>\n",
       "      <td>1</td>\n",
       "      <td>111</td>\n",
       "      <td>0</td>\n",
       "      <td>20</td>\n",
       "      <td>0</td>\n",
       "      <td>210000.00</td>\n",
       "      <td>1.9</td>\n",
       "      <td>137</td>\n",
       "      <td>1</td>\n",
       "      <td>0</td>\n",
       "      <td>7</td>\n",
       "      <td>1</td>\n",
       "    </tr>\n",
       "    <tr>\n",
       "      <th>4</th>\n",
       "      <td>65.0</td>\n",
       "      <td>1</td>\n",
       "      <td>160</td>\n",
       "      <td>1</td>\n",
       "      <td>20</td>\n",
       "      <td>0</td>\n",
       "      <td>327000.00</td>\n",
       "      <td>2.7</td>\n",
       "      <td>116</td>\n",
       "      <td>0</td>\n",
       "      <td>0</td>\n",
       "      <td>8</td>\n",
       "      <td>1</td>\n",
       "    </tr>\n",
       "  </tbody>\n",
       "</table>\n",
       "</div>"
      ],
      "text/plain": [
       "    age  anaemia  creatinine_phosphokinase  diabetes  ejection_fraction  \\\n",
       "0  75.0        0                       582         0                 20   \n",
       "1  55.0        0                      7861         0                 38   \n",
       "2  65.0        0                       146         0                 20   \n",
       "3  50.0        1                       111         0                 20   \n",
       "4  65.0        1                       160         1                 20   \n",
       "\n",
       "   high_blood_pressure  platelets  serum_creatinine  serum_sodium  sex  \\\n",
       "0                    1  265000.00               1.9           130    1   \n",
       "1                    0  263358.03               1.1           136    1   \n",
       "2                    0  162000.00               1.3           129    1   \n",
       "3                    0  210000.00               1.9           137    1   \n",
       "4                    0  327000.00               2.7           116    0   \n",
       "\n",
       "   smoking  time  DEATH_EVENT  \n",
       "0        0     4            1  \n",
       "1        0     6            1  \n",
       "2        1     7            1  \n",
       "3        0     7            1  \n",
       "4        0     8            1  "
      ]
     },
     "execution_count": 4,
     "metadata": {},
     "output_type": "execute_result"
    }
   ],
   "source": [
    "df.head()"
   ]
  },
  {
   "cell_type": "code",
   "execution_count": 5,
   "metadata": {},
   "outputs": [
    {
     "data": {
      "text/plain": [
       "0    203\n",
       "1     96\n",
       "Name: DEATH_EVENT, dtype: int64"
      ]
     },
     "execution_count": 5,
     "metadata": {},
     "output_type": "execute_result"
    }
   ],
   "source": [
    "df[\"DEATH_EVENT\"].value_counts()"
   ]
  },
  {
   "cell_type": "code",
   "execution_count": 6,
   "metadata": {},
   "outputs": [
    {
     "data": {
      "text/plain": [
       "(299, 13)"
      ]
     },
     "execution_count": 6,
     "metadata": {},
     "output_type": "execute_result"
    }
   ],
   "source": [
    "df.shape"
   ]
  },
  {
   "cell_type": "code",
   "execution_count": 7,
   "metadata": {},
   "outputs": [
    {
     "data": {
      "image/png": "[encoded data removed]",
      "text/plain": [
       "<Figure size 864x864 with 2 Axes>"
      ]
     },
     "metadata": {
      "needs_background": "light"
     },
     "output_type": "display_data"
    }
   ],
   "source": [
    "plt.figure(figsize=(12,12))\n",
    "mask = np.triu(np.ones_like(df.corr()), k=0) \n",
    "sns.heatmap(df.corr(), annot=True, mask = mask, vmin=-1., vmax=1.)\n",
    "pass"
   ]
  },
  {
   "cell_type": "code",
   "execution_count": 8,
   "metadata": {},
   "outputs": [
    {
     "data": {
      "text/plain": [
       "serum_creatinine            0.294278\n",
       "age                         0.253729\n",
       "high_blood_pressure         0.079351\n",
       "anaemia                     0.066270\n",
       "creatinine_phosphokinase    0.062728\n",
       "diabetes                   -0.001943\n",
       "sex                        -0.004316\n",
       "smoking                    -0.012623\n",
       "platelets                  -0.049139\n",
       "serum_sodium               -0.195204\n",
       "ejection_fraction          -0.268603\n",
       "time                       -0.526964\n",
       "Name: DEATH_EVENT, dtype: float64"
      ]
     },
     "execution_count": 8,
     "metadata": {},
     "output_type": "execute_result"
    }
   ],
   "source": [
    "df.corr()[\"DEATH_EVENT\"].sort_values(ascending=False)[1:]"
   ]
  },
  {
   "cell_type": "code",
   "execution_count": 9,
   "metadata": {},
   "outputs": [
    {
     "data": {
      "image/png": "[encoded data removed]",
      "text/plain": [
       "<Figure size 432x288 with 2 Axes>"
      ]
     },
     "metadata": {
      "needs_background": "light"
     },
     "output_type": "display_data"
    }
   ],
   "source": [
    "sns.heatmap(df.corr()[['DEATH_EVENT']].sort_values(by='DEATH_EVENT', ascending=False), annot = True)\n",
    "plt.show()"
   ]
  },
  {
   "cell_type": "code",
   "execution_count": 10,
   "metadata": {},
   "outputs": [
    {
     "data": {
      "image/png": "[encoded data removed]",
      "text/plain": [
       "<Figure size 432x288 with 1 Axes>"
      ]
     },
     "metadata": {
      "needs_background": "light"
     },
     "output_type": "display_data"
    },
    {
     "data": {
      "image/png": "[encoded data removed]",
      "text/plain": [
       "<Figure size 432x288 with 1 Axes>"
      ]
     },
     "metadata": {
      "needs_background": "light"
     },
     "output_type": "display_data"
    },
    {
     "data": {
      "image/png": "[encoded data removed]",
      "text/plain": [
       "<Figure size 432x288 with 1 Axes>"
      ]
     },
     "metadata": {
      "needs_background": "light"
     },
     "output_type": "display_data"
    },
    {
     "data": {
      "image/png": "[encoded data removed]",
      "text/plain": [
       "<Figure size 432x288 with 1 Axes>"
      ]
     },
     "metadata": {
      "needs_background": "light"
     },
     "output_type": "display_data"
    },
    {
     "data": {
      "image/png": "[encoded data removed]",
      "text/plain": [
       "<Figure size 432x288 with 1 Axes>"
      ]
     },
     "metadata": {
      "needs_background": "light"
     },
     "output_type": "display_data"
    }
   ],
   "source": [
    "columns = [\"serum_creatinine\", \"age\", \"high_blood_pressure\", \"anaemia\", \"creatinine_phosphokinase\"]\n",
    "\n",
    "for i in columns:\n",
    "    sns.boxplot(df[i])\n",
    "    plt.title(i)\n",
    "    plt.show()"
   ]
  },
  {
   "cell_type": "code",
   "execution_count": 11,
   "metadata": {},
   "outputs": [],
   "source": [
    "# Train test split został wykonany przez Błażeja, który udostępnił nam dane abyśmy mogli pracować na takich samych zbiorach"
   ]
  },
  {
   "cell_type": "code",
   "execution_count": 12,
   "metadata": {},
   "outputs": [],
   "source": [
    "X_train, y_train = train.drop(columns=\"DEATH_EVENT\"), train[\"DEATH_EVENT\"]\n",
    "X_test, y_test = test.drop(columns=\"DEATH_EVENT\"), test[\"DEATH_EVENT\"]"
   ]
  },
  {
   "cell_type": "code",
   "execution_count": 13,
   "metadata": {},
   "outputs": [
    {
     "name": "stdout",
     "output_type": "stream",
     "text": [
      "Confusion matrix:  \n",
      " [[162   0]\n",
      " [  0  77]] \n",
      "\n",
      "Classification matrix:  \n",
      "               precision    recall  f1-score   support\n",
      "\n",
      "           0       1.00      1.00      1.00       162\n",
      "           1       1.00      1.00      1.00        77\n",
      "\n",
      "    accuracy                           1.00       239\n",
      "   macro avg       1.00      1.00      1.00       239\n",
      "weighted avg       1.00      1.00      1.00       239\n",
      "\n",
      "Confusion matrix:  \n",
      " [[39  2]\n",
      " [ 6 13]] \n",
      "\n",
      "Classification matrix:  \n",
      "               precision    recall  f1-score   support\n",
      "\n",
      "           0       0.87      0.95      0.91        41\n",
      "           1       0.87      0.68      0.76        19\n",
      "\n",
      "    accuracy                           0.87        60\n",
      "   macro avg       0.87      0.82      0.84        60\n",
      "weighted avg       0.87      0.87      0.86        60\n",
      "\n"
     ]
    }
   ],
   "source": [
    "dtc = DecisionTreeClassifier().fit(X_train, y_train)\n",
    "y_pred = dtc.predict(X_train)\n",
    "y_pred2 = dtc.predict(X_test)\n",
    "\n",
    "print(\"Confusion matrix: \",\"\\n\", confusion_matrix(y_train, y_pred),\"\\n\")\n",
    "print(\"Classification matrix: \",\"\\n\", classification_report(y_train, y_pred))\n",
    "print(\"Confusion matrix: \",\"\\n\", confusion_matrix(y_test, y_pred2),\"\\n\")\n",
    "print(\"Classification matrix: \",\"\\n\", classification_report(y_test, y_pred2))"
   ]
  },
  {
   "cell_type": "code",
   "execution_count": 14,
   "metadata": {},
   "outputs": [],
   "source": [
    "params_grid = {\"max_depth\": [3,5,7,10, None],\n",
    "              \"max_features\": list(range(1,14)),\n",
    "              \"min_samples_leaf\": [1, 3, 5]\n",
    "}"
   ]
  },
  {
   "cell_type": "code",
   "execution_count": 15,
   "metadata": {},
   "outputs": [
    {
     "data": {
      "text/plain": [
       "GridSearchCV(cv=5, estimator=DecisionTreeClassifier(),\n",
       "             param_grid={'max_depth': [3, 5, 7, 10, None],\n",
       "                         'max_features': [1, 2, 3, 4, 5, 6, 7, 8, 9, 10, 11, 12,\n",
       "                                          13],\n",
       "                         'min_samples_leaf': [1, 3, 5]})"
      ]
     },
     "execution_count": 15,
     "metadata": {},
     "output_type": "execute_result"
    }
   ],
   "source": [
    "grid_search = GridSearchCV(dtc, param_grid=params_grid, cv=5, verbose=0)\n",
    "grid_search.fit(X_train, y_train)"
   ]
  },
  {
   "cell_type": "code",
   "execution_count": 16,
   "metadata": {},
   "outputs": [
    {
     "data": {
      "text/plain": [
       "{'max_depth': 3, 'max_features': 7, 'min_samples_leaf': 5}"
      ]
     },
     "execution_count": 16,
     "metadata": {},
     "output_type": "execute_result"
    }
   ],
   "source": [
    "grid_search.best_params_"
   ]
  },
  {
   "cell_type": "code",
   "execution_count": 17,
   "metadata": {},
   "outputs": [
    {
     "name": "stdout",
     "output_type": "stream",
     "text": [
      "Confusion matrix:  \n",
      " [[152  10]\n",
      " [ 15  62]]\n",
      "Classification matrix:  \n",
      "               precision    recall  f1-score   support\n",
      "\n",
      "           0       0.91      0.94      0.92       162\n",
      "           1       0.86      0.81      0.83        77\n",
      "\n",
      "    accuracy                           0.90       239\n",
      "   macro avg       0.89      0.87      0.88       239\n",
      "weighted avg       0.89      0.90      0.89       239\n",
      "\n",
      "Confusion matrix:  \n",
      " [[37  4]\n",
      " [ 5 14]]\n",
      "Classification matrix:  \n",
      "               precision    recall  f1-score   support\n",
      "\n",
      "           0       0.88      0.90      0.89        41\n",
      "           1       0.78      0.74      0.76        19\n",
      "\n",
      "    accuracy                           0.85        60\n",
      "   macro avg       0.83      0.82      0.82        60\n",
      "weighted avg       0.85      0.85      0.85        60\n",
      "\n"
     ]
    }
   ],
   "source": [
    "dtc_params = DecisionTreeClassifier(max_depth=5, max_features=8, min_samples_leaf=5).fit(X_train, y_train)\n",
    "y_predCV = dtc_params.predict(X_train)\n",
    "y_predCV2 = dtc_params.predict(X_test)\n",
    "\n",
    "print(\"Confusion matrix: \",\"\\n\", confusion_matrix(y_train, y_predCV))\n",
    "print(\"Classification matrix: \",\"\\n\", classification_report(y_train, y_predCV))\n",
    "print(\"Confusion matrix: \",\"\\n\", confusion_matrix(y_test, y_predCV2))\n",
    "print(\"Classification matrix: \",\"\\n\", classification_report(y_test, y_predCV2))"
   ]
  },
  {
   "cell_type": "code",
   "execution_count": 18,
   "metadata": {},
   "outputs": [],
   "source": [
    "# undersample = imb.under_sampling.RandomUnderSampler()\n",
    "# X_test2, y_test2 = undersample.fit_resample(X,y)"
   ]
  },
  {
   "cell_type": "markdown",
   "metadata": {},
   "source": [
    "Random Forrest Classifier z domyślnymi parametrami\n",
    "Sprawdzenie modelu na danych treningowych oraz testowych"
   ]
  },
  {
   "cell_type": "code",
   "execution_count": 19,
   "metadata": {},
   "outputs": [
    {
     "name": "stdout",
     "output_type": "stream",
     "text": [
      "Confusion matrix:  \n",
      " [[162   0]\n",
      " [  0  77]]\n",
      "Classification matrix:  \n",
      "               precision    recall  f1-score   support\n",
      "\n",
      "           0       1.00      1.00      1.00       162\n",
      "           1       1.00      1.00      1.00        77\n",
      "\n",
      "    accuracy                           1.00       239\n",
      "   macro avg       1.00      1.00      1.00       239\n",
      "weighted avg       1.00      1.00      1.00       239\n",
      "\n",
      "Confusion matrix:  \n",
      " [[40  1]\n",
      " [ 5 14]]\n",
      "Classification matrix:  \n",
      "               precision    recall  f1-score   support\n",
      "\n",
      "           0       0.89      0.98      0.93        41\n",
      "           1       0.93      0.74      0.82        19\n",
      "\n",
      "    accuracy                           0.90        60\n",
      "   macro avg       0.91      0.86      0.88        60\n",
      "weighted avg       0.90      0.90      0.90        60\n",
      "\n"
     ]
    }
   ],
   "source": [
    "rdc = RandomForestClassifier().fit(X_train, y_train)\n",
    "y_predRDC = rdc.predict(X_train)\n",
    "y_predRDC2 = rdc.predict(X_test)\n",
    "\n",
    "print(\"Confusion matrix: \",\"\\n\", confusion_matrix(y_train, y_predRDC))\n",
    "print(\"Classification matrix: \",\"\\n\", classification_report(y_train, y_predRDC))\n",
    "print(\"Confusion matrix: \",\"\\n\", confusion_matrix(y_test, y_predRDC2))\n",
    "print(\"Classification matrix: \",\"\\n\", classification_report(y_test, y_predRDC2))"
   ]
  },
  {
   "cell_type": "code",
   "execution_count": 20,
   "metadata": {},
   "outputs": [],
   "source": [
    "param_random = {\"max_depth\": [3, 5, 7, None],\n",
    "                \"n_estimators\": [100, 200, 500],\n",
    "                \"max_features\": list(range(1, 14)),\n",
    "                \"min_samples_leaf\": [1,3,5] \n",
    "}"
   ]
  },
  {
   "cell_type": "code",
   "execution_count": 21,
   "metadata": {},
   "outputs": [],
   "source": [
    "random_search = RandomizedSearchCV(rdc,\n",
    "                                   param_distributions=param_random,\n",
    "                                   cv=5,\n",
    "                                   n_iter=10,\n",
    "                                   verbose=1, \n",
    "                                   scoring='f1_macro',\n",
    "                                   random_state=42)"
   ]
  },
  {
   "cell_type": "code",
   "execution_count": 22,
   "metadata": {},
   "outputs": [
    {
     "name": "stdout",
     "output_type": "stream",
     "text": [
      "Fitting 5 folds for each of 10 candidates, totalling 50 fits\n"
     ]
    },
    {
     "data": {
      "text/plain": [
       "RandomizedSearchCV(cv=5, estimator=RandomForestClassifier(),\n",
       "                   param_distributions={'max_depth': [3, 5, 7, None],\n",
       "                                        'max_features': [1, 2, 3, 4, 5, 6, 7, 8,\n",
       "                                                         9, 10, 11, 12, 13],\n",
       "                                        'min_samples_leaf': [1, 3, 5],\n",
       "                                        'n_estimators': [100, 200, 500]},\n",
       "                   random_state=42, scoring='f1_macro', verbose=1)"
      ]
     },
     "execution_count": 22,
     "metadata": {},
     "output_type": "execute_result"
    }
   ],
   "source": [
    "random_search.fit(X_train, y_train)"
   ]
  },
  {
   "cell_type": "code",
   "execution_count": 23,
   "metadata": {},
   "outputs": [
    {
     "data": {
      "text/plain": [
       "{'n_estimators': 100, 'min_samples_leaf': 5, 'max_features': 4, 'max_depth': 3}"
      ]
     },
     "execution_count": 23,
     "metadata": {},
     "output_type": "execute_result"
    }
   ],
   "source": [
    "random_search.best_params_"
   ]
  },
  {
   "cell_type": "code",
   "execution_count": 24,
   "metadata": {},
   "outputs": [],
   "source": [
    "rdc_2 = RandomForestClassifier(n_estimators=500, min_samples_leaf=3, max_features=9, max_depth=None).fit(X_train, y_train)"
   ]
  },
  {
   "cell_type": "code",
   "execution_count": 25,
   "metadata": {},
   "outputs": [
    {
     "name": "stdout",
     "output_type": "stream",
     "text": [
      "Confusion matrix:  \n",
      " [[159   3]\n",
      " [  4  73]]\n",
      "Classification matrix:  \n",
      "               precision    recall  f1-score   support\n",
      "\n",
      "           0       0.98      0.98      0.98       162\n",
      "           1       0.96      0.95      0.95        77\n",
      "\n",
      "    accuracy                           0.97       239\n",
      "   macro avg       0.97      0.96      0.97       239\n",
      "weighted avg       0.97      0.97      0.97       239\n",
      "\n",
      "Confusion matrix:  \n",
      " [[40  1]\n",
      " [ 5 14]]\n",
      "Classification matrix:  \n",
      "               precision    recall  f1-score   support\n",
      "\n",
      "           0       0.89      0.98      0.93        41\n",
      "           1       0.93      0.74      0.82        19\n",
      "\n",
      "    accuracy                           0.90        60\n",
      "   macro avg       0.91      0.86      0.88        60\n",
      "weighted avg       0.90      0.90      0.90        60\n",
      "\n"
     ]
    }
   ],
   "source": [
    "y_predRDC_CV = rdc_2.predict(X_train)\n",
    "y_predRDC_CV2 = rdc_2.predict(X_test)\n",
    "\n",
    "\n",
    "print(\"Confusion matrix: \",\"\\n\", confusion_matrix(y_train, y_predRDC_CV))\n",
    "print(\"Classification matrix: \",\"\\n\", classification_report(y_train, y_predRDC_CV))\n",
    "print(\"Confusion matrix: \",\"\\n\", confusion_matrix(y_test, y_predRDC_CV2))\n",
    "print(\"Classification matrix: \",\"\\n\", classification_report(y_test, y_predRDC_CV2))"
   ]
  },
  {
   "cell_type": "markdown",
   "metadata": {},
   "source": [
    "Test modelu po wybraniu najlepszych zmiennych"
   ]
  },
  {
   "cell_type": "code",
   "execution_count": 26,
   "metadata": {},
   "outputs": [],
   "source": [
    "X = train.drop(columns=\"DEATH_EVENT\", axis=1)\n",
    "y = train[\"DEATH_EVENT\"]"
   ]
  },
  {
   "cell_type": "code",
   "execution_count": 27,
   "metadata": {},
   "outputs": [
    {
     "name": "stdout",
     "output_type": "stream",
     "text": [
      "[0.10575722 0.01419029 0.07263759 0.01545612 0.12932342 0.01518999\n",
      " 0.0886832  0.12609735 0.07041194 0.01666415 0.0137286  0.33186011]\n"
     ]
    },
    {
     "data": {
      "image/png": "[encoded data removed]",
      "text/plain": [
       "<Figure size 432x288 with 1 Axes>"
      ]
     },
     "metadata": {
      "needs_background": "light"
     },
     "output_type": "display_data"
    }
   ],
   "source": [
    "model = RandomForestClassifier()\n",
    "model.fit(X,y)\n",
    "print(model.feature_importances_)\n",
    "feat_importances = pd.Series(model.feature_importances_, index=X.columns)\n",
    "feat_importances.nlargest(12).plot(kind='barh')\n",
    "plt.show()"
   ]
  },
  {
   "cell_type": "code",
   "execution_count": 28,
   "metadata": {},
   "outputs": [],
   "source": [
    "X_train2, X_test2 = train.iloc[:,[0,4,7,11]], test.iloc[:, [0,4,7,11]]"
   ]
  },
  {
   "cell_type": "code",
   "execution_count": 29,
   "metadata": {},
   "outputs": [],
   "source": [
    "sc=StandardScaler()\n",
    "X_train2 = sc.fit_transform(X_train2)\n",
    "X_test2 = sc.fit_transform(X_test2)"
   ]
  },
  {
   "cell_type": "code",
   "execution_count": 30,
   "metadata": {},
   "outputs": [
    {
     "name": "stdout",
     "output_type": "stream",
     "text": [
      "Fitting 10 folds for each of 135 candidates, totalling 1350 fits\n"
     ]
    },
    {
     "data": {
      "text/plain": [
       "{'max_depth': 2,\n",
       " 'max_features': 'auto',\n",
       " 'min_samples_split': 2,\n",
       " 'n_estimators': 500}"
      ]
     },
     "execution_count": 30,
     "metadata": {},
     "output_type": "execute_result"
    }
   ],
   "source": [
    "param_grid2 = {\n",
    "    \"n_estimators\": [100, 500, 1000],\n",
    "    \"max_features\": [0.5,1,'auto'],\n",
    "    \"max_depth\": [1,2,3,4,None],\n",
    "    \"min_samples_split\": [2,5,8]\n",
    "}\n",
    "\n",
    "clf = RandomForestClassifier()\n",
    "grid = GridSearchCV(clf, param_grid2, n_jobs=-1, verbose=2, cv=10)\n",
    "grid.fit(X_train2, y_train)\n",
    "grid.best_params_"
   ]
  },
  {
   "cell_type": "code",
   "execution_count": 31,
   "metadata": {},
   "outputs": [],
   "source": [
    "clf = RandomForestClassifier(\n",
    "    n_estimators=500,\n",
    "    max_features=\"auto\",\n",
    "    max_depth=2,\n",
    "    min_samples_split=8,\n",
    "    random_state=0)"
   ]
  },
  {
   "cell_type": "code",
   "execution_count": 34,
   "metadata": {},
   "outputs": [
    {
     "name": "stdout",
     "output_type": "stream",
     "text": [
      "Confusion matrix:  \n",
      " [[154   8]\n",
      " [ 24  53]]\n",
      "Classification matrix:  \n",
      "               precision    recall  f1-score   support\n",
      "\n",
      "           0       0.87      0.95      0.91       162\n",
      "           1       0.87      0.69      0.77        77\n",
      "\n",
      "    accuracy                           0.87       239\n",
      "   macro avg       0.87      0.82      0.84       239\n",
      "weighted avg       0.87      0.87      0.86       239\n",
      "\n",
      "Confusion matrix:  \n",
      " [[40  1]\n",
      " [ 7 12]]\n",
      "Classification matrix:  \n",
      "               precision    recall  f1-score   support\n",
      "\n",
      "           0       0.85      0.98      0.91        41\n",
      "           1       0.92      0.63      0.75        19\n",
      "\n",
      "    accuracy                           0.87        60\n",
      "   macro avg       0.89      0.80      0.83        60\n",
      "weighted avg       0.87      0.87      0.86        60\n",
      "\n"
     ]
    }
   ],
   "source": [
    "clf.fit(X_train2, y_train)\n",
    "y_prediction = clf.predict(X_train2)\n",
    "y_prediction2 = clf.predict(X_test2)\n",
    "\n",
    "print(\"Confusion matrix: \",\"\\n\", confusion_matrix(y_train, y_prediction))\n",
    "print(\"Classification matrix: \",\"\\n\", classification_report(y_train, y_prediction))\n",
    "\n",
    "print(\"Confusion matrix: \",\"\\n\", confusion_matrix(y_test, y_prediction2))\n",
    "print(\"Classification matrix: \",\"\\n\", classification_report(y_test, y_prediction2))"
   ]
  },
  {
   "cell_type": "code",
   "execution_count": null,
   "metadata": {},
   "outputs": [],
   "source": [
    "# Reporting\n",
    "# I evaluated the results I found with Confusion Matrix, the results are as follows:\n",
    "\n",
    "# Correctly predicted -> %95.00 (282 of 297 predict are correct)\n",
    "\n",
    "# True Negative -> %68.33 (41 people) -> Those who were predicted not to die and who did not die\n",
    "# True Positive -> %26.67 (16 people) -> Those who were predicted to die and who did die\n",
    "# Wrong predicted-> %10.98 (15 of 297 predict are wrong)\n",
    "\n",
    "# False Positive -> %3.33 (2 people) -> Those who were predicted to die but who did not die\n",
    "# False Negative -> %01.67 (1 people) -> Those who were predicted to not die but who did die"
   ]
  },
  {
   "cell_type": "code",
   "execution_count": null,
   "metadata": {},
   "outputs": [],
   "source": [
    "# Przetestować bez outlierow"
   ]
  }
 ],
 "metadata": {
  "interpreter": {
   "hash": "26de051ba29f2982a8de78e945f0abaf191376122a1563185a90213a26c5da77"
  },
  "kernelspec": {
   "display_name": "Python 3.10.2 64-bit (system)",
   "language": "python",
   "name": "python3"
  },
  "language_info": {
   "codemirror_mode": {
    "name": "ipython",
    "version": 3
   },
   "file_extension": ".py",
   "mimetype": "text/x-python",
   "name": "python",
   "nbconvert_exporter": "python",
   "pygments_lexer": "ipython3",
   "version": "3.10.2"
  },
  "orig_nbformat": 4
 },
 "nbformat": 4,
 "nbformat_minor": 2
}
