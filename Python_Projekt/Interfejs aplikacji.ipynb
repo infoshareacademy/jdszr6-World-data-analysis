{
 "cells": [
  {
   "cell_type": "code",
   "execution_count": null,
   "metadata": {},
   "outputs": [],
   "source": [
    "#Budowa interfejsu dla aplikacji\n",
    "\n",
    "# 1. Na początku musi być okno witające z jakimś opisem oraz przyciskiem aby przejść dalej\n",
    "# 2. Następnie przechodzimy do formularza\n",
    "#    - formularz będzie zawierać różnego rodzaju okna do wypełnienia\n",
    "# 3. Na końcu jest przycisk do wygenerowania wyników\n",
    "# 4. Wyniki będą pokazane w sposób opisowy oraz graficzny\n"
   ]
  },
  {
   "cell_type": "code",
   "execution_count": 1,
   "metadata": {},
   "outputs": [],
   "source": [
    "from tkinter import *\n",
    "import colorama as clma\n",
    "import ipywidgets as wg\n",
    "from IPython.display import display\n",
    "from tkinter.ttk import Combobox\n",
    "from tkinter import messagebox\n",
    "from tkPDFViewer import tkPDFViewer as pdf\n",
    "import matplotlib.pyplot as plt\n",
    "import plotly.graph_objects as go"
   ]
  },
  {
   "cell_type": "code",
   "execution_count": null,
   "metadata": {},
   "outputs": [],
   "source": [
    "window = Tk()\n",
    "window.title(\"Aplikacja\")\n",
    "window.geometry(\"600x400\")\n",
    "\n",
    "\n",
    "\n",
    "def myClick():\n",
    "    top = Toplevel()\n",
    "    top.title(\"Nowe okno\")\n",
    "    top.geometry(\"600x400\")\n",
    "    #menubar = Menu(top)\n",
    "    #file = Menu(menubar, tearoff=0)\n",
    "    #file.add_command(label=\"New\")\n",
    "    #file.add_command(label=\"Save as...\")\n",
    "    #file.add_separator()  \n",
    "    #file.add_command(label=\"Exit\", command=top.quit)  \n",
    "    #menubar.add_cascade(label=\"File\", menu=file)  \n",
    "    Instruction_1 = Label(top, text=\"Prosimy o wpisanie poniższych danych\").pack()\n",
    "    name = Label(top, text=\"Name\").place(x=30, y=50)\n",
    "    name_entry = Entry(top).place(x=80, y=50)\n",
    "    empty_line = Label(top).pack()\n",
    "    quit_button = Button(top, text=\"Close\", command=top.destroy).place(x=30, y=200)\n",
    "    #top.config(menu=menubar)\n",
    "    #top.mainloop()\n",
    "\n",
    "empty_line = Label(window).grid(row=0, column=2)\n",
    "welcome_label = Label(window, text=\"Witamy w aplikacji. Aby uruchomić program proszę wciśnij poniższy przycisk\").place(x=100, y=10)\n",
    "\n",
    "empty_line = Label(window).grid(row=2, column=2)\n",
    "run_program = Button(window, text=\"Uruchom program\", padx=12, command=myClick).grid(row=3, column=2)\n",
    "\n",
    "\n",
    "empty_line = Label(window).grid(row=4, column=2)\n",
    "quit_button = Button(text=\"Quit\", padx=50, command=window.destroy).grid(row=5, column=2)\n",
    "\n",
    "\n",
    "window.mainloop()\n"
   ]
  },
  {
   "cell_type": "code",
   "execution_count": null,
   "metadata": {},
   "outputs": [],
   "source": [
    "print(values)\n",
    "# Na końcu będzie jeszcze możliwość aby wygenerować raport z wprowadzonymi danymi oraz aby wysłać ten raport na email lub go pobrać."
   ]
  },
  {
   "cell_type": "code",
   "execution_count": null,
   "metadata": {},
   "outputs": [],
   "source": [
    "# Strona druga\n",
    "\n",
    "\n",
    "def save_info():\n",
    "    gendername_info = gendername.get()\n",
    "    age_info = age.get()\n",
    "    hypertension_info = hypertension.get()\n",
    "    values[\"gender\"] = gendername_info\n",
    "    values[\"age\"] = age_info\n",
    "    values[\"hypertension\"] = hypertension_info\n",
    "\n",
    "def open():\n",
    "    global values\n",
    "    global gender_name\n",
    "    global gendername_entry\n",
    "    top = Toplevel()\n",
    "    top.title(\"Aplikacja\")\n",
    "    top.geometry(\"400x400\")\n",
    "    heading = Label(text=\"Witamy w naszej aplikacji\", bg=\"navy\", fg=\"white\", width=\"500\", height=\"3\")\n",
    "    heading.pack()\n",
    "    gendername = StringVar()\n",
    "    age = IntVar()\n",
    "    hypertension = StringVar()\n",
    "    values = {\"gender\": gendername, \"age\": age, \"hypertension\": hypertension}\n",
    "    gender_name = Label(top, text=\"Gender\").place(x=10, y=60)\n",
    "    gendername_entry = Entry(textvariable=gendername).place(x=100, y=60)\n",
    "    age_number = Label(top, text=\"Age\"). place(x=10, y=90)\n",
    "    age_entry = Entry(textvariable=age).place(x=100, y=90)\n",
    "    hypertension_value = Label(top, text=\"Hypertension\").place(x=10, y=120)\n",
    "    hypertension_entry = Entry(textvariable=hypertension).place(x=100, y=120)\n",
    "    execute_btn = Button(top, text=\"Pobierz dane\", command=save_info, width=\"16\")\n",
    "    execute_btn.place(x=100, y=150)\n",
    "    close_btn = Button(top, text=\"Zamknij program\", command=top.destroy)\n",
    "    close_btn.place(x=250, y=350, width=\"122\")\n",
    "    \n"
   ]
  },
  {
   "cell_type": "code",
   "execution_count": null,
   "metadata": {},
   "outputs": [],
   "source": [
    "print(values)\n",
    "# 1. gender - lista rozwijana\n",
    "# 2. age - suwak\n",
    "# 3. 3 - 4 - radio button\n",
    "# 4. 5 - 7 - lista rozwijana\n",
    "# 5. 8 - 9 - input\n",
    "# 6. 10 - lista rozwijana\n",
    "# 7. 11 - radio button\n",
    "\n"
   ]
  },
  {
   "cell_type": "code",
   "execution_count": null,
   "metadata": {},
   "outputs": [],
   "source": [
    "# pole tekstowe do wprowadzania danych\n"
   ]
  },
  {
   "cell_type": "code",
   "execution_count": null,
   "metadata": {},
   "outputs": [],
   "source": [
    "# sprobować poprzez funkcję wstawić tekst do słownika po kliknięciu przycisku\n",
    "# wstawić porady odnośnie elementów które sa podwyższone\n",
    "print(values)\n",
    "\n"
   ]
  },
  {
   "cell_type": "code",
   "execution_count": null,
   "metadata": {},
   "outputs": [],
   "source": [
    "master = Tk()\n",
    "master.title(\"Aplikacja\")\n",
    "master.geometry(\"400x400\")\n",
    "heading = Label(text=\"Zapraszamy do badania\", bg=\"navy\", fg=\"white\", width=\"500\", height=\"3\")\n",
    "heading.pack()\n",
    "\n",
    "gendername = StringVar()\n",
    "age = IntVar()\n",
    "hypertension = StringVar()\n",
    "heart_disease = StringVar()\n",
    "ever_married = StringVar()\n",
    "work_type = StringVar()\n",
    "residence_type = StringVar()\n",
    "avg_glucose_level = IntVar()\n",
    "bmi = IntVar()\n",
    "stroke = StringVar()   \n",
    "\n",
    "# listy rozwijane\n",
    "gender = StringVar()\n",
    "\n",
    "\n",
    "values = {\"gender\": gendername,\n",
    "            \"age\": age,\n",
    "            \"hypertension\": hypertension,\n",
    "            \"heart disease\": heart_disease,\n",
    "            \"ever married\": ever_married,\n",
    "            \"work type\": work_type,\n",
    "            \"residence type\": residence_type,\n",
    "            \"avg glucose level\": avg_glucose_level,\n",
    "            \"bmi\": bmi,\n",
    "            \"stroke\": stroke\n",
    "            }\n",
    "\n",
    "gender_options = [\n",
    "    \"Wybierz płeć\",\n",
    "    \"Kobieta\",\n",
    "    \"Mężczyzna\"\n",
    "]\n",
    "\n",
    "def save_info():\n",
    "    gendername_info = gendername.get()\n",
    "    age_info = age.get()\n",
    "    hypertension_info = hypertension.get()\n",
    "    heart_disease_info = hypertension.get()\n",
    "    ever_married_info = ever_married.get()\n",
    "    work_type_info = work_type.get()\n",
    "    residence_type_info = residence_type.get()\n",
    "    avg_glucose_level_info = avg_glucose_level.get()\n",
    "    bmi_info = bmi.get()\n",
    "    stroke_info = stroke.get()\n",
    "    values[\"gender\"] = gendername_info\n",
    "    values[\"age\"] = age_info\n",
    "    values[\"hypertension\"] = hypertension_info\n",
    "    values[\"heart disease\"] = heart_disease_info\n",
    "    values[\"ever married\"] = ever_married_info\n",
    "    values[\"work type\"] = work_type_info\n",
    "    values[\"residence type\"] = residence_type_info\n",
    "    values[\"avg glucose level\"] = avg_glucose_level_info\n",
    "    values[\"bmi\"] = bmi_info\n",
    "    values[\"stroke\"] = stroke_info\n",
    "\n",
    "\n",
    "def open_window():\n",
    "    global close_btn\n",
    "    global gender_name\n",
    "    global gendername_entry\n",
    "    global age_number\n",
    "    global age_entry \n",
    "    global hypertension_value\n",
    "    global hypertension_entry\n",
    "\n",
    "    top = Toplevel()\n",
    "    top.title(\"Aplikacja\")\n",
    "    top.geometry(\"400x400\")\n",
    "    heading_2 = Label(top, text=\"Zapraszamy do badania\", bg=\"navy\", fg=\"white\", width=\"500\", height=\"3\")\n",
    "    heading_2.pack()\n",
    "    gender_name = Label(top, text=\"Gender\").place(x=10, y=60)\n",
    "    gendername_entry = Entry(top, textvariable=gendername).place(x=120, y=60)\n",
    "\n",
    "    age_number = Label(top, text=\"Age\"). place(x=10, y=90)\n",
    "    age_entry = Entry(top, textvariable=age).place(x=120, y=90)\n",
    "\n",
    "    hypertension_value = Label(top, text=\"Hypertension\").place(x=10, y=120)\n",
    "    hypertension_entry = Entry(top, textvariable=hypertension).place(x=120, y=120)\n",
    "\n",
    "    heart_disease_value = Label(top, text=\"Heart disease\").place(x=10, y=150)\n",
    "    heart_disease_entry = Entry(top, textvariable=heart_disease).place(x=120, y=150)\n",
    "\n",
    "    ever_married_value = Label(top, text=\"Ever married\").place(x=10, y=180)\n",
    "    ever_married_entry = Entry(top, textvariable=ever_married).place(x=120, y=180)\n",
    "\n",
    "    work_type_value = Label(top, text=\"Work type\").place(x=10, y=210)\n",
    "    work_type_entry = Entry(top, textvariable=work_type).place(x=120, y=210)\n",
    "\n",
    "    residence_type_value = Label(top, text=\"Residence type\").place(x=10, y=240)\n",
    "    residence_type_entry = Entry(top, textvariable=residence_type).place(x=120, y=240)\n",
    "\n",
    "    avg_glucose_level_value = Label(top, text=\"Avg glucose level\").place(x=10, y=270)\n",
    "    avg_glucose_level_entry = Entry(top, textvariable=avg_glucose_level).place(x=120, y=270)\n",
    "\n",
    "    bmi_value = Label(top, text=\"BMI indicator\").place(x=10, y=300)\n",
    "    bmi_entry = Entry(top, textvariable=bmi).place(x=120, y=300)\n",
    "\n",
    "    stroke_value = Label(top, text=\"Stroke\").place(x=10, y=330)\n",
    "    stroke_entry = Entry(top, textvariable=stroke).place(x=120, y=330)\n",
    "\n",
    "    execute_btn = Button(top, text=\"Pobierz dane\", command=save_info, width=\"16\")\n",
    "    execute_btn.place(x=120, y=360)\n",
    "\n",
    "    close_btn = Button(top, text=\"Zamknij program\", command=top.destroy)\n",
    "    close_btn.place(x=250, y=360, width=\"122\")\n",
    "\n",
    "\n",
    "\n",
    "execute_btn = Button(master, text=\"Otwórz okno\", width=\"16\", height=\"4\", command=open_window)\n",
    "execute_btn.place(x=140, y=150)\n",
    "\n",
    "close_btn = Button(master, text=\"Zamknij program\", command=master.destroy)\n",
    "close_btn.place(x=250, y=350, width=\"122\")\n",
    "master.mainloop()\n",
    "\n"
   ]
  },
  {
   "cell_type": "code",
   "execution_count": null,
   "metadata": {},
   "outputs": [],
   "source": [
    "yes_no = [\n",
    "    \"Tak\",\n",
    "    \"Nie\"\n",
    "]"
   ]
  },
  {
   "cell_type": "code",
   "execution_count": null,
   "metadata": {},
   "outputs": [],
   "source": [
    "# GŁÓWNY KOD\n",
    "\n",
    "master = Tk()\n",
    "master.title(\"Aplikacja\")\n",
    "master.geometry(\"400x400\")\n",
    "heading = Label(text=\"Zapraszamy do badania\", bg=\"navy\", fg=\"white\", width=\"500\", height=\"3\", font=\"Helvetica 11 bold\")\n",
    "heading.pack()\n",
    "\n",
    "age = IntVar()\n",
    "avg_glucose_level = IntVar()\n",
    "bmi = IntVar()\n",
    "\n",
    "gender_options = [\n",
    "    \"Kobieta\",\n",
    "    \"Mężczyzna\"\n",
    "]\n",
    "\n",
    "yes_no = [\n",
    "    \"Yes\",\n",
    "    \"No\"\n",
    "]\n",
    "\n",
    "work_type_options = [\n",
    "    \"Private\",\n",
    "    \"Samozatrudniony\",\n",
    "    \"Urzędnik państwowy\",\n",
    "    \"Dziecko\",\n",
    "    \"Bezrobotny\"\n",
    "]\n",
    "\n",
    "residence_type_options = [\n",
    "    \"Miasto\",\n",
    "    \"Wieś\"\n",
    "]\n",
    "\n",
    "smoking_status = [\n",
    "    \"Były palacz\",\n",
    "    \"Nigdy nie paliłem\",\n",
    "    \"Palacz\",\n",
    "    \"Nie wiadomo\"\n",
    "]\n",
    "\n",
    "# listy rozwijane\n",
    "gender = StringVar()\n",
    "gender.set(1)\n",
    "hypertension = StringVar()\n",
    "hypertension.set(yes_no[0])\n",
    "heart_disease = StringVar()\n",
    "heart_disease.set(yes_no[0])\n",
    "ever_married = StringVar()\n",
    "ever_married.set(yes_no[0])\n",
    "residence_type = StringVar()\n",
    "residence_type.set(residence_type_options[0])\n",
    "work_type = StringVar()\n",
    "work_type.set(work_type_options[0])\n",
    "stroke = StringVar()  \n",
    "stroke.set(yes_no[0])\n",
    "\n",
    "results = {\"gender\": gender,\n",
    "            \"age\": age,\n",
    "            \"hypertension\": hypertension,\n",
    "            \"heart disease\": heart_disease,\n",
    "            \"ever married\": ever_married,\n",
    "            \"work type\": work_type,\n",
    "            \"residence type\": residence_type,\n",
    "            \"avg glucose level\": avg_glucose_level,\n",
    "            \"bmi\": bmi,\n",
    "            \"stroke\": stroke\n",
    "            }\n",
    "\n",
    "\n",
    "def save_info():\n",
    "    gendername_info = gender.get()\n",
    "    try:\n",
    "        age_info = age.get()\n",
    "    except TclError:\n",
    "        messagebox.showinfo(\"WARNING\", \"Please, insert numbers only in AGE field!\")\n",
    "    hypertension_info = hypertension_entry.get()\n",
    "    heart_disease_info = heart_disease_entry.get()\n",
    "    ever_married_info = ever_married_entry.get()\n",
    "    work_type_info = work_type_entry.get()\n",
    "    residence_type_info = residence_type_entry.get()\n",
    "    try: \n",
    "        avg_glucose_level_info = avg_glucose_level.get()\n",
    "    except TclError:\n",
    "        messagebox.showinfo(\"WARNING\", \"Please insert numebrs only in AVERAGE GLUCOSE LEVEL field!\")\n",
    "        \n",
    "    try:\n",
    "        bmi_info = bmi.get()\n",
    "    except TclError:\n",
    "        messagebox.showinfo(\"WARNING\", \"Please, insert numbers only in BMI field!\")\n",
    "    stroke_info = stroke_entry.get()\n",
    "    results[\"gender\"] = gendername_info\n",
    "    results[\"age\"] = age_info\n",
    "    results[\"hypertension\"] = hypertension_info\n",
    "    results[\"heart disease\"] = heart_disease_info\n",
    "    results[\"ever married\"] = ever_married_info\n",
    "    results[\"work type\"] = work_type_info\n",
    "    results[\"residence type\"] = residence_type_info\n",
    "    results[\"avg glucose level\"] = avg_glucose_level_info\n",
    "    results[\"bmi\"] = bmi_info\n",
    "    results[\"stroke\"] = stroke_info\n",
    "\n",
    "\n",
    "\n",
    "def open_window():\n",
    "    global close_btn\n",
    "    global gender_name\n",
    "    global gendername_entry_1\n",
    "    global gendername_entry_2\n",
    "    global age_number\n",
    "    global age_entry \n",
    "    global hypertension_value\n",
    "    global hypertension_entry\n",
    "    global heart_disease_value\n",
    "    global heart_disease_entry\n",
    "    global ever_married_value\n",
    "    global ever_married_entry\n",
    "    global work_type_value\n",
    "    global work_type_entry\n",
    "    global residence_type_value\n",
    "    global residence_type_entry\n",
    "    global stroke_entry\n",
    "\n",
    "    top = Toplevel()\n",
    "    top.title(\"Aplikacja\")\n",
    "    top.geometry(\"400x500\")\n",
    "    heading_2 = Label(top, text=\"Zapraszamy do badania\", bg=\"navy\", fg=\"white\", width=\"500\", height=\"3\", font=\"Helvetica 11 bold\")\n",
    "    heading_2.pack()\n",
    "\n",
    "    gender_name = Label(top, text=\"Gender\", font=\"Helvetica 8 bold\").place(x=10, y=70)\n",
    "    gendername_entry_1 = Radiobutton(top, text=\"Kobieta\", variable=gender, value=1).place(x=75, y=68, width=\"150\")\n",
    "    gendername_entry_2 = Radiobutton(top, text=\"Mężczyzna\", variable=gender, value=2).place(x=180, y=68, width=\"150\")\n",
    "\n",
    "    age_number = Label(top, text=\"Age\", font=\"Helvetica 8 bold\").place(x=10, y=97)\n",
    "    age_entry = Entry(top, textvariable=age, bd=3).place(x=120, y=95, width=\"145\")\n",
    "    \n",
    "    hypertension_value = Label(top, text=\"Hypertension\", font=\"Helvetica 8 bold\").place(x=10, y=128)\n",
    "    hypertension_entry = Combobox(top, values=yes_no).place(x=117, y=120, width=\"150\")\n",
    "    # cb=Combobox(window, values=data)\n",
    "\n",
    "    heart_disease_value = Label(top, text=\"Heart disease\", font=\"Helvetica 8 bold\").place(x=10, y=161)\n",
    "    heart_disease_entry = Combobox(top, values=yes_no).place(x=117, y=155, width=\"150\")\n",
    "\n",
    "    ever_married_value = Label(top, text=\"Ever married\", font=\"Helvetica 8 bold\").place(x=10, y=196)\n",
    "    ever_married_entry = Combobox(top,  values=yes_no).place(x=117, y=190, width=\"150\")\n",
    "\n",
    "    work_type_value = Label(top, text=\"Work type\", font=\"Helvetica 8 bold\").place(x=10, y=231)\n",
    "    work_type_entry = Combobox(top, values=work_type_options)\n",
    "    work_type_entry.place(x=117, y=225, width=\"150\")\n",
    "\n",
    "    residence_type_value = Label(top, text=\"Residence type\", font=\"Helvetica 8 bold\").place(x=10, y=266)\n",
    "    residence_type_entry = Combobox(top,  values=residence_type_options)\n",
    "    residence_type_entry.place(x=117, y=260, width=\"150\")\n",
    "\n",
    "    avg_glucose_level_value = Label(top, text=\"Avg glucose level\", font=\"Helvetica 8 bold\").place(x=10, y=297)\n",
    "    avg_glucose_level_entry = Entry(top, textvariable=avg_glucose_level, bd=3).place(x=120, y=295, width=\"145\")\n",
    "\n",
    "    bmi_value = Label(top, text=\"BMI indicator\", font=\"Helvetica 8 bold\").place(x=10, y=327)\n",
    "    bmi_entry = Entry(top, textvariable=bmi, bd=3).place(x=120, y=325, width=\"145\")\n",
    "\n",
    "    stroke_value = Label(top, text=\"Stroke\", font=\"Helvetica 8 bold\").place(x=10, y=357)\n",
    "    stroke_entry = Combobox(top, values=yes_no)\n",
    "    stroke_entry.place(x=117, y=355, width=\"150\")\n",
    "    # stroke_entry = OptionMenu(top, stroke, *yes_no).place(x=117, y=355, width=\"150\") -> to też lista rozwijana.\n",
    "\n",
    "    execute_btn = Button(top, text=\"Pobierz dane\", command= lambda: save_info(), width=\"20\")\n",
    "    execute_btn.place(x=10, y=460)\n",
    "\n",
    "    close_btn = Button(top, text=\"Zamknij program\", command=top.destroy)\n",
    "    close_btn.place(x=240, y=460, width=\"145\")    \n",
    "\n",
    "\n",
    "execute_btn = Button(master, text=\"Otwórz okno\", width=\"16\", height=\"4\", command=open_window)\n",
    "execute_btn.place(x=140, y=150)\n",
    "\n",
    "close_btn = Button(master, text=\"Zamknij program\", command=master.destroy)\n",
    "close_btn.place(x=250, y=350, width=\"122\")\n",
    "master.mainloop()\n",
    "\n"
   ]
  },
  {
   "cell_type": "code",
   "execution_count": null,
   "metadata": {},
   "outputs": [],
   "source": [
    "print(results)"
   ]
  },
  {
   "cell_type": "code",
   "execution_count": null,
   "metadata": {},
   "outputs": [],
   "source": [
    "# wtorek 20.30\n",
    "\n",
    "# Angelika - koniec analizy danych\n",
    "# Jonasz - 99% koniec\n",
    "# Błażej - Analiza danych + zapoznanie sie z rachunkiem prawdopodobieństwa\n",
    "# Hubert - Zbudowanie funkcjonalnej aplikacji"
   ]
  },
  {
   "cell_type": "code",
   "execution_count": null,
   "metadata": {},
   "outputs": [],
   "source": [
    "\n",
    "def is_number(x):\n",
    "    x = input()\n",
    "    if x.isdigit() and x > 0:\n",
    "        return x\n",
    "    else:\n",
    "        return \"Wpisz liczbę\"\n",
    "\n",
    "\n",
    "is_number(10)\n"
   ]
  },
  {
   "cell_type": "code",
   "execution_count": 4,
   "metadata": {},
   "outputs": [],
   "source": [
    "# Aplikacja\n",
    "\n",
    "window = Tk()\n",
    "window.title(\"World Data Analysis\")\n",
    "window.geometry(\"400x400\")\n",
    "heading = Label(text=\"Health application\", bg=\"navy\", fg=\"white\", width=\"500\", height=\"3\", font=\"Helvetica 11 bold\")\n",
    "heading.pack()\n",
    "\n",
    "Text_frame_1 = LabelFrame(window, text=\"Application description\")\n",
    "Text_frame_1.place(x=25, y=70)\n",
    "interview_description = Label(Text_frame_1, text=\"\"\"\n",
    "Welcome in health application. Please click \"Open form\" button \n",
    "when you are ready to start.\n",
    "\"\"\").pack()\n",
    "\n",
    "gender_options = [\n",
    "    \"Male\",\n",
    "    \"Female\"\n",
    "]\n",
    "\n",
    "yes_no = [\n",
    "    \"Yes\",\n",
    "    \"No\"\n",
    "]\n",
    "\n",
    "work_type_options = [\n",
    "    \"Private\",\n",
    "    \"Samozatrudniony\",\n",
    "    \"Urzędnik państwowy\",\n",
    "    \"Dziecko\",\n",
    "    \"Bezrobotny\"\n",
    "]\n",
    "\n",
    "residence_type_options = [\n",
    "    \"Urban\",\n",
    "    \"Rural\"\n",
    "]\n",
    "\n",
    "smoking_status_options = [\n",
    "    \"Former smoker\",\n",
    "    \"Nigdy nie paliłem\",\n",
    "    \"Palacz\",\n",
    "    \"Nie wiadomo\"\n",
    "]\n",
    "    \n",
    "gender = StringVar()\n",
    "gender.set(1)\n",
    "age = IntVar()\n",
    "hypertension = StringVar()\n",
    "heart_disease = StringVar()\n",
    "ever_married = StringVar()\n",
    "residence_type = StringVar()\n",
    "work_type = StringVar()\n",
    "avg_glucose_level = IntVar()\n",
    "bmi = IntVar()\n",
    "smoking_status = StringVar()\n",
    "stroke = StringVar()\n",
    "\n",
    "results = {\"gender\": gender,\n",
    "            \"age\": age,\n",
    "            \"hypertension\": hypertension,\n",
    "            \"heart disease\": heart_disease,\n",
    "            \"ever married\": ever_married,\n",
    "            \"work type\": work_type,\n",
    "            \"residence type\": residence_type,\n",
    "            \"avg glucose level\": avg_glucose_level,\n",
    "            \"bmi\": bmi,\n",
    "            \"smoking status\": smoking_status,\n",
    "            \"stroke\": stroke\n",
    "            }\n",
    "\n",
    "def check_age():\n",
    "    if age_info > 0:\n",
    "        return age_info\n",
    "    else:\n",
    "        age_warning = messagebox.showinfo(\"WARNING\", \"You can't insert negative age!\")\n",
    "        return age_warning\n",
    "\n",
    "def get_data():\n",
    "    global age_info\n",
    "\n",
    "    gendername_info = gender.get()\n",
    "\n",
    "    try:\n",
    "        age_info = age.get()\n",
    "    except TclError:\n",
    "        messagebox.showinfo(\"WARNING\", \"Please, insert numbers only in AGE field!\")\n",
    "\n",
    "    check_age()\n",
    "\n",
    "    hypertension_info = hypertension_entry.get()\n",
    "    heart_disease_info = heart_disease_entry.get()\n",
    "    ever_married_info = ever_married_entry.get()\n",
    "    work_type_info = work_type_entry.get()\n",
    "    residence_type_info = residence_type_entry.get()\n",
    "\n",
    "    try: \n",
    "        avg_glucose_level_info = avg_glucose_level.get()\n",
    "    except TclError:\n",
    "        messagebox.showinfo(\"WARNING\", \"Please insert numebrs only in AVERAGE GLUCOSE LEVEL field!\")\n",
    "        \n",
    "    try:\n",
    "        bmi_info = bmi.get()\n",
    "    except TclError:\n",
    "        messagebox.showinfo(\"WARNING\", \"Please, insert numbers only in BMI field!\")\n",
    "\n",
    "    smoking_status_info = smoking_status_entry.get()\n",
    "    stroke_info = stroke_entry.get()\n",
    "\n",
    "    results[\"gender\"] = gendername_info\n",
    "    results[\"age\"] = age_info\n",
    "    results[\"hypertension\"] = hypertension_info\n",
    "    results[\"heart disease\"] = heart_disease_info\n",
    "    results[\"ever married\"] = ever_married_info\n",
    "    results[\"work type\"] = work_type_info\n",
    "    results[\"residence type\"] = residence_type_info\n",
    "    results[\"avg glucose level\"] = avg_glucose_level_info\n",
    "    results[\"bmi\"] = bmi_info\n",
    "    results[\"smoking status\"] = smoking_status_info\n",
    "    results[\"stroke\"] = stroke_info\n",
    "\n",
    "def screen_2():\n",
    "    global hypertension_entry\n",
    "    global heart_disease_entry\n",
    "    global gender_name\n",
    "    global gendername_entry_1\n",
    "    global gendername_entry_2\n",
    "    global age_number\n",
    "    global age_entry\n",
    "    global ever_married_value\n",
    "    global ever_married_entry\n",
    "    global work_type_value\n",
    "    global work_type_entry\n",
    "    global residence_type_value\n",
    "    global residence_type_entry\n",
    "    global avg_glucose_level_value\n",
    "    global avg_glucose_level_entry\n",
    "    global bmi_value    \n",
    "    global bmi_entry\n",
    "    global stroke_value\n",
    "    global stroke_entry\n",
    "    global smoking_status_value\n",
    "    global smoking_status_entry\n",
    "\n",
    "    top = Toplevel()\n",
    "    top.title(\"World Data Analysis\")\n",
    "    top.geometry(\"400x500\")\n",
    "    heading_2 = Label(top, text=\"Health form\", bg=\"navy\", fg=\"white\", width=\"500\", height=\"3\", font=\"Helvetica 11 bold\")\n",
    "    heading_2.pack()\n",
    "\n",
    "    gender_name = Label(top, text=\"Gender\", font=\"Helvetica 8 bold\").place(x=10, y=70)\n",
    "    gendername_entry_1 = Radiobutton(top, text=\"Male\", variable=gender, value=1).place(x=70, y=70, width=\"150\")\n",
    "    gendername_entry_2 = Radiobutton(top, text=\"Female\", variable=gender, value=2).place(x=170, y=70, width=\"150\")\n",
    "    age_number = Label(top, text=\"Age\", font=\"Helvetica 8 bold\").place(x=10, y=100)\n",
    "    age_entry = Entry(top, textvariable=age, bd=3).place(x=120, y=100, width=\"145\")\n",
    "    hypertension_value = Label(top, text=\"Hypertension\", font=\"Helvetica 8 bold\").place(x=10, y=130)\n",
    "    hypertension_entry = Combobox(top, values=yes_no)\n",
    "    hypertension_entry.place(x=120, y=130)\n",
    "    heart_disease_value = Label(top, text=\"Heart disease\", font=\"Helvetica 8 bold\").place(x=10, y=160)\n",
    "    heart_disease_entry = Combobox(top, values=yes_no)\n",
    "    heart_disease_entry.place(x=120, y=160)\n",
    "    ever_married_value = Label(top, text=\"Ever married\", font=\"Helvetica 8 bold\").place(x=10, y=190)\n",
    "    ever_married_entry = Combobox(top, values=yes_no)\n",
    "    ever_married_entry.place(x=120, y=190)\n",
    "    work_type_value = Label(top, text=\"Work type\", font=\"Helvetica 8 bold\").place(x=10, y=220)\n",
    "    work_type_entry = Combobox(top, values=work_type_options)\n",
    "    work_type_entry.place(x=120, y=220)  \n",
    "    residence_type_value = Label(top, text=\"Residence type\", font=\"Helvetica 8 bold\").place(x=10, y=250)\n",
    "    residence_type_entry = Combobox(top, values=residence_type_options)\n",
    "    residence_type_entry.place(x=120, y=250)\n",
    "    avg_glucose_level_value = Label(top, text=\"Avg glucose level\", font=\"Helvetica 8 bold\").place(x=10, y=280)\n",
    "    avg_glucose_level_entry = Entry(top, textvariable=avg_glucose_level, bd=3).place(x=120, y=280, width=\"145\")\n",
    "    bmi_value = Label(top, text=\"BMI indicator\", font=\"Helvetica 8 bold\").place(x=10, y=310)\n",
    "    bmi_entry = Entry(top, textvariable=bmi, bd=3).place(x=120, y=310, width=\"145\")\n",
    "    smoking_status_value = Label(top, text=\"Smoking status\", font=\"Helvetiva 8 bold\").place(x=10, y=340)\n",
    "    smoking_status_entry = Combobox(top, values=smoking_status_options)\n",
    "    smoking_status_entry.place(x=120, y=340)\n",
    "    stroke_value = Label(top, text=\"Stroke\", font=\"Helvetica 8 bold\").place(x=10, y=370)\n",
    "    stroke_entry = Combobox(top, values=yes_no)\n",
    "    stroke_entry.place(x=120, y=370, width=\"144\")\n",
    "        \n",
    "    btn = Button(top, text=\"Submit\", command= lambda: get_data())\n",
    "    btn.place(x=10, y=460, width=\"110\")   \n",
    "\n",
    "    btn_2 = Button(top, text=\"Go to report\", command=report_results)\n",
    "    btn_2.place(x=135, y=460, width=\"110\")\n",
    "\n",
    "    close_btn = Button(top, text=\"Close\", command=top.destroy)\n",
    "    close_btn.place(x=260, y=460, width=\"110\")      \n",
    "\n",
    "def report_description():\n",
    "    global description\n",
    "\n",
    "    text_frame = LabelFrame(top2, text=\"Results description\")\n",
    "    text_frame.pack()\n",
    "\n",
    "    if results[\"heart disease\"] == \"Yes\" and results[\"hypertension\"] == \"Yes\":\n",
    "        description = Label(text_frame, text=\"\"\"\n",
    "        Masz podwyższone ryzyko wystąpienia udaru.\n",
    "        Zalecamy natychmiastową wizytę u lekarza specjalisty\n",
    "        w celu przeprowadzenia dalszych badań oraz konsultacji\n",
    "        wyników.\n",
    "        \n",
    "        Aby umówić się na wizytę prosimy dzwonić na poniższy numer:\n",
    "\n",
    "        +48 665 661 887        \n",
    "\n",
    "        \"\"\").pack()\n",
    "        return description\n",
    "    else:\n",
    "        description = Label(text_frame, text=\"Jesteś zdrowy\").pack()\n",
    "        return description\n",
    "\n",
    "def save_report():\n",
    "    description\n",
    "\n",
    "def report_results():\n",
    "    global top2\n",
    "    top2 = Toplevel()\n",
    "    top2.title(\"World Data Analysis\")\n",
    "    top2.geometry(\"400x400\")\n",
    "    heading_3 = Label(top2, text=\"Health report\", bg=\"navy\", fg=\"white\", width=\"500\", height=\"3\", font=\"Helvetica 11 bold\")\n",
    "    heading_3.pack()\n",
    "\n",
    "    run_report = Button(top2, text=\"Run report\", width=\"16\", command=report_description)\n",
    "    run_report.place(x=20, y=350)\n",
    "\n",
    "    execute_btn = Button(top2, text=\"Close\", width=\"16\", command=top2.destroy)\n",
    "    execute_btn.place(x=250, y=350)\n",
    "\n",
    "\n",
    "execute_btn = Button(window, text=\"Open form\", width=\"16\", height=\"4\", command=screen_2)\n",
    "execute_btn.place(x=140, y=170)\n",
    "\n",
    "close_btn = Button(window, text=\"Close\", command=window.destroy)\n",
    "close_btn.place(x=250, y=350, width=\"122\")\n",
    "\n",
    "window.mainloop()"
   ]
  },
  {
   "cell_type": "code",
   "execution_count": null,
   "metadata": {},
   "outputs": [],
   "source": []
  },
  {
   "cell_type": "code",
   "execution_count": 18,
   "metadata": {},
   "outputs": [],
   "source": [
    "# Aplikacja\n",
    "\n",
    "window = Tk()\n",
    "window.title(\"World Data Analysis\")\n",
    "window.geometry(\"400x400\")\n",
    "heading = Label(text=\"Health application\", bg=\"navy\", fg=\"white\", width=\"500\", height=\"3\", font=\"Helvetica 11 bold\")\n",
    "heading.pack()\n",
    "\n",
    "Text_frame_1 = LabelFrame(window, text=\"Application description\")\n",
    "Text_frame_1.place(x=25, y=70)\n",
    "interview_description = Label(Text_frame_1, text=\"\"\"\n",
    "Welcome in health application. Please click \"Open form\" button \n",
    "when you are ready to start.\n",
    "\"\"\").pack()\n",
    "\n",
    "gender_options = [\n",
    "    \"Male\",\n",
    "    \"Female\"\n",
    "]\n",
    "\n",
    "yes_no = [\n",
    "    \"Yes\",\n",
    "    \"No\"\n",
    "]\n",
    "\n",
    "work_type_options = [\n",
    "    \"Private\",\n",
    "    \"Samozatrudniony\",\n",
    "    \"Urzędnik państwowy\",\n",
    "    \"Dziecko\",\n",
    "    \"Bezrobotny\"\n",
    "]\n",
    "\n",
    "residence_type_options = [\n",
    "    \"Urban\",\n",
    "    \"Rural\"\n",
    "]\n",
    "\n",
    "smoking_status_options = [\n",
    "    \"Former smoker\",\n",
    "    \"Nigdy nie paliłem\",\n",
    "    \"Palacz\",\n",
    "    \"Nie wiadomo\"\n",
    "]\n",
    "    \n",
    "gender = StringVar()\n",
    "gender.set(1)\n",
    "age = IntVar()\n",
    "hypertension = StringVar()\n",
    "heart_disease = StringVar()\n",
    "ever_married = StringVar()\n",
    "residence_type = StringVar()\n",
    "work_type = StringVar()\n",
    "avg_glucose_level = IntVar()\n",
    "bmi = IntVar()\n",
    "smoking_status = StringVar()\n",
    "stroke = StringVar()\n",
    "\n",
    "results = {\"gender\": gender,\n",
    "            \"age\": age,\n",
    "            \"hypertension\": hypertension,\n",
    "            \"heart disease\": heart_disease,\n",
    "            \"ever married\": ever_married,\n",
    "            \"work type\": work_type,\n",
    "            \"residence type\": residence_type,\n",
    "            \"avg glucose level\": avg_glucose_level,\n",
    "            \"bmi\": bmi,\n",
    "            \"smoking status\": smoking_status,\n",
    "            \"stroke\": stroke\n",
    "            }\n",
    "\n",
    "def check_age():\n",
    "    if age_info > 0:\n",
    "        return age_info\n",
    "    else:\n",
    "        age_warning = messagebox.showinfo(\"WARNING\", \"You can't insert negative age!\")\n",
    "        return age_warning\n",
    "\n",
    "def get_data():\n",
    "    global age_info\n",
    "\n",
    "    gendername_info = gender.get()\n",
    "\n",
    "    try:\n",
    "        age_info = age.get()\n",
    "    except TclError:\n",
    "        messagebox.showinfo(\"WARNING\", \"Please, insert numbers only in AGE field!\")\n",
    "\n",
    "    check_age()\n",
    "\n",
    "    hypertension_info = hypertension_entry.get()\n",
    "    heart_disease_info = heart_disease_entry.get()\n",
    "    ever_married_info = ever_married_entry.get()\n",
    "    work_type_info = work_type_entry.get()\n",
    "    residence_type_info = residence_type_entry.get()\n",
    "\n",
    "    try: \n",
    "        avg_glucose_level_info = avg_glucose_level.get()\n",
    "    except TclError:\n",
    "        messagebox.showinfo(\"WARNING\", \"Please insert numebrs only in AVERAGE GLUCOSE LEVEL field!\")\n",
    "        \n",
    "    try:\n",
    "        bmi_info = bmi.get()\n",
    "    except TclError:\n",
    "        messagebox.showinfo(\"WARNING\", \"Please, insert numbers only in BMI field!\")\n",
    "\n",
    "    smoking_status_info = smoking_status_entry.get()\n",
    "    stroke_info = stroke_entry.get()\n",
    "\n",
    "    results[\"gender\"] = gendername_info\n",
    "    results[\"age\"] = age_info\n",
    "    results[\"hypertension\"] = hypertension_info\n",
    "    results[\"heart disease\"] = heart_disease_info\n",
    "    results[\"ever married\"] = ever_married_info\n",
    "    results[\"work type\"] = work_type_info\n",
    "    results[\"residence type\"] = residence_type_info\n",
    "    results[\"avg glucose level\"] = avg_glucose_level_info\n",
    "    results[\"bmi\"] = bmi_info\n",
    "    results[\"smoking status\"] = smoking_status_info\n",
    "    results[\"stroke\"] = stroke_info\n",
    "\n",
    "def screen_2():\n",
    "\n",
    "    global hypertension_entry\n",
    "    global heart_disease_entry\n",
    "    global gender_name\n",
    "    global gendername_entry_1\n",
    "    global gendername_entry_2\n",
    "    global age_number\n",
    "    global age_entry\n",
    "    global ever_married_value\n",
    "    global ever_married_entry\n",
    "    global work_type_value\n",
    "    global work_type_entry\n",
    "    global residence_type_value\n",
    "    global residence_type_entry\n",
    "    global avg_glucose_level_value\n",
    "    global avg_glucose_level_entry\n",
    "    global bmi_value    \n",
    "    global bmi_entry\n",
    "    global stroke_value\n",
    "    global stroke_entry\n",
    "    global smoking_status_value\n",
    "    global smoking_status_entry\n",
    "\n",
    "    top = Toplevel()\n",
    "    top.title(\"World Data Analysis\")\n",
    "    top.geometry(\"500x500\")\n",
    "    heading_2 = Label(top, text=\"Health form\", bg=\"navy\", fg=\"white\", width=\"500\", height=\"3\", font=\"Helvetica 11 bold\")\n",
    "    heading_2.pack()\n",
    "\n",
    "    gender_name = Label(top, text=\"Gender\", font=\"Helvetica 8 bold\").place(x=10, y=70)\n",
    "    gendername_entry_1 = Radiobutton(top, text=\"Male\", variable=gender, value=1).place(x=70, y=70, width=\"150\")\n",
    "    gendername_entry_2 = Radiobutton(top, text=\"Female\", variable=gender, value=2).place(x=170, y=70, width=\"150\")\n",
    "    age_number = Label(top, text=\"Age\", font=\"Helvetica 8 bold\").place(x=10, y=100)\n",
    "    age_entry = Entry(top, textvariable=age, bd=3).place(x=120, y=100, width=\"145\")\n",
    "    hypertension_value = Label(top, text=\"Hypertension\", font=\"Helvetica 8 bold\").place(x=10, y=130)\n",
    "    hypertension_entry = Combobox(top, values=yes_no)\n",
    "    hypertension_entry.place(x=120, y=130)\n",
    "    heart_disease_value = Label(top, text=\"Heart disease\", font=\"Helvetica 8 bold\").place(x=10, y=160)\n",
    "    heart_disease_entry = Combobox(top, values=yes_no)\n",
    "    heart_disease_entry.place(x=120, y=160)\n",
    "    ever_married_value = Label(top, text=\"Ever married\", font=\"Helvetica 8 bold\").place(x=10, y=190)\n",
    "    ever_married_entry = Combobox(top, values=yes_no)\n",
    "    ever_married_entry.place(x=120, y=190)\n",
    "    work_type_value = Label(top, text=\"Work type\", font=\"Helvetica 8 bold\").place(x=10, y=220)\n",
    "    work_type_entry = Combobox(top, values=work_type_options)\n",
    "    work_type_entry.place(x=120, y=220)  \n",
    "    residence_type_value = Label(top, text=\"Residence type\", font=\"Helvetica 8 bold\").place(x=10, y=250)\n",
    "    residence_type_entry = Combobox(top, values=residence_type_options)\n",
    "    residence_type_entry.place(x=120, y=250)\n",
    "    avg_glucose_level_value = Label(top, text=\"Avg glucose level\", font=\"Helvetica 8 bold\").place(x=10, y=280)\n",
    "    avg_glucose_level_entry = Entry(top, textvariable=avg_glucose_level, bd=3).place(x=120, y=280, width=\"145\")\n",
    "    bmi_value = Label(top, text=\"BMI indicator\", font=\"Helvetica 8 bold\").place(x=10, y=310)\n",
    "    bmi_entry = Entry(top, textvariable=bmi, bd=3).place(x=120, y=310, width=\"145\")\n",
    "    smoking_status_value = Label(top, text=\"Smoking status\", font=\"Helvetiva 8 bold\").place(x=10, y=340)\n",
    "    smoking_status_entry = Combobox(top, values=smoking_status_options)\n",
    "    smoking_status_entry.place(x=120, y=340)\n",
    "    stroke_value = Label(top, text=\"Stroke\", font=\"Helvetica 8 bold\").place(x=10, y=370)\n",
    "    stroke_entry = Combobox(top, values=yes_no)\n",
    "    stroke_entry.place(x=120, y=370, width=\"144\")\n",
    "        \n",
    "    btn = Button(top, text=\"Submit\", command= lambda: get_data())\n",
    "    btn.place(x=10, y=460, width=\"110\")   \n",
    "\n",
    "    btn_2 = Button(top, text=\"Go to report\", command=report_results)\n",
    "    btn_2.place(x=135, y=460, width=\"110\")\n",
    "\n",
    "    close_btn = Button(top, text=\"Close\", command=top.destroy)\n",
    "    close_btn.place(x=260, y=460, width=\"110\")      \n",
    "\n",
    "def report_description():\n",
    "    global description\n",
    "\n",
    "    text_frame = LabelFrame(top2, text=\"Results description\")\n",
    "    text_frame.pack()\n",
    "\n",
    "    if results[\"heart disease\"] == \"Yes\" and results[\"hypertension\"] == \"Yes\":\n",
    "        description = Label(text_frame, text=\"\"\"\n",
    "        Masz podwyższone ryzyko wystąpienia udaru.\n",
    "        Zalecamy natychmiastową wizytę u lekarza specjalisty\n",
    "        w celu przeprowadzenia dalszych badań oraz konsultacji\n",
    "        wyników.\n",
    "        \n",
    "        Aby umówić się na wizytę prosimy dzwonić na poniższy numer:\n",
    "\n",
    "        +48 665 661 887        \n",
    "\n",
    "        \"\"\").pack()\n",
    "        return description\n",
    "    else:\n",
    "        description = Label(text_frame, text=\"Jesteś zdrowy\").pack()\n",
    "        return description\n",
    "\n",
    "def save_report():\n",
    "    description\n",
    "\n",
    "def report_results():\n",
    "    global top2\n",
    "    top2 = Toplevel()\n",
    "    top2.title(\"World Data Analysis\")\n",
    "    top2.geometry(\"400x400\")\n",
    "    heading_3 = Label(top2, text=\"Health report\", bg=\"navy\", fg=\"white\", width=\"500\", height=\"3\", font=\"Helvetica 11 bold\")\n",
    "    heading_3.pack()\n",
    "\n",
    "    run_report = Button(top2, text=\"Run report\", width=\"16\", command=report_description)\n",
    "    run_report.place(x=20, y=350)\n",
    "\n",
    "    execute_btn = Button(top2, text=\"Close\", width=\"16\", command=top2.destroy)\n",
    "    execute_btn.place(x=250, y=350)\n",
    "\n",
    "\n",
    "execute_btn = Button(window, text=\"Open form\", width=\"16\", height=\"4\", command=screen_2)\n",
    "execute_btn.place(x=140, y=170)\n",
    "\n",
    "close_btn = Button(window, text=\"Close\", command=window.destroy)\n",
    "close_btn.place(x=250, y=350, width=\"122\")\n",
    "\n",
    "window.mainloop()"
   ]
  },
  {
   "cell_type": "code",
   "execution_count": 10,
   "metadata": {},
   "outputs": [],
   "source": [
    " \n",
    "# Create Object\n",
    "root = Tk() \n",
    "# set Geometry\n",
    "root.geometry('400x200')\n",
    "  \n",
    "  \n",
    "# Add Labels and Buttons\n",
    "Label(root, text = \"IMAGE CONVERSION\", \n",
    "      font = \"italic 15 bold\").pack(pady = 10)\n",
    "  \n",
    "Button(root, text = \"Select Images\", font = 14).pack(pady = 10)\n",
    "  \n",
    "frame = Frame()\n",
    "frame.pack(pady = 20)\n",
    "  \n",
    "Button(frame, text = \"Image to PDF\", relief = \"solid\",\n",
    "                   bg = \"white\", font = 15).pack(side = LEFT,padx = 10)\n",
    "  \n",
    "Button(frame, text = \"Images to PDF\", relief = \"solid\",\n",
    "                 bg = \"white\",font = 15).pack()\n",
    "  \n",
    "# Execute Tkinter\n",
    "root.mainloop()"
   ]
  },
  {
   "cell_type": "code",
   "execution_count": 7,
   "metadata": {},
   "outputs": [],
   "source": [
    "import plotly.graph_objects as go"
   ]
  },
  {
   "cell_type": "code",
   "execution_count": 8,
   "metadata": {},
   "outputs": [
    {
     "data": {
      "application/vnd.plotly.v1+json": {
       "config": {
        "plotlyServerURL": "https://plot.ly"
       },
       "data": [
        {
         "type": "bar",
         "width": [
          0.2
         ],
         "x": [
          "imie nazwisko"
         ],
         "y": [
          10
         ]
        }
       ],
       "layout": {
        "template": {
         "data": {
          "bar": [
           {
            "error_x": {
             "color": "#2a3f5f"
            },
            "error_y": {
             "color": "#2a3f5f"
            },
            "marker": {
             "line": {
              "color": "#E5ECF6",
              "width": 0.5
             },
             "pattern": {
              "fillmode": "overlay",
              "size": 10,
              "solidity": 0.2
             }
            },
            "type": "bar"
           }
          ],
          "barpolar": [
           {
            "marker": {
             "line": {
              "color": "#E5ECF6",
              "width": 0.5
             },
             "pattern": {
              "fillmode": "overlay",
              "size": 10,
              "solidity": 0.2
             }
            },
            "type": "barpolar"
           }
          ],
          "carpet": [
           {
            "aaxis": {
             "endlinecolor": "#2a3f5f",
             "gridcolor": "white",
             "linecolor": "white",
             "minorgridcolor": "white",
             "startlinecolor": "#2a3f5f"
            },
            "baxis": {
             "endlinecolor": "#2a3f5f",
             "gridcolor": "white",
             "linecolor": "white",
             "minorgridcolor": "white",
             "startlinecolor": "#2a3f5f"
            },
            "type": "carpet"
           }
          ],
          "choropleth": [
           {
            "colorbar": {
             "outlinewidth": 0,
             "ticks": ""
            },
            "type": "choropleth"
           }
          ],
          "contour": [
           {
            "colorbar": {
             "outlinewidth": 0,
             "ticks": ""
            },
            "colorscale": [
             [
              0,
              "#0d0887"
             ],
             [
              0.1111111111111111,
              "#46039f"
             ],
             [
              0.2222222222222222,
              "#7201a8"
             ],
             [
              0.3333333333333333,
              "#9c179e"
             ],
             [
              0.4444444444444444,
              "#bd3786"
             ],
             [
              0.5555555555555556,
              "#d8576b"
             ],
             [
              0.6666666666666666,
              "#ed7953"
             ],
             [
              0.7777777777777778,
              "#fb9f3a"
             ],
             [
              0.8888888888888888,
              "#fdca26"
             ],
             [
              1,
              "#f0f921"
             ]
            ],
            "type": "contour"
           }
          ],
          "contourcarpet": [
           {
            "colorbar": {
             "outlinewidth": 0,
             "ticks": ""
            },
            "type": "contourcarpet"
           }
          ],
          "heatmap": [
           {
            "colorbar": {
             "outlinewidth": 0,
             "ticks": ""
            },
            "colorscale": [
             [
              0,
              "#0d0887"
             ],
             [
              0.1111111111111111,
              "#46039f"
             ],
             [
              0.2222222222222222,
              "#7201a8"
             ],
             [
              0.3333333333333333,
              "#9c179e"
             ],
             [
              0.4444444444444444,
              "#bd3786"
             ],
             [
              0.5555555555555556,
              "#d8576b"
             ],
             [
              0.6666666666666666,
              "#ed7953"
             ],
             [
              0.7777777777777778,
              "#fb9f3a"
             ],
             [
              0.8888888888888888,
              "#fdca26"
             ],
             [
              1,
              "#f0f921"
             ]
            ],
            "type": "heatmap"
           }
          ],
          "heatmapgl": [
           {
            "colorbar": {
             "outlinewidth": 0,
             "ticks": ""
            },
            "colorscale": [
             [
              0,
              "#0d0887"
             ],
             [
              0.1111111111111111,
              "#46039f"
             ],
             [
              0.2222222222222222,
              "#7201a8"
             ],
             [
              0.3333333333333333,
              "#9c179e"
             ],
             [
              0.4444444444444444,
              "#bd3786"
             ],
             [
              0.5555555555555556,
              "#d8576b"
             ],
             [
              0.6666666666666666,
              "#ed7953"
             ],
             [
              0.7777777777777778,
              "#fb9f3a"
             ],
             [
              0.8888888888888888,
              "#fdca26"
             ],
             [
              1,
              "#f0f921"
             ]
            ],
            "type": "heatmapgl"
           }
          ],
          "histogram": [
           {
            "marker": {
             "pattern": {
              "fillmode": "overlay",
              "size": 10,
              "solidity": 0.2
             }
            },
            "type": "histogram"
           }
          ],
          "histogram2d": [
           {
            "colorbar": {
             "outlinewidth": 0,
             "ticks": ""
            },
            "colorscale": [
             [
              0,
              "#0d0887"
             ],
             [
              0.1111111111111111,
              "#46039f"
             ],
             [
              0.2222222222222222,
              "#7201a8"
             ],
             [
              0.3333333333333333,
              "#9c179e"
             ],
             [
              0.4444444444444444,
              "#bd3786"
             ],
             [
              0.5555555555555556,
              "#d8576b"
             ],
             [
              0.6666666666666666,
              "#ed7953"
             ],
             [
              0.7777777777777778,
              "#fb9f3a"
             ],
             [
              0.8888888888888888,
              "#fdca26"
             ],
             [
              1,
              "#f0f921"
             ]
            ],
            "type": "histogram2d"
           }
          ],
          "histogram2dcontour": [
           {
            "colorbar": {
             "outlinewidth": 0,
             "ticks": ""
            },
            "colorscale": [
             [
              0,
              "#0d0887"
             ],
             [
              0.1111111111111111,
              "#46039f"
             ],
             [
              0.2222222222222222,
              "#7201a8"
             ],
             [
              0.3333333333333333,
              "#9c179e"
             ],
             [
              0.4444444444444444,
              "#bd3786"
             ],
             [
              0.5555555555555556,
              "#d8576b"
             ],
             [
              0.6666666666666666,
              "#ed7953"
             ],
             [
              0.7777777777777778,
              "#fb9f3a"
             ],
             [
              0.8888888888888888,
              "#fdca26"
             ],
             [
              1,
              "#f0f921"
             ]
            ],
            "type": "histogram2dcontour"
           }
          ],
          "mesh3d": [
           {
            "colorbar": {
             "outlinewidth": 0,
             "ticks": ""
            },
            "type": "mesh3d"
           }
          ],
          "parcoords": [
           {
            "line": {
             "colorbar": {
              "outlinewidth": 0,
              "ticks": ""
             }
            },
            "type": "parcoords"
           }
          ],
          "pie": [
           {
            "automargin": true,
            "type": "pie"
           }
          ],
          "scatter": [
           {
            "marker": {
             "colorbar": {
              "outlinewidth": 0,
              "ticks": ""
             }
            },
            "type": "scatter"
           }
          ],
          "scatter3d": [
           {
            "line": {
             "colorbar": {
              "outlinewidth": 0,
              "ticks": ""
             }
            },
            "marker": {
             "colorbar": {
              "outlinewidth": 0,
              "ticks": ""
             }
            },
            "type": "scatter3d"
           }
          ],
          "scattercarpet": [
           {
            "marker": {
             "colorbar": {
              "outlinewidth": 0,
              "ticks": ""
             }
            },
            "type": "scattercarpet"
           }
          ],
          "scattergeo": [
           {
            "marker": {
             "colorbar": {
              "outlinewidth": 0,
              "ticks": ""
             }
            },
            "type": "scattergeo"
           }
          ],
          "scattergl": [
           {
            "marker": {
             "colorbar": {
              "outlinewidth": 0,
              "ticks": ""
             }
            },
            "type": "scattergl"
           }
          ],
          "scattermapbox": [
           {
            "marker": {
             "colorbar": {
              "outlinewidth": 0,
              "ticks": ""
             }
            },
            "type": "scattermapbox"
           }
          ],
          "scatterpolar": [
           {
            "marker": {
             "colorbar": {
              "outlinewidth": 0,
              "ticks": ""
             }
            },
            "type": "scatterpolar"
           }
          ],
          "scatterpolargl": [
           {
            "marker": {
             "colorbar": {
              "outlinewidth": 0,
              "ticks": ""
             }
            },
            "type": "scatterpolargl"
           }
          ],
          "scatterternary": [
           {
            "marker": {
             "colorbar": {
              "outlinewidth": 0,
              "ticks": ""
             }
            },
            "type": "scatterternary"
           }
          ],
          "surface": [
           {
            "colorbar": {
             "outlinewidth": 0,
             "ticks": ""
            },
            "colorscale": [
             [
              0,
              "#0d0887"
             ],
             [
              0.1111111111111111,
              "#46039f"
             ],
             [
              0.2222222222222222,
              "#7201a8"
             ],
             [
              0.3333333333333333,
              "#9c179e"
             ],
             [
              0.4444444444444444,
              "#bd3786"
             ],
             [
              0.5555555555555556,
              "#d8576b"
             ],
             [
              0.6666666666666666,
              "#ed7953"
             ],
             [
              0.7777777777777778,
              "#fb9f3a"
             ],
             [
              0.8888888888888888,
              "#fdca26"
             ],
             [
              1,
              "#f0f921"
             ]
            ],
            "type": "surface"
           }
          ],
          "table": [
           {
            "cells": {
             "fill": {
              "color": "#EBF0F8"
             },
             "line": {
              "color": "white"
             }
            },
            "header": {
             "fill": {
              "color": "#C8D4E3"
             },
             "line": {
              "color": "white"
             }
            },
            "type": "table"
           }
          ]
         },
         "layout": {
          "annotationdefaults": {
           "arrowcolor": "#2a3f5f",
           "arrowhead": 0,
           "arrowwidth": 1
          },
          "autotypenumbers": "strict",
          "coloraxis": {
           "colorbar": {
            "outlinewidth": 0,
            "ticks": ""
           }
          },
          "colorscale": {
           "diverging": [
            [
             0,
             "#8e0152"
            ],
            [
             0.1,
             "#c51b7d"
            ],
            [
             0.2,
             "#de77ae"
            ],
            [
             0.3,
             "#f1b6da"
            ],
            [
             0.4,
             "#fde0ef"
            ],
            [
             0.5,
             "#f7f7f7"
            ],
            [
             0.6,
             "#e6f5d0"
            ],
            [
             0.7,
             "#b8e186"
            ],
            [
             0.8,
             "#7fbc41"
            ],
            [
             0.9,
             "#4d9221"
            ],
            [
             1,
             "#276419"
            ]
           ],
           "sequential": [
            [
             0,
             "#0d0887"
            ],
            [
             0.1111111111111111,
             "#46039f"
            ],
            [
             0.2222222222222222,
             "#7201a8"
            ],
            [
             0.3333333333333333,
             "#9c179e"
            ],
            [
             0.4444444444444444,
             "#bd3786"
            ],
            [
             0.5555555555555556,
             "#d8576b"
            ],
            [
             0.6666666666666666,
             "#ed7953"
            ],
            [
             0.7777777777777778,
             "#fb9f3a"
            ],
            [
             0.8888888888888888,
             "#fdca26"
            ],
            [
             1,
             "#f0f921"
            ]
           ],
           "sequentialminus": [
            [
             0,
             "#0d0887"
            ],
            [
             0.1111111111111111,
             "#46039f"
            ],
            [
             0.2222222222222222,
             "#7201a8"
            ],
            [
             0.3333333333333333,
             "#9c179e"
            ],
            [
             0.4444444444444444,
             "#bd3786"
            ],
            [
             0.5555555555555556,
             "#d8576b"
            ],
            [
             0.6666666666666666,
             "#ed7953"
            ],
            [
             0.7777777777777778,
             "#fb9f3a"
            ],
            [
             0.8888888888888888,
             "#fdca26"
            ],
            [
             1,
             "#f0f921"
            ]
           ]
          },
          "colorway": [
           "#636efa",
           "#EF553B",
           "#00cc96",
           "#ab63fa",
           "#FFA15A",
           "#19d3f3",
           "#FF6692",
           "#B6E880",
           "#FF97FF",
           "#FECB52"
          ],
          "font": {
           "color": "#2a3f5f"
          },
          "geo": {
           "bgcolor": "white",
           "lakecolor": "white",
           "landcolor": "#E5ECF6",
           "showlakes": true,
           "showland": true,
           "subunitcolor": "white"
          },
          "hoverlabel": {
           "align": "left"
          },
          "hovermode": "closest",
          "mapbox": {
           "style": "light"
          },
          "paper_bgcolor": "white",
          "plot_bgcolor": "#E5ECF6",
          "polar": {
           "angularaxis": {
            "gridcolor": "white",
            "linecolor": "white",
            "ticks": ""
           },
           "bgcolor": "#E5ECF6",
           "radialaxis": {
            "gridcolor": "white",
            "linecolor": "white",
            "ticks": ""
           }
          },
          "scene": {
           "xaxis": {
            "backgroundcolor": "#E5ECF6",
            "gridcolor": "white",
            "gridwidth": 2,
            "linecolor": "white",
            "showbackground": true,
            "ticks": "",
            "zerolinecolor": "white"
           },
           "yaxis": {
            "backgroundcolor": "#E5ECF6",
            "gridcolor": "white",
            "gridwidth": 2,
            "linecolor": "white",
            "showbackground": true,
            "ticks": "",
            "zerolinecolor": "white"
           },
           "zaxis": {
            "backgroundcolor": "#E5ECF6",
            "gridcolor": "white",
            "gridwidth": 2,
            "linecolor": "white",
            "showbackground": true,
            "ticks": "",
            "zerolinecolor": "white"
           }
          },
          "shapedefaults": {
           "line": {
            "color": "#2a3f5f"
           }
          },
          "ternary": {
           "aaxis": {
            "gridcolor": "white",
            "linecolor": "white",
            "ticks": ""
           },
           "baxis": {
            "gridcolor": "white",
            "linecolor": "white",
            "ticks": ""
           },
           "bgcolor": "#E5ECF6",
           "caxis": {
            "gridcolor": "white",
            "linecolor": "white",
            "ticks": ""
           }
          },
          "title": {
           "x": 0.05
          },
          "xaxis": {
           "automargin": true,
           "gridcolor": "white",
           "linecolor": "white",
           "ticks": "",
           "title": {
            "standoff": 15
           },
           "zerolinecolor": "white",
           "zerolinewidth": 2
          },
          "yaxis": {
           "automargin": true,
           "gridcolor": "white",
           "linecolor": "white",
           "ticks": "",
           "title": {
            "standoff": 15
           },
           "zerolinecolor": "white",
           "zerolinewidth": 2
          }
         }
        }
       }
      }
     },
     "metadata": {},
     "output_type": "display_data"
    }
   ],
   "source": [
    "#bar(x, height, width=0.8, bottom=None, *, align='center', data=None, **kwargs)\n",
    "test = Tk()\n",
    "\n",
    "\n",
    "def graph():\n",
    "    fig = go.Figure(data=[go.Bar(\n",
    "        x=[\"imie nazwisko\"],\n",
    "        y=[10],\n",
    "        width=[0.2] # customize width here\n",
    "    )])\n",
    "    fig.show()\n",
    "\n",
    "btn_10 = Button(test, text=\"uruchom\", command=graph)\n",
    "btn_10.pack()\n",
    "\n",
    "test.mainloop()"
   ]
  }
 ],
 "metadata": {
  "interpreter": {
   "hash": "b89b5cfaba6639976dc87ff2fec6d58faec662063367e2c229c520fe71072417"
  },
  "kernelspec": {
   "display_name": "Python 3.10.2 64-bit (system)",
   "language": "python",
   "name": "python3"
  },
  "language_info": {
   "codemirror_mode": {
    "name": "ipython",
    "version": 3
   },
   "file_extension": ".py",
   "mimetype": "text/x-python",
   "name": "python",
   "nbconvert_exporter": "python",
   "pygments_lexer": "ipython3",
   "version": "3.10.2"
  },
  "orig_nbformat": 4
 },
 "nbformat": 4,
 "nbformat_minor": 2
}
