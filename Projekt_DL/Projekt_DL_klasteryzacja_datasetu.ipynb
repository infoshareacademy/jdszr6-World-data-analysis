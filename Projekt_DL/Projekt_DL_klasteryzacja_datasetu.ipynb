{
 "cells": [
  {
   "cell_type": "markdown",
   "metadata": {},
   "source": [
    "Plan działania:\n",
    "\n",
    "1. Klasteryzacja sklepów - Hubert\n",
    "2. Badanie zbioru + budowa modeli\n",
    "2.1 XGBoost Regresor - Hubert\n",
    "2.2 Random Forest Regresor - Błażej\n",
    "2.2. SVM - Jonasz \n",
    "2.3. Preprocessing datasetu\n",
    "3. Sieci rekurencyjne - szeregi czasowe - budowa sieci Jonasz/Błażej/Hubert\n",
    "4. Prezentacja \n",
    "4.1 Szablon - Hubert\n",
    "4.2 Uzupełnienie wartości merytorycznej Jonasz/Błażej/Hubert \n",
    "5. Aplikacja - Angelika"
   ]
  },
  {
   "cell_type": "code",
   "execution_count": 1,
   "metadata": {},
   "outputs": [],
   "source": [
    "import pandas as pd\n",
    "import numpy as np\n",
    "\n",
    "from sklearn.cluster import KMeans"
   ]
  },
  {
   "cell_type": "code",
   "execution_count": 8,
   "metadata": {},
   "outputs": [],
   "source": [
    "df = pd.read_csv(\"fail_data_analysis.csv\")\n",
    "df = df.drop(columns=\"Date\", axis=1)"
   ]
  },
  {
   "cell_type": "code",
   "execution_count": 9,
   "metadata": {},
   "outputs": [],
   "source": [
    "def dataset_clustering_0(dataset):\n",
    "    km = KMeans(n_clusters=3, max_iter = 100, n_init=10)\n",
    "    km.fit(dataset)\n",
    "    dataset[\"cluster_sklearn\"] = km.labels_\n",
    "\n",
    "    class_0 = dataset[dataset[\"cluster_sklearn\"] == 0]\n",
    "\n",
    "    return class_0\n",
    "\n",
    "def dataset_clustering_1(dataset):\n",
    "    km = KMeans(n_clusters=3, max_iter = 100, n_init=10)\n",
    "    km.fit(dataset)\n",
    "    dataset[\"cluster_sklearn\"] = km.labels_\n",
    "\n",
    "    class_1 = dataset[dataset[\"cluster_sklearn\"] == 1]\n",
    "\n",
    "    return class_1\n",
    "\n",
    "def dataset_clustering_2(dataset):\n",
    "    km = KMeans(n_clusters=3, max_iter = 100, n_init=10)\n",
    "    km.fit(dataset)\n",
    "    dataset[\"cluster_sklearn\"] = km.labels_\n",
    "\n",
    "    class_2 = dataset[dataset[\"cluster_sklearn\"] == 2]\n",
    "\n",
    "    return class_2"
   ]
  },
  {
   "cell_type": "code",
   "execution_count": 10,
   "metadata": {},
   "outputs": [],
   "source": [
    "df_0 = dataset_clustering_0(df)\n",
    "df_1 = dataset_clustering_1(df)\n",
    "df_2 = dataset_clustering_2(df)"
   ]
  },
  {
   "cell_type": "code",
   "execution_count": 11,
   "metadata": {},
   "outputs": [
    {
     "name": "stdout",
     "output_type": "stream",
     "text": [
      "[ 3  5  7  8  9 12 15 16 17 18 21 22 25 26 29 30 33 34 35 36 37 38 40 42\n",
      " 43 44 45]\n",
      "[ 3  5  7  8  9 12 15 16 17 18 21 22 25 26 29 30 33 34 35 36 37 38 40 42\n",
      " 43 44 45]\n",
      "[ 1  6  7  8  9 11 12 14 15 16 17 18 19 21 22 23 24 25 26 27 28 29 31 32\n",
      " 34 35 39 40 41 45]\n"
     ]
    }
   ],
   "source": [
    "print(df_0[\"Store\"].unique())\n",
    "print(df_1[\"Store\"].unique())\n",
    "print(df_2[\"Store\"].unique())"
   ]
  },
  {
   "cell_type": "code",
   "execution_count": 13,
   "metadata": {},
   "outputs": [],
   "source": [
    "file_name = \"Walmart_clusters.xlsx\"\n",
    "df.to_excel(file_name)"
   ]
  },
  {
   "cell_type": "code",
   "execution_count": null,
   "metadata": {},
   "outputs": [],
   "source": []
  }
 ],
 "metadata": {
  "kernelspec": {
   "display_name": "Python 3.10.2 64-bit (system)",
   "language": "python",
   "name": "python3"
  },
  "language_info": {
   "codemirror_mode": {
    "name": "ipython",
    "version": 3
   },
   "file_extension": ".py",
   "mimetype": "text/x-python",
   "name": "python",
   "nbconvert_exporter": "python",
   "pygments_lexer": "ipython3",
   "version": "3.10.5"
  },
  "orig_nbformat": 4,
  "vscode": {
   "interpreter": {
    "hash": "26de051ba29f2982a8de78e945f0abaf191376122a1563185a90213a26c5da77"
   }
  }
 },
 "nbformat": 4,
 "nbformat_minor": 2
}
