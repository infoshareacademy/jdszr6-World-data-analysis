{
 "cells": [
  {
   "cell_type": "code",
   "execution_count": 1,
   "metadata": {},
   "outputs": [],
   "source": [
    "import tensorflow as tf\n",
    "import numpy as np\n",
    "import matplotlib.pyplot as plt\n",
    "import pandas as pd\n",
    "import random\n",
    "\n",
    "from sklearn.preprocessing import MinMaxScaler\n",
    "from sklearn.model_selection import train_test_split\n",
    "from sklearn.preprocessing import LabelEncoder, OneHotEncoder\n",
    "from sklearn.metrics import classification_report, auc, roc_curve, f1_score, r2_score, confusion_matrix, mean_squared_error\n",
    "\n",
    "from keras.preprocessing.text import Tokenizer\n",
    "from keras.preprocessing import sequence\n",
    "from keras.callbacks import EarlyStopping\n",
    "from keras import layers\n",
    "from datetime import datetime\n",
    "from keras.datasets import mnist\n",
    "from keras.layers import Dense, LSTM"
   ]
  },
  {
   "cell_type": "code",
   "execution_count": 18,
   "metadata": {},
   "outputs": [],
   "source": [
    "df = pd.read_excel(\"Walmart_clusters.xlsx\")\n",
    "class_0 = df[df[\"cluster_sklearn\"] == 0]"
   ]
  },
  {
   "cell_type": "code",
   "execution_count": 19,
   "metadata": {},
   "outputs": [
    {
     "data": {
      "text/html": [
       "<div>\n",
       "<style scoped>\n",
       "    .dataframe tbody tr th:only-of-type {\n",
       "        vertical-align: middle;\n",
       "    }\n",
       "\n",
       "    .dataframe tbody tr th {\n",
       "        vertical-align: top;\n",
       "    }\n",
       "\n",
       "    .dataframe thead th {\n",
       "        text-align: right;\n",
       "    }\n",
       "</style>\n",
       "<table border=\"1\" class=\"dataframe\">\n",
       "  <thead>\n",
       "    <tr style=\"text-align: right;\">\n",
       "      <th></th>\n",
       "      <th>Store</th>\n",
       "      <th>Weekly_Sales</th>\n",
       "      <th>Holiday_Flag</th>\n",
       "      <th>Temperature</th>\n",
       "      <th>Fuel_Price</th>\n",
       "      <th>CPI</th>\n",
       "      <th>Unemployment</th>\n",
       "      <th>yyyy</th>\n",
       "      <th>mm</th>\n",
       "      <th>dd</th>\n",
       "      <th>week_relative</th>\n",
       "      <th>week_absolute</th>\n",
       "      <th>Date</th>\n",
       "      <th>cluster_sklearn</th>\n",
       "    </tr>\n",
       "  </thead>\n",
       "  <tbody>\n",
       "    <tr>\n",
       "      <th>0</th>\n",
       "      <td>3</td>\n",
       "      <td>377219</td>\n",
       "      <td>0</td>\n",
       "      <td>65.065</td>\n",
       "      <td>3.234</td>\n",
       "      <td>216.539</td>\n",
       "      <td>7.567</td>\n",
       "      <td>2010</td>\n",
       "      <td>1</td>\n",
       "      <td>1</td>\n",
       "      <td>52</td>\n",
       "      <td>53</td>\n",
       "      <td>2010-01-01</td>\n",
       "      <td>0</td>\n",
       "    </tr>\n",
       "    <tr>\n",
       "      <th>1</th>\n",
       "      <td>5</td>\n",
       "      <td>309443</td>\n",
       "      <td>0</td>\n",
       "      <td>61.722</td>\n",
       "      <td>3.234</td>\n",
       "      <td>213.766</td>\n",
       "      <td>6.639</td>\n",
       "      <td>2010</td>\n",
       "      <td>1</td>\n",
       "      <td>1</td>\n",
       "      <td>52</td>\n",
       "      <td>53</td>\n",
       "      <td>2010-01-01</td>\n",
       "      <td>0</td>\n",
       "    </tr>\n",
       "    <tr>\n",
       "      <th>2</th>\n",
       "      <td>7</td>\n",
       "      <td>669225</td>\n",
       "      <td>0</td>\n",
       "      <td>27.723</td>\n",
       "      <td>3.179</td>\n",
       "      <td>191.968</td>\n",
       "      <td>8.873</td>\n",
       "      <td>2010</td>\n",
       "      <td>1</td>\n",
       "      <td>1</td>\n",
       "      <td>52</td>\n",
       "      <td>53</td>\n",
       "      <td>2010-01-01</td>\n",
       "      <td>0</td>\n",
       "    </tr>\n",
       "    <tr>\n",
       "      <th>3</th>\n",
       "      <td>9</td>\n",
       "      <td>494392</td>\n",
       "      <td>0</td>\n",
       "      <td>59.275</td>\n",
       "      <td>3.234</td>\n",
       "      <td>216.770</td>\n",
       "      <td>6.476</td>\n",
       "      <td>2010</td>\n",
       "      <td>1</td>\n",
       "      <td>1</td>\n",
       "      <td>52</td>\n",
       "      <td>53</td>\n",
       "      <td>2010-01-01</td>\n",
       "      <td>0</td>\n",
       "    </tr>\n",
       "    <tr>\n",
       "      <th>4</th>\n",
       "      <td>15</td>\n",
       "      <td>576183</td>\n",
       "      <td>0</td>\n",
       "      <td>37.713</td>\n",
       "      <td>3.600</td>\n",
       "      <td>133.786</td>\n",
       "      <td>7.900</td>\n",
       "      <td>2010</td>\n",
       "      <td>1</td>\n",
       "      <td>1</td>\n",
       "      <td>52</td>\n",
       "      <td>53</td>\n",
       "      <td>2010-01-01</td>\n",
       "      <td>0</td>\n",
       "    </tr>\n",
       "  </tbody>\n",
       "</table>\n",
       "</div>"
      ],
      "text/plain": [
       "   Store  Weekly_Sales  Holiday_Flag  Temperature  Fuel_Price      CPI  \\\n",
       "0      3        377219             0       65.065       3.234  216.539   \n",
       "1      5        309443             0       61.722       3.234  213.766   \n",
       "2      7        669225             0       27.723       3.179  191.968   \n",
       "3      9        494392             0       59.275       3.234  216.770   \n",
       "4     15        576183             0       37.713       3.600  133.786   \n",
       "\n",
       "   Unemployment  yyyy  mm  dd  week_relative  week_absolute       Date  \\\n",
       "0         7.567  2010   1   1             52             53 2010-01-01   \n",
       "1         6.639  2010   1   1             52             53 2010-01-01   \n",
       "2         8.873  2010   1   1             52             53 2010-01-01   \n",
       "3         6.476  2010   1   1             52             53 2010-01-01   \n",
       "4         7.900  2010   1   1             52             53 2010-01-01   \n",
       "\n",
       "   cluster_sklearn  \n",
       "0                0  \n",
       "1                0  \n",
       "2                0  \n",
       "3                0  \n",
       "4                0  "
      ]
     },
     "execution_count": 19,
     "metadata": {},
     "output_type": "execute_result"
    }
   ],
   "source": [
    "class_0.head()"
   ]
  },
  {
   "cell_type": "code",
   "execution_count": 20,
   "metadata": {},
   "outputs": [],
   "source": [
    "class_0 = class_0.drop(columns=class_0[[\"Store\", \"Holiday_Flag\", \"cluster_sklearn\",\"week_absolute\"]])\n"
   ]
  },
  {
   "cell_type": "code",
   "execution_count": 21,
   "metadata": {},
   "outputs": [
    {
     "data": {
      "text/plain": [
       "Index(['Weekly_Sales', 'Temperature', 'Fuel_Price', 'CPI', 'Unemployment',\n",
       "       'yyyy', 'mm', 'dd', 'week_relative', 'Date'],\n",
       "      dtype='object')"
      ]
     },
     "execution_count": 21,
     "metadata": {},
     "output_type": "execute_result"
    }
   ],
   "source": [
    "class_0.columns"
   ]
  },
  {
   "cell_type": "code",
   "execution_count": 22,
   "metadata": {},
   "outputs": [
    {
     "name": "stdout",
     "output_type": "stream",
     "text": [
      "<class 'pandas.core.frame.DataFrame'>\n",
      "Int64Index: 2821 entries, 0 to 2820\n",
      "Data columns (total 10 columns):\n",
      " #   Column         Non-Null Count  Dtype         \n",
      "---  ------         --------------  -----         \n",
      " 0   Weekly_Sales   2821 non-null   int64         \n",
      " 1   Temperature    2821 non-null   float64       \n",
      " 2   Fuel_Price     2821 non-null   float64       \n",
      " 3   CPI            2821 non-null   float64       \n",
      " 4   Unemployment   2821 non-null   float64       \n",
      " 5   yyyy           2821 non-null   int64         \n",
      " 6   mm             2821 non-null   int64         \n",
      " 7   dd             2821 non-null   int64         \n",
      " 8   week_relative  2821 non-null   int64         \n",
      " 9   Date           2821 non-null   datetime64[ns]\n",
      "dtypes: datetime64[ns](1), float64(4), int64(5)\n",
      "memory usage: 242.4 KB\n"
     ]
    }
   ],
   "source": [
    "class_0.info()"
   ]
  },
  {
   "cell_type": "code",
   "execution_count": 23,
   "metadata": {},
   "outputs": [],
   "source": [
    "class_0[\"Temperature\"] = class_0[\"Temperature\"].astype(object)\n",
    "class_0[\"Fuel_Price\"] = class_0[\"Fuel_Price\"].astype(object)\n",
    "class_0[\"CPI\"] = class_0[\"CPI\"].astype(object)\n",
    "class_0[\"Unemployment\"] = class_0[\"Unemployment\"].astype(object)\n"
   ]
  },
  {
   "cell_type": "code",
   "execution_count": 24,
   "metadata": {},
   "outputs": [
    {
     "name": "stdout",
     "output_type": "stream",
     "text": [
      "<class 'pandas.core.frame.DataFrame'>\n",
      "Int64Index: 2821 entries, 0 to 2820\n",
      "Data columns (total 10 columns):\n",
      " #   Column         Non-Null Count  Dtype         \n",
      "---  ------         --------------  -----         \n",
      " 0   Weekly_Sales   2821 non-null   int64         \n",
      " 1   Temperature    2821 non-null   object        \n",
      " 2   Fuel_Price     2821 non-null   object        \n",
      " 3   CPI            2821 non-null   object        \n",
      " 4   Unemployment   2821 non-null   object        \n",
      " 5   yyyy           2821 non-null   int64         \n",
      " 6   mm             2821 non-null   int64         \n",
      " 7   dd             2821 non-null   int64         \n",
      " 8   week_relative  2821 non-null   int64         \n",
      " 9   Date           2821 non-null   datetime64[ns]\n",
      "dtypes: datetime64[ns](1), int64(5), object(4)\n",
      "memory usage: 242.4+ KB\n"
     ]
    }
   ],
   "source": [
    "class_0.info()"
   ]
  },
  {
   "cell_type": "code",
   "execution_count": 27,
   "metadata": {},
   "outputs": [],
   "source": [
    "x1 = pd.to_numeric(class_0[\"Weekly_Sales\"], errors=\"coerce\").to_numpy()\n",
    "x2 = pd.to_numeric(class_0[\"Temperature\"], errors=\"coerce\").to_numpy()\n",
    "x3 = pd.to_numeric(class_0[\"Fuel_Price\"], errors=\"coerce\").to_numpy()\n",
    "x4 = pd.to_numeric(class_0[\"CPI\"], errors=\"coerce\").to_numpy()\n",
    "x5 = pd.to_numeric(class_0[\"Unemployment\"], errors=\"coerce\").to_numpy()\n",
    "x6 = pd.to_numeric(class_0[\"yyyy\"], errors=\"coerce\").to_numpy()\n",
    "x7 = pd.to_numeric(class_0[\"mm\"], errors=\"coerce\").to_numpy()\n",
    "x8 = pd.to_numeric(class_0[\"dd\"], errors=\"coerce\").to_numpy()\n",
    "x9 = pd.to_numeric(class_0[\"week_relative\"], errors=\"coerce\").to_numpy()\n",
    "x10 = pd.to_numeric(class_0[\"Date\"], errors=\"coerce\").to_numpy()"
   ]
  },
  {
   "cell_type": "code",
   "execution_count": 39,
   "metadata": {},
   "outputs": [],
   "source": [
    "x = np.concatenate([x1.reshape(-1,1), \n",
    "                   x2.reshape(-1,1),\n",
    "                   x3.reshape(-1,1),\n",
    "                   x4.reshape(-1,1),\n",
    "                   x5.reshape(-1,1),\n",
    "                   x6.reshape(-1,1),\n",
    "                   x7.reshape(-1,1),\n",
    "                   x8.reshape(-1,1),\n",
    "                   x9.reshape(-1,1),\n",
    "                   x10.reshape(-1,1)],\n",
    "                   axis=1)"
   ]
  },
  {
   "cell_type": "code",
   "execution_count": 40,
   "metadata": {},
   "outputs": [
    {
     "data": {
      "text/plain": [
       "(2821, 10)"
      ]
     },
     "execution_count": 40,
     "metadata": {},
     "output_type": "execute_result"
    }
   ],
   "source": [
    "x.shape"
   ]
  },
  {
   "cell_type": "code",
   "execution_count": 41,
   "metadata": {},
   "outputs": [
    {
     "data": {
      "text/plain": [
       "array([[3.7721900e+05, 6.5065000e+01, 3.2340000e+00, ..., 1.0000000e+00,\n",
       "        5.2000000e+01, 1.2623040e+18],\n",
       "       [3.0944300e+05, 6.1722000e+01, 3.2340000e+00, ..., 1.0000000e+00,\n",
       "        5.2000000e+01, 1.2623040e+18],\n",
       "       [6.6922500e+05, 2.7723000e+01, 3.1790000e+00, ..., 1.0000000e+00,\n",
       "        5.2000000e+01, 1.2623040e+18],\n",
       "       ...,\n",
       "       [6.1937000e+05, 7.1140000e+01, 3.6010000e+00, ..., 2.8000000e+01,\n",
       "        1.5700000e+02, 1.3566528e+18],\n",
       "       [3.3779600e+05, 5.5100000e+01, 3.7970000e+00, ..., 2.8000000e+01,\n",
       "        1.5700000e+02, 1.3566528e+18],\n",
       "       [7.3446400e+05, 5.4470000e+01, 4.0000000e+00, ..., 2.8000000e+01,\n",
       "        1.5700000e+02, 1.3566528e+18]])"
      ]
     },
     "execution_count": 41,
     "metadata": {},
     "output_type": "execute_result"
    }
   ],
   "source": [
    "x"
   ]
  },
  {
   "cell_type": "code",
   "execution_count": 47,
   "metadata": {},
   "outputs": [
    {
     "ename": "NameError",
     "evalue": "name 'ConvertDataToSequence' is not defined",
     "output_type": "error",
     "traceback": [
      "\u001b[1;31m---------------------------------------------------------------------------\u001b[0m",
      "\u001b[1;31mNameError\u001b[0m                                 Traceback (most recent call last)",
      "\u001b[1;32mc:\\Users\\hubert.stadnicki\\Desktop\\GH\\Projekty\\jdszr6-World-data-analysis\\Projekt_DL\\Walmart_prediction3.ipynb Cell 13'\u001b[0m in \u001b[0;36m<module>\u001b[1;34m\u001b[0m\n\u001b[0;32m      <a href='vscode-notebook-cell:/c%3A/Users/hubert.stadnicki/Desktop/GH/Projekty/jdszr6-World-data-analysis/Projekt_DL/Walmart_prediction3.ipynb#ch0000016?line=0'>1</a>\u001b[0m seqLen \u001b[39m=\u001b[39m \u001b[39m4\u001b[39m\n\u001b[0;32m      <a href='vscode-notebook-cell:/c%3A/Users/hubert.stadnicki/Desktop/GH/Projekty/jdszr6-World-data-analysis/Projekt_DL/Walmart_prediction3.ipynb#ch0000016?line=1'>2</a>\u001b[0m featNum \u001b[39m=\u001b[39m \u001b[39m10\u001b[39m\n\u001b[1;32m----> <a href='vscode-notebook-cell:/c%3A/Users/hubert.stadnicki/Desktop/GH/Projekty/jdszr6-World-data-analysis/Projekt_DL/Walmart_prediction3.ipynb#ch0000016?line=2'>3</a>\u001b[0m xSeq, y \u001b[39m=\u001b[39m ConvertDataToSequence(x, seqLen, featNum)\n\u001b[0;32m      <a href='vscode-notebook-cell:/c%3A/Users/hubert.stadnicki/Desktop/GH/Projekty/jdszr6-World-data-analysis/Projekt_DL/Walmart_prediction3.ipynb#ch0000016?line=3'>4</a>\u001b[0m \u001b[39mprint\u001b[39m(\u001b[39mf\u001b[39m\u001b[39m\"\u001b[39m\u001b[39msequence shape: \u001b[39m\u001b[39m{\u001b[39;00mxSeq\u001b[39m.\u001b[39mshape\u001b[39m}\u001b[39;00m\u001b[39m\"\u001b[39m)\n\u001b[0;32m      <a href='vscode-notebook-cell:/c%3A/Users/hubert.stadnicki/Desktop/GH/Projekty/jdszr6-World-data-analysis/Projekt_DL/Walmart_prediction3.ipynb#ch0000016?line=4'>5</a>\u001b[0m \u001b[39mprint\u001b[39m(\u001b[39mf\u001b[39m\u001b[39m\"\u001b[39m\u001b[39moutput shape: \u001b[39m\u001b[39m{\u001b[39;00my\u001b[39m.\u001b[39mshape\u001b[39m}\u001b[39;00m\u001b[39m\"\u001b[39m)\n",
      "\u001b[1;31mNameError\u001b[0m: name 'ConvertDataToSequence' is not defined"
     ]
    }
   ],
   "source": [
    "seqLen = 4\n",
    "featNum = 10\n",
    "xSeq, y = ConvertDataToSequence(x, seqLen, featNum)\n",
    "print(f\"sequence shape: {xSeq.shape}\")\n",
    "print(f\"output shape: {y.shape}\")"
   ]
  },
  {
   "cell_type": "code",
   "execution_count": null,
   "metadata": {},
   "outputs": [],
   "source": []
  }
 ],
 "metadata": {
  "kernelspec": {
   "display_name": "Python 3.10.5 64-bit (system)",
   "language": "python",
   "name": "python3"
  },
  "language_info": {
   "codemirror_mode": {
    "name": "ipython",
    "version": 3
   },
   "file_extension": ".py",
   "mimetype": "text/x-python",
   "name": "python",
   "nbconvert_exporter": "python",
   "pygments_lexer": "ipython3",
   "version": "3.10.5"
  },
  "orig_nbformat": 4,
  "vscode": {
   "interpreter": {
    "hash": "26de051ba29f2982a8de78e945f0abaf191376122a1563185a90213a26c5da77"
   }
  }
 },
 "nbformat": 4,
 "nbformat_minor": 2
}
