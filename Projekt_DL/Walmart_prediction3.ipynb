{
 "cells": [
  {
   "cell_type": "code",
   "execution_count": 46,
   "metadata": {},
   "outputs": [],
   "source": [
    "import tensorflow as tf\n",
    "import numpy as np\n",
    "import matplotlib.pyplot as plt\n",
    "import pandas as pd\n",
    "import random\n",
    "\n",
    "from sklearn.preprocessing import MinMaxScaler\n",
    "from sklearn.model_selection import train_test_split\n",
    "from sklearn.preprocessing import LabelEncoder, OneHotEncoder\n",
    "from sklearn.metrics import classification_report, auc, roc_curve, f1_score, r2_score, confusion_matrix, mean_squared_error, mean_absolute_percentage_error\n",
    "\n",
    "from keras.preprocessing.text import Tokenizer\n",
    "from keras.preprocessing import sequence\n",
    "from keras.callbacks import EarlyStopping\n",
    "from keras import layers\n",
    "from datetime import datetime\n",
    "from keras.datasets import mnist\n",
    "from keras.layers import Dense, LSTM"
   ]
  },
  {
   "cell_type": "code",
   "execution_count": 47,
   "metadata": {},
   "outputs": [],
   "source": [
    "df = pd.read_excel(\"Walmart_clusters.xlsx\")\n",
    "class_0 = df[df[\"cluster_sklearn\"] == 0]"
   ]
  },
  {
   "cell_type": "code",
   "execution_count": 48,
   "metadata": {},
   "outputs": [
    {
     "data": {
      "text/html": [
       "<div>\n",
       "<style scoped>\n",
       "    .dataframe tbody tr th:only-of-type {\n",
       "        vertical-align: middle;\n",
       "    }\n",
       "\n",
       "    .dataframe tbody tr th {\n",
       "        vertical-align: top;\n",
       "    }\n",
       "\n",
       "    .dataframe thead th {\n",
       "        text-align: right;\n",
       "    }\n",
       "</style>\n",
       "<table border=\"1\" class=\"dataframe\">\n",
       "  <thead>\n",
       "    <tr style=\"text-align: right;\">\n",
       "      <th></th>\n",
       "      <th>Store</th>\n",
       "      <th>Weekly_Sales</th>\n",
       "      <th>Holiday_Flag</th>\n",
       "      <th>Temperature</th>\n",
       "      <th>Fuel_Price</th>\n",
       "      <th>CPI</th>\n",
       "      <th>Unemployment</th>\n",
       "      <th>yyyy</th>\n",
       "      <th>mm</th>\n",
       "      <th>dd</th>\n",
       "      <th>week_relative</th>\n",
       "      <th>week_absolute</th>\n",
       "      <th>Date</th>\n",
       "      <th>cluster_sklearn</th>\n",
       "    </tr>\n",
       "  </thead>\n",
       "  <tbody>\n",
       "    <tr>\n",
       "      <th>0</th>\n",
       "      <td>3</td>\n",
       "      <td>377219</td>\n",
       "      <td>0</td>\n",
       "      <td>65.065</td>\n",
       "      <td>3.234</td>\n",
       "      <td>216.539</td>\n",
       "      <td>7.567</td>\n",
       "      <td>2010</td>\n",
       "      <td>1</td>\n",
       "      <td>1</td>\n",
       "      <td>52</td>\n",
       "      <td>53</td>\n",
       "      <td>2010-01-01</td>\n",
       "      <td>0</td>\n",
       "    </tr>\n",
       "    <tr>\n",
       "      <th>1</th>\n",
       "      <td>5</td>\n",
       "      <td>309443</td>\n",
       "      <td>0</td>\n",
       "      <td>61.722</td>\n",
       "      <td>3.234</td>\n",
       "      <td>213.766</td>\n",
       "      <td>6.639</td>\n",
       "      <td>2010</td>\n",
       "      <td>1</td>\n",
       "      <td>1</td>\n",
       "      <td>52</td>\n",
       "      <td>53</td>\n",
       "      <td>2010-01-01</td>\n",
       "      <td>0</td>\n",
       "    </tr>\n",
       "    <tr>\n",
       "      <th>2</th>\n",
       "      <td>7</td>\n",
       "      <td>669225</td>\n",
       "      <td>0</td>\n",
       "      <td>27.723</td>\n",
       "      <td>3.179</td>\n",
       "      <td>191.968</td>\n",
       "      <td>8.873</td>\n",
       "      <td>2010</td>\n",
       "      <td>1</td>\n",
       "      <td>1</td>\n",
       "      <td>52</td>\n",
       "      <td>53</td>\n",
       "      <td>2010-01-01</td>\n",
       "      <td>0</td>\n",
       "    </tr>\n",
       "    <tr>\n",
       "      <th>3</th>\n",
       "      <td>9</td>\n",
       "      <td>494392</td>\n",
       "      <td>0</td>\n",
       "      <td>59.275</td>\n",
       "      <td>3.234</td>\n",
       "      <td>216.770</td>\n",
       "      <td>6.476</td>\n",
       "      <td>2010</td>\n",
       "      <td>1</td>\n",
       "      <td>1</td>\n",
       "      <td>52</td>\n",
       "      <td>53</td>\n",
       "      <td>2010-01-01</td>\n",
       "      <td>0</td>\n",
       "    </tr>\n",
       "    <tr>\n",
       "      <th>4</th>\n",
       "      <td>15</td>\n",
       "      <td>576183</td>\n",
       "      <td>0</td>\n",
       "      <td>37.713</td>\n",
       "      <td>3.600</td>\n",
       "      <td>133.786</td>\n",
       "      <td>7.900</td>\n",
       "      <td>2010</td>\n",
       "      <td>1</td>\n",
       "      <td>1</td>\n",
       "      <td>52</td>\n",
       "      <td>53</td>\n",
       "      <td>2010-01-01</td>\n",
       "      <td>0</td>\n",
       "    </tr>\n",
       "  </tbody>\n",
       "</table>\n",
       "</div>"
      ],
      "text/plain": [
       "   Store  Weekly_Sales  Holiday_Flag  Temperature  Fuel_Price      CPI  \\\n",
       "0      3        377219             0       65.065       3.234  216.539   \n",
       "1      5        309443             0       61.722       3.234  213.766   \n",
       "2      7        669225             0       27.723       3.179  191.968   \n",
       "3      9        494392             0       59.275       3.234  216.770   \n",
       "4     15        576183             0       37.713       3.600  133.786   \n",
       "\n",
       "   Unemployment  yyyy  mm  dd  week_relative  week_absolute       Date  \\\n",
       "0         7.567  2010   1   1             52             53 2010-01-01   \n",
       "1         6.639  2010   1   1             52             53 2010-01-01   \n",
       "2         8.873  2010   1   1             52             53 2010-01-01   \n",
       "3         6.476  2010   1   1             52             53 2010-01-01   \n",
       "4         7.900  2010   1   1             52             53 2010-01-01   \n",
       "\n",
       "   cluster_sklearn  \n",
       "0                0  \n",
       "1                0  \n",
       "2                0  \n",
       "3                0  \n",
       "4                0  "
      ]
     },
     "execution_count": 48,
     "metadata": {},
     "output_type": "execute_result"
    }
   ],
   "source": [
    "class_0.head()"
   ]
  },
  {
   "cell_type": "code",
   "execution_count": 49,
   "metadata": {},
   "outputs": [
    {
     "data": {
      "text/plain": [
       "Index(['Store', 'Weekly_Sales', 'Holiday_Flag', 'Temperature', 'Fuel_Price',\n",
       "       'CPI', 'Unemployment', 'yyyy', 'mm', 'dd', 'week_relative',\n",
       "       'week_absolute', 'Date', 'cluster_sklearn'],\n",
       "      dtype='object')"
      ]
     },
     "execution_count": 49,
     "metadata": {},
     "output_type": "execute_result"
    }
   ],
   "source": [
    "class_0.columns"
   ]
  },
  {
   "cell_type": "code",
   "execution_count": 50,
   "metadata": {},
   "outputs": [
    {
     "name": "stdout",
     "output_type": "stream",
     "text": [
      "<class 'pandas.core.frame.DataFrame'>\n",
      "Int64Index: 2821 entries, 0 to 2820\n",
      "Data columns (total 14 columns):\n",
      " #   Column           Non-Null Count  Dtype         \n",
      "---  ------           --------------  -----         \n",
      " 0   Store            2821 non-null   int64         \n",
      " 1   Weekly_Sales     2821 non-null   int64         \n",
      " 2   Holiday_Flag     2821 non-null   int64         \n",
      " 3   Temperature      2821 non-null   float64       \n",
      " 4   Fuel_Price       2821 non-null   float64       \n",
      " 5   CPI              2821 non-null   float64       \n",
      " 6   Unemployment     2821 non-null   float64       \n",
      " 7   yyyy             2821 non-null   int64         \n",
      " 8   mm               2821 non-null   int64         \n",
      " 9   dd               2821 non-null   int64         \n",
      " 10  week_relative    2821 non-null   int64         \n",
      " 11  week_absolute    2821 non-null   int64         \n",
      " 12  Date             2821 non-null   datetime64[ns]\n",
      " 13  cluster_sklearn  2821 non-null   int64         \n",
      "dtypes: datetime64[ns](1), float64(4), int64(9)\n",
      "memory usage: 330.6 KB\n"
     ]
    }
   ],
   "source": [
    "class_0.info()"
   ]
  },
  {
   "cell_type": "code",
   "execution_count": 19,
   "metadata": {},
   "outputs": [],
   "source": [
    "# class_0[\"Temperature\"] = class_0[\"Temperature\"].astype(object)\n",
    "# class_0[\"Fuel_Price\"] = class_0[\"Fuel_Price\"].astype(object)\n",
    "# class_0[\"CPI\"] = class_0[\"CPI\"].astype(object)\n",
    "# class_0[\"Unemployment\"] = class_0[\"Unemployment\"].astype(object)\n"
   ]
  },
  {
   "cell_type": "code",
   "execution_count": 20,
   "metadata": {},
   "outputs": [
    {
     "name": "stdout",
     "output_type": "stream",
     "text": [
      "<class 'pandas.core.frame.DataFrame'>\n",
      "Int64Index: 2821 entries, 0 to 2820\n",
      "Data columns (total 10 columns):\n",
      " #   Column         Non-Null Count  Dtype         \n",
      "---  ------         --------------  -----         \n",
      " 0   Weekly_Sales   2821 non-null   int64         \n",
      " 1   Temperature    2821 non-null   object        \n",
      " 2   Fuel_Price     2821 non-null   object        \n",
      " 3   CPI            2821 non-null   object        \n",
      " 4   Unemployment   2821 non-null   object        \n",
      " 5   yyyy           2821 non-null   int64         \n",
      " 6   mm             2821 non-null   int64         \n",
      " 7   dd             2821 non-null   int64         \n",
      " 8   week_relative  2821 non-null   int64         \n",
      " 9   Date           2821 non-null   datetime64[ns]\n",
      "dtypes: datetime64[ns](1), int64(5), object(4)\n",
      "memory usage: 242.4+ KB\n"
     ]
    }
   ],
   "source": [
    "class_0.info()"
   ]
  },
  {
   "cell_type": "code",
   "execution_count": 74,
   "metadata": {},
   "outputs": [],
   "source": [
    "x1 = pd.to_numeric(class_0[\"Weekly_Sales\"], errors=\"coerce\").to_numpy()\n",
    "# x2 = pd.to_numeric(class_0[\"Temperature\"], errors=\"coerce\").to_numpy()\n",
    "# x3 = pd.to_numeric(class_0[\"Fuel_Price\"], errors=\"coerce\").to_numpy()\n",
    "# x4 = pd.to_numeric(class_0[\"CPI\"], errors=\"coerce\").to_numpy()\n",
    "# x5 = pd.to_numeric(class_0[\"Unemployment\"], errors=\"coerce\").to_numpy()\n",
    "# x6 = pd.to_numeric(class_0[\"yyyy\"], errors=\"coerce\").to_numpy()\n",
    "# x7 = pd.to_numeric(class_0[\"mm\"], errors=\"coerce\").to_numpy()\n",
    "# x8 = pd.to_numeric(class_0[\"dd\"], errors=\"coerce\").to_numpy()\n",
    "x2 = pd.to_numeric(class_0[\"week_absolute\"], errors=\"coerce\").to_numpy()\n",
    "# x10 = pd.to_numeric(class_0[\"Date\"], errors=\"coerce\").to_numpy()"
   ]
  },
  {
   "cell_type": "code",
   "execution_count": 76,
   "metadata": {},
   "outputs": [
    {
     "data": {
      "text/plain": [
       "array([53, 53, 53, ..., 52, 52, 52], dtype=int64)"
      ]
     },
     "execution_count": 76,
     "metadata": {},
     "output_type": "execute_result"
    }
   ],
   "source": [
    "x2"
   ]
  },
  {
   "cell_type": "code",
   "execution_count": 88,
   "metadata": {},
   "outputs": [],
   "source": [
    "x = np.concatenate([x1.reshape(-1,1), x2.reshape(-1,1)], axis=1)\n",
    "                #    x3.reshape(-1,1),\n",
    "                #    x4.reshape(-1,1),\n",
    "                #    x5.reshape(-1,1),\n",
    "                #    x6.reshape(-1,1),\n",
    "                #    x7.reshape(-1,1),\n",
    "                #    x8.reshape(-1,1),\n",
    "                #    x9.reshape(-1,1),\n",
    "                #    x10.reshape(-1,1)],\n",
    "                   "
   ]
  },
  {
   "cell_type": "code",
   "execution_count": 89,
   "metadata": {},
   "outputs": [
    {
     "data": {
      "text/plain": [
       "(2821, 2)"
      ]
     },
     "execution_count": 89,
     "metadata": {},
     "output_type": "execute_result"
    }
   ],
   "source": [
    "x.shape"
   ]
  },
  {
   "cell_type": "code",
   "execution_count": 79,
   "metadata": {},
   "outputs": [
    {
     "data": {
      "text/plain": [
       "array([[377219,     53],\n",
       "       [309443,     53],\n",
       "       [669225,     53],\n",
       "       ...,\n",
       "       [619370,     52],\n",
       "       [337796,     52],\n",
       "       [734464,     52]], dtype=int64)"
      ]
     },
     "execution_count": 79,
     "metadata": {},
     "output_type": "execute_result"
    }
   ],
   "source": [
    "x"
   ]
  },
  {
   "cell_type": "code",
   "execution_count": 90,
   "metadata": {},
   "outputs": [],
   "source": [
    "# zamiana danych na sekwencję, wymagają tego warstwy rekurencyjne\n",
    "# długość sekwencji zależy od tego po jakiej ilości próbek w czasie chcemy aby rekurencja chodziła\n",
    "def ConvertDataToSequence(data, windowLen, featNum):\n",
    "    \"\"\"\n",
    "    :param data: dane w postaci szeregu, typu numpy.array, shape=(N,Feat)\n",
    "    :param windowLen: długość okna czyli długość sekwencji\n",
    "    :param featNum: ilość cech w ramach szeregu\n",
    "    \"\"\"\n",
    "    #długość wejściowego szeregu\n",
    "    lenOfAllSeq = data.shape[0]\n",
    "    # pusty kontener na kolejne sekwencje\n",
    "    xSeq = []\n",
    "    # idziemy po szeregu i tworzymy z niego sekwencje\n",
    "    for i in range(lenOfAllSeq-windowLen):\n",
    "        xSeq.append(data[i:i+windowLen])\n",
    "    xSeq = np.array(xSeq).reshape(-1,windowLen,featNum)\n",
    "    \n",
    "    # definiujemy wartości następujące po każdej sekwencji, będą to nasze wyjścia\n",
    "    y = data[windowLen:,0].reshape(-1,1)\n",
    "    \n",
    "    return xSeq, y"
   ]
  },
  {
   "cell_type": "code",
   "execution_count": 81,
   "metadata": {},
   "outputs": [
    {
     "name": "stdout",
     "output_type": "stream",
     "text": [
      "sequence shape: (2817, 4, 2)\n",
      "output shape: (2817, 1)\n"
     ]
    }
   ],
   "source": [
    "seqLen = 4\n",
    "featNum = 2\n",
    "xSeq, y = ConvertDataToSequence(x, seqLen, featNum)\n",
    "print(f\"sequence shape: {xSeq.shape}\")\n",
    "print(f\"output shape: {y.shape}\")"
   ]
  },
  {
   "cell_type": "code",
   "execution_count": 82,
   "metadata": {},
   "outputs": [],
   "source": [
    "test_percent = 0.2"
   ]
  },
  {
   "cell_type": "code",
   "execution_count": 83,
   "metadata": {},
   "outputs": [],
   "source": [
    "x_len = xSeq.shape[0]"
   ]
  },
  {
   "cell_type": "code",
   "execution_count": 84,
   "metadata": {},
   "outputs": [],
   "source": [
    "x_train_num = int(x_len*(1.0-test_percent))\n",
    "x_test_num = int(x_len*test_percent)"
   ]
  },
  {
   "cell_type": "code",
   "execution_count": 85,
   "metadata": {},
   "outputs": [],
   "source": [
    "xSeq_train = xSeq[:x_train_num]\n",
    "xSeq_test = xSeq[-x_test_num:]"
   ]
  },
  {
   "cell_type": "code",
   "execution_count": 86,
   "metadata": {},
   "outputs": [],
   "source": [
    "y_train = y[:x_train_num]\n",
    "y_test = y[-x_test_num:]"
   ]
  },
  {
   "cell_type": "code",
   "execution_count": 87,
   "metadata": {},
   "outputs": [
    {
     "ename": "ValueError",
     "evalue": "x and y must have same first dimension, but have shapes (564,) and (563,)",
     "output_type": "error",
     "traceback": [
      "\u001b[1;31m---------------------------------------------------------------------------\u001b[0m",
      "\u001b[1;31mValueError\u001b[0m                                Traceback (most recent call last)",
      "\u001b[1;32mc:\\Users\\hubert.stadnicki\\Desktop\\GH\\Projekty\\jdszr6-World-data-analysis\\Projekt_DL\\Walmart_prediction3.ipynb Cell 20'\u001b[0m in \u001b[0;36m<module>\u001b[1;34m\u001b[0m\n\u001b[0;32m      <a href='vscode-notebook-cell:/c%3A/Users/hubert.stadnicki/Desktop/GH/Projekty/jdszr6-World-data-analysis/Projekt_DL/Walmart_prediction3.ipynb#ch0000019?line=0'>1</a>\u001b[0m fig \u001b[39m=\u001b[39m plt\u001b[39m.\u001b[39mfigure(figsize\u001b[39m=\u001b[39m(\u001b[39m20\u001b[39m,\u001b[39m10\u001b[39m))\n\u001b[0;32m      <a href='vscode-notebook-cell:/c%3A/Users/hubert.stadnicki/Desktop/GH/Projekty/jdszr6-World-data-analysis/Projekt_DL/Walmart_prediction3.ipynb#ch0000019?line=1'>2</a>\u001b[0m plt\u001b[39m.\u001b[39mplot(np\u001b[39m.\u001b[39marange(x_train_num), xSeq_train[:,\u001b[39m0\u001b[39m,\u001b[39m0\u001b[39m])\n\u001b[1;32m----> <a href='vscode-notebook-cell:/c%3A/Users/hubert.stadnicki/Desktop/GH/Projekty/jdszr6-World-data-analysis/Projekt_DL/Walmart_prediction3.ipynb#ch0000019?line=2'>3</a>\u001b[0m plt\u001b[39m.\u001b[39;49mplot(np\u001b[39m.\u001b[39;49marange(x_train_num, x_len), xSeq_test[:,\u001b[39m0\u001b[39;49m,\u001b[39m0\u001b[39;49m])\n\u001b[0;32m      <a href='vscode-notebook-cell:/c%3A/Users/hubert.stadnicki/Desktop/GH/Projekty/jdszr6-World-data-analysis/Projekt_DL/Walmart_prediction3.ipynb#ch0000019?line=3'>4</a>\u001b[0m plt\u001b[39m.\u001b[39mlegend([\u001b[39m\"\u001b[39m\u001b[39mtrain\u001b[39m\u001b[39m\"\u001b[39m,\u001b[39m\"\u001b[39m\u001b[39mtest\u001b[39m\u001b[39m\"\u001b[39m])\n\u001b[0;32m      <a href='vscode-notebook-cell:/c%3A/Users/hubert.stadnicki/Desktop/GH/Projekty/jdszr6-World-data-analysis/Projekt_DL/Walmart_prediction3.ipynb#ch0000019?line=4'>5</a>\u001b[0m plt\u001b[39m.\u001b[39mtitle(\u001b[39m\"\u001b[39m\u001b[39mdata\u001b[39m\u001b[39m\"\u001b[39m)\n",
      "File \u001b[1;32m~\\AppData\\Roaming\\Python\\Python310\\site-packages\\matplotlib\\pyplot.py:2757\u001b[0m, in \u001b[0;36mplot\u001b[1;34m(scalex, scaley, data, *args, **kwargs)\u001b[0m\n\u001b[0;32m   2755\u001b[0m \u001b[39m@_copy_docstring_and_deprecators\u001b[39m(Axes\u001b[39m.\u001b[39mplot)\n\u001b[0;32m   2756\u001b[0m \u001b[39mdef\u001b[39;00m \u001b[39mplot\u001b[39m(\u001b[39m*\u001b[39margs, scalex\u001b[39m=\u001b[39m\u001b[39mTrue\u001b[39;00m, scaley\u001b[39m=\u001b[39m\u001b[39mTrue\u001b[39;00m, data\u001b[39m=\u001b[39m\u001b[39mNone\u001b[39;00m, \u001b[39m*\u001b[39m\u001b[39m*\u001b[39mkwargs):\n\u001b[1;32m-> 2757\u001b[0m     \u001b[39mreturn\u001b[39;00m gca()\u001b[39m.\u001b[39mplot(\n\u001b[0;32m   2758\u001b[0m         \u001b[39m*\u001b[39margs, scalex\u001b[39m=\u001b[39mscalex, scaley\u001b[39m=\u001b[39mscaley,\n\u001b[0;32m   2759\u001b[0m         \u001b[39m*\u001b[39m\u001b[39m*\u001b[39m({\u001b[39m\"\u001b[39m\u001b[39mdata\u001b[39m\u001b[39m\"\u001b[39m: data} \u001b[39mif\u001b[39;00m data \u001b[39mis\u001b[39;00m \u001b[39mnot\u001b[39;00m \u001b[39mNone\u001b[39;00m \u001b[39melse\u001b[39;00m {}), \u001b[39m*\u001b[39m\u001b[39m*\u001b[39mkwargs)\n",
      "File \u001b[1;32m~\\AppData\\Roaming\\Python\\Python310\\site-packages\\matplotlib\\axes\\_axes.py:1632\u001b[0m, in \u001b[0;36mAxes.plot\u001b[1;34m(self, scalex, scaley, data, *args, **kwargs)\u001b[0m\n\u001b[0;32m   1390\u001b[0m \u001b[39m\"\"\"\u001b[39;00m\n\u001b[0;32m   1391\u001b[0m \u001b[39mPlot y versus x as lines and/or markers.\u001b[39;00m\n\u001b[0;32m   1392\u001b[0m \n\u001b[1;32m   (...)\u001b[0m\n\u001b[0;32m   1629\u001b[0m \u001b[39m(``'green'``) or hex strings (``'#008000'``).\u001b[39;00m\n\u001b[0;32m   1630\u001b[0m \u001b[39m\"\"\"\u001b[39;00m\n\u001b[0;32m   1631\u001b[0m kwargs \u001b[39m=\u001b[39m cbook\u001b[39m.\u001b[39mnormalize_kwargs(kwargs, mlines\u001b[39m.\u001b[39mLine2D)\n\u001b[1;32m-> 1632\u001b[0m lines \u001b[39m=\u001b[39m [\u001b[39m*\u001b[39m\u001b[39mself\u001b[39m\u001b[39m.\u001b[39m_get_lines(\u001b[39m*\u001b[39margs, data\u001b[39m=\u001b[39mdata, \u001b[39m*\u001b[39m\u001b[39m*\u001b[39mkwargs)]\n\u001b[0;32m   1633\u001b[0m \u001b[39mfor\u001b[39;00m line \u001b[39min\u001b[39;00m lines:\n\u001b[0;32m   1634\u001b[0m     \u001b[39mself\u001b[39m\u001b[39m.\u001b[39madd_line(line)\n",
      "File \u001b[1;32m~\\AppData\\Roaming\\Python\\Python310\\site-packages\\matplotlib\\axes\\_base.py:312\u001b[0m, in \u001b[0;36m_process_plot_var_args.__call__\u001b[1;34m(self, data, *args, **kwargs)\u001b[0m\n\u001b[0;32m    310\u001b[0m     this \u001b[39m+\u001b[39m\u001b[39m=\u001b[39m args[\u001b[39m0\u001b[39m],\n\u001b[0;32m    311\u001b[0m     args \u001b[39m=\u001b[39m args[\u001b[39m1\u001b[39m:]\n\u001b[1;32m--> 312\u001b[0m \u001b[39myield from\u001b[39;00m \u001b[39mself\u001b[39;49m\u001b[39m.\u001b[39;49m_plot_args(this, kwargs)\n",
      "File \u001b[1;32m~\\AppData\\Roaming\\Python\\Python310\\site-packages\\matplotlib\\axes\\_base.py:498\u001b[0m, in \u001b[0;36m_process_plot_var_args._plot_args\u001b[1;34m(self, tup, kwargs, return_kwargs)\u001b[0m\n\u001b[0;32m    495\u001b[0m     \u001b[39mself\u001b[39m\u001b[39m.\u001b[39maxes\u001b[39m.\u001b[39myaxis\u001b[39m.\u001b[39mupdate_units(y)\n\u001b[0;32m    497\u001b[0m \u001b[39mif\u001b[39;00m x\u001b[39m.\u001b[39mshape[\u001b[39m0\u001b[39m] \u001b[39m!=\u001b[39m y\u001b[39m.\u001b[39mshape[\u001b[39m0\u001b[39m]:\n\u001b[1;32m--> 498\u001b[0m     \u001b[39mraise\u001b[39;00m \u001b[39mValueError\u001b[39;00m(\u001b[39mf\u001b[39m\u001b[39m\"\u001b[39m\u001b[39mx and y must have same first dimension, but \u001b[39m\u001b[39m\"\u001b[39m\n\u001b[0;32m    499\u001b[0m                      \u001b[39mf\u001b[39m\u001b[39m\"\u001b[39m\u001b[39mhave shapes \u001b[39m\u001b[39m{\u001b[39;00mx\u001b[39m.\u001b[39mshape\u001b[39m}\u001b[39;00m\u001b[39m and \u001b[39m\u001b[39m{\u001b[39;00my\u001b[39m.\u001b[39mshape\u001b[39m}\u001b[39;00m\u001b[39m\"\u001b[39m)\n\u001b[0;32m    500\u001b[0m \u001b[39mif\u001b[39;00m x\u001b[39m.\u001b[39mndim \u001b[39m>\u001b[39m \u001b[39m2\u001b[39m \u001b[39mor\u001b[39;00m y\u001b[39m.\u001b[39mndim \u001b[39m>\u001b[39m \u001b[39m2\u001b[39m:\n\u001b[0;32m    501\u001b[0m     \u001b[39mraise\u001b[39;00m \u001b[39mValueError\u001b[39;00m(\u001b[39mf\u001b[39m\u001b[39m\"\u001b[39m\u001b[39mx and y can be no greater than 2D, but have \u001b[39m\u001b[39m\"\u001b[39m\n\u001b[0;32m    502\u001b[0m                      \u001b[39mf\u001b[39m\u001b[39m\"\u001b[39m\u001b[39mshapes \u001b[39m\u001b[39m{\u001b[39;00mx\u001b[39m.\u001b[39mshape\u001b[39m}\u001b[39;00m\u001b[39m and \u001b[39m\u001b[39m{\u001b[39;00my\u001b[39m.\u001b[39mshape\u001b[39m}\u001b[39;00m\u001b[39m\"\u001b[39m)\n",
      "\u001b[1;31mValueError\u001b[0m: x and y must have same first dimension, but have shapes (564,) and (563,)"
     ]
    },
    {
     "data": {
      "image/png": "[encoded data removed]",
      "text/plain": [
       "<Figure size 1440x720 with 1 Axes>"
      ]
     },
     "metadata": {
      "needs_background": "light"
     },
     "output_type": "display_data"
    }
   ],
   "source": [
    "fig = plt.figure(figsize=(20,10))\n",
    "plt.plot(np.arange(x_train_num), xSeq_train[:,0,0])\n",
    "plt.plot(np.arange(x_train_num, x_len), xSeq_test[:,0,0])\n",
    "plt.legend([\"train\",\"test\"])\n",
    "plt.title(\"data\")\n",
    "plt.show()"
   ]
  },
  {
   "cell_type": "code",
   "execution_count": null,
   "metadata": {},
   "outputs": [
    {
     "name": "stdout",
     "output_type": "stream",
     "text": [
      "Model: \"sequential_1\"\n",
      "_________________________________________________________________\n",
      " Layer (type)                Output Shape              Param #   \n",
      "=================================================================\n",
      " rekurencja_pierwsza (LSTM)  (None, 4, 64)             17152     \n",
      "                                                                 \n",
      " dropout_2 (Dropout)         (None, 4, 64)             0         \n",
      "                                                                 \n",
      " rekurencja_druga (LSTM)     (None, 64)                33024     \n",
      "                                                                 \n",
      " dense_1 (Dense)             (None, 64)                4160      \n",
      "                                                                 \n",
      " dropout_3 (Dropout)         (None, 64)                0         \n",
      "                                                                 \n",
      " wyjscie (Dense)             (None, 1)                 65        \n",
      "                                                                 \n",
      "=================================================================\n",
      "Total params: 54,401\n",
      "Trainable params: 54,401\n",
      "Non-trainable params: 0\n",
      "_________________________________________________________________\n"
     ]
    }
   ],
   "source": [
    "modelRNN = tf.keras.Sequential()\n",
    "\n",
    "modelRNN.add(\n",
    "    layers.LSTM(\n",
    "        units=64,\n",
    "        input_shape=(seqLen, featNum),\n",
    "        name=\"rekurencja_pierwsza\",\n",
    "        return_sequences=True\n",
    "    )\n",
    ")\n",
    "\n",
    "modelRNN.add(\n",
    "    layers.Dropout(0.0)\n",
    ")\n",
    "\n",
    "modelRNN.add(\n",
    "    layers.LSTM(\n",
    "        units=64,\n",
    "        name=\"rekurencja_druga\"\n",
    "    )\n",
    ")\n",
    "\n",
    "modelRNN.add(\n",
    "    layers.Dense(\n",
    "        units=64,\n",
    "        activation=\"relu\"\n",
    "    )\n",
    ")\n",
    "\n",
    "modelRNN.add(\n",
    "    layers.Dropout(0.0)\n",
    ")\n",
    "\n",
    "modelRNN.add(\n",
    "    layers.Dense(\n",
    "        units=1,\n",
    "        name=\"wyjscie\"\n",
    "    )\n",
    ")\n",
    "\n",
    "modelRNN.summary()"
   ]
  },
  {
   "cell_type": "code",
   "execution_count": null,
   "metadata": {},
   "outputs": [],
   "source": [
    "modelRNN.compile(\n",
    "    optimizer=tf.keras.optimizers.Adam(),\n",
    "    loss=\"mse\"\n",
    ")"
   ]
  },
  {
   "cell_type": "code",
   "execution_count": null,
   "metadata": {},
   "outputs": [
    {
     "name": "stdout",
     "output_type": "stream",
     "text": [
      "Epoch 1/10\n",
      "634/634 [==============================] - 16s 11ms/step - loss: 290014986240.0000 - val_loss: 268703809536.0000\n",
      "Epoch 2/10\n",
      "634/634 [==============================] - 5s 8ms/step - loss: 287128780800.0000 - val_loss: 264645918720.0000\n",
      "Epoch 3/10\n",
      "634/634 [==============================] - 5s 7ms/step - loss: 281909821440.0000 - val_loss: 258557444096.0000\n",
      "Epoch 4/10\n",
      "634/634 [==============================] - 4s 7ms/step - loss: 274847481856.0000 - val_loss: 250870661120.0000\n",
      "Epoch 5/10\n",
      "634/634 [==============================] - 5s 7ms/step - loss: 266300702720.0000 - val_loss: 241870913536.0000\n",
      "Epoch 6/10\n",
      "634/634 [==============================] - 5s 8ms/step - loss: 256541704192.0000 - val_loss: 231794049024.0000\n",
      "Epoch 7/10\n",
      "634/634 [==============================] - 5s 8ms/step - loss: 245758640128.0000 - val_loss: 220805300224.0000\n",
      "Epoch 8/10\n",
      "634/634 [==============================] - 4s 7ms/step - loss: 234134994944.0000 - val_loss: 209097719808.0000\n",
      "Epoch 9/10\n",
      "634/634 [==============================] - 5s 8ms/step - loss: 221831921664.0000 - val_loss: 196796891136.0000\n",
      "Epoch 10/10\n",
      "634/634 [==============================] - 4s 6ms/step - loss: 208985587712.0000 - val_loss: 184031346688.0000\n"
     ]
    }
   ],
   "source": [
    "history = modelRNN.fit(\n",
    "    x=xSeq_train,\n",
    "    y=y_train,\n",
    "    epochs=10,\n",
    "    batch_size=4,\n",
    "    validation_data=(xSeq_test, y_test),\n",
    "    \n",
    ")"
   ]
  },
  {
   "cell_type": "code",
   "execution_count": null,
   "metadata": {},
   "outputs": [
    {
     "name": "stdout",
     "output_type": "stream",
     "text": [
      "9/9 [==============================] - 0s 6ms/step\n"
     ]
    }
   ],
   "source": [
    "y_pred = modelRNN.predict(xSeq_test)"
   ]
  },
  {
   "cell_type": "code",
   "execution_count": null,
   "metadata": {},
   "outputs": [
    {
     "data": {
      "text/plain": [
       "184031356524.10043"
      ]
     },
     "execution_count": 68,
     "metadata": {},
     "output_type": "execute_result"
    }
   ],
   "source": [
    "mean_squared_error(y_test,y_pred)"
   ]
  },
  {
   "cell_type": "code",
   "execution_count": null,
   "metadata": {},
   "outputs": [
    {
     "data": {
      "text/plain": [
       "-8.973952047015398"
      ]
     },
     "execution_count": 69,
     "metadata": {},
     "output_type": "execute_result"
    }
   ],
   "source": [
    "r2_score(y_test,y_pred)"
   ]
  },
  {
   "cell_type": "code",
   "execution_count": null,
   "metadata": {},
   "outputs": [
    {
     "data": {
      "text/plain": [
       "0.7947370664394833"
      ]
     },
     "execution_count": 70,
     "metadata": {},
     "output_type": "execute_result"
    }
   ],
   "source": [
    "mean_absolute_percentage_error(y_test,y_pred)"
   ]
  },
  {
   "cell_type": "code",
   "execution_count": null,
   "metadata": {},
   "outputs": [
    {
     "data": {
      "text/plain": [
       "array([[94858.07],\n",
       "       [94858.07],\n",
       "       [94858.07],\n",
       "       [94858.07],\n",
       "       [94858.07],\n",
       "       [94858.07],\n",
       "       [94858.07],\n",
       "       [94858.07],\n",
       "       [94858.07],\n",
       "       [94858.07],\n",
       "       [94858.07],\n",
       "       [94858.07],\n",
       "       [94858.07],\n",
       "       [94858.07],\n",
       "       [94858.07],\n",
       "       [94858.07],\n",
       "       [94858.07],\n",
       "       [94858.07],\n",
       "       [94858.07],\n",
       "       [94858.07],\n",
       "       [94858.07],\n",
       "       [94858.07],\n",
       "       [94858.07],\n",
       "       [94858.07],\n",
       "       [94858.07],\n",
       "       [94858.07],\n",
       "       [94858.07],\n",
       "       [94858.07],\n",
       "       [94858.07],\n",
       "       [94858.07],\n",
       "       [94858.08],\n",
       "       [94858.08],\n",
       "       [94858.07],\n",
       "       [94858.07],\n",
       "       [94858.07],\n",
       "       [94858.07],\n",
       "       [94858.07],\n",
       "       [94858.07],\n",
       "       [94858.07],\n",
       "       [94858.07],\n",
       "       [94858.07],\n",
       "       [94858.07],\n",
       "       [94858.07],\n",
       "       [94858.07],\n",
       "       [94858.07],\n",
       "       [94858.07],\n",
       "       [94858.07],\n",
       "       [94858.07],\n",
       "       [94858.07],\n",
       "       [94858.07],\n",
       "       [94858.07],\n",
       "       [94858.07],\n",
       "       [94858.07],\n",
       "       [94858.07],\n",
       "       [94858.07],\n",
       "       [94858.07],\n",
       "       [94858.07],\n",
       "       [94858.07],\n",
       "       [94858.07],\n",
       "       [94858.07],\n",
       "       [94858.07],\n",
       "       [94858.07],\n",
       "       [94858.08],\n",
       "       [94858.08],\n",
       "       [94858.07],\n",
       "       [94858.07],\n",
       "       [94858.07],\n",
       "       [94858.07],\n",
       "       [94858.07],\n",
       "       [94858.07],\n",
       "       [94858.07],\n",
       "       [94858.07],\n",
       "       [94858.07],\n",
       "       [94858.07],\n",
       "       [94858.07],\n",
       "       [94858.07],\n",
       "       [94858.07],\n",
       "       [94858.07],\n",
       "       [94858.07],\n",
       "       [94858.07],\n",
       "       [94858.07],\n",
       "       [94858.07],\n",
       "       [94858.07],\n",
       "       [94858.07],\n",
       "       [94858.07],\n",
       "       [94858.07],\n",
       "       [94858.07],\n",
       "       [94858.07],\n",
       "       [94858.07],\n",
       "       [94858.07],\n",
       "       [94858.07],\n",
       "       [94858.07],\n",
       "       [94858.07],\n",
       "       [94858.07],\n",
       "       [94858.08],\n",
       "       [94858.08],\n",
       "       [94858.07],\n",
       "       [94858.07],\n",
       "       [94858.07],\n",
       "       [94858.07],\n",
       "       [94858.07],\n",
       "       [94858.07],\n",
       "       [94858.07],\n",
       "       [94858.07],\n",
       "       [94858.07],\n",
       "       [94858.07],\n",
       "       [94858.07],\n",
       "       [94858.07],\n",
       "       [94858.07],\n",
       "       [94858.07],\n",
       "       [94858.07],\n",
       "       [94858.07],\n",
       "       [94858.07],\n",
       "       [94858.07],\n",
       "       [94858.07],\n",
       "       [94858.07],\n",
       "       [94858.07],\n",
       "       [94858.07],\n",
       "       [94858.07],\n",
       "       [94858.07],\n",
       "       [94858.07],\n",
       "       [94858.07],\n",
       "       [94858.07],\n",
       "       [94858.07],\n",
       "       [94858.07],\n",
       "       [94858.07],\n",
       "       [94858.08],\n",
       "       [94858.08],\n",
       "       [94858.07],\n",
       "       [94858.07],\n",
       "       [94858.07],\n",
       "       [94858.07],\n",
       "       [94858.07],\n",
       "       [94858.07],\n",
       "       [94858.07],\n",
       "       [94858.07],\n",
       "       [94858.07],\n",
       "       [94858.07],\n",
       "       [94858.07],\n",
       "       [94858.07],\n",
       "       [94858.07],\n",
       "       [94858.07],\n",
       "       [94858.07],\n",
       "       [94858.07],\n",
       "       [94858.07],\n",
       "       [94858.07],\n",
       "       [94858.07],\n",
       "       [94858.07],\n",
       "       [94858.07],\n",
       "       [94858.07],\n",
       "       [94858.07],\n",
       "       [94858.07],\n",
       "       [94858.07],\n",
       "       [94858.07],\n",
       "       [94858.07],\n",
       "       [94858.07],\n",
       "       [94858.07],\n",
       "       [94858.07],\n",
       "       [94858.08],\n",
       "       [94858.08],\n",
       "       [94858.07],\n",
       "       [94858.07],\n",
       "       [94858.07],\n",
       "       [94858.07],\n",
       "       [94858.07],\n",
       "       [94858.07],\n",
       "       [94858.07],\n",
       "       [94858.07],\n",
       "       [94858.07],\n",
       "       [94858.07],\n",
       "       [94858.07],\n",
       "       [94858.07],\n",
       "       [94858.07],\n",
       "       [94858.07],\n",
       "       [94858.07],\n",
       "       [94858.07],\n",
       "       [94858.07],\n",
       "       [94858.07],\n",
       "       [94858.07],\n",
       "       [94858.07],\n",
       "       [94858.07],\n",
       "       [94858.07],\n",
       "       [94858.07],\n",
       "       [94858.07],\n",
       "       [94858.07],\n",
       "       [94858.07],\n",
       "       [94858.07],\n",
       "       [94858.07],\n",
       "       [94858.07],\n",
       "       [94858.07],\n",
       "       [94858.08],\n",
       "       [94858.08],\n",
       "       [94858.07],\n",
       "       [94858.07],\n",
       "       [94858.07],\n",
       "       [94858.07],\n",
       "       [94858.07],\n",
       "       [94858.07],\n",
       "       [94858.07],\n",
       "       [94858.07],\n",
       "       [94858.07],\n",
       "       [94858.07],\n",
       "       [94858.07],\n",
       "       [94858.07],\n",
       "       [94858.07],\n",
       "       [94858.07],\n",
       "       [94858.07],\n",
       "       [94858.07],\n",
       "       [94858.07],\n",
       "       [94858.07],\n",
       "       [94858.07],\n",
       "       [94858.07],\n",
       "       [94858.07],\n",
       "       [94858.07],\n",
       "       [94858.07],\n",
       "       [94858.07],\n",
       "       [94858.07],\n",
       "       [94858.07],\n",
       "       [94858.07],\n",
       "       [94858.07],\n",
       "       [94858.07],\n",
       "       [94858.07],\n",
       "       [94858.08],\n",
       "       [94858.08],\n",
       "       [94858.07],\n",
       "       [94858.07],\n",
       "       [94858.07],\n",
       "       [94858.07],\n",
       "       [94858.07],\n",
       "       [94858.07],\n",
       "       [94858.07],\n",
       "       [94858.07],\n",
       "       [94858.07],\n",
       "       [94858.07],\n",
       "       [94858.07],\n",
       "       [94858.07],\n",
       "       [94858.07],\n",
       "       [94858.07],\n",
       "       [94858.07],\n",
       "       [94858.07],\n",
       "       [94858.07],\n",
       "       [94858.07],\n",
       "       [94858.07],\n",
       "       [94858.07],\n",
       "       [94858.07],\n",
       "       [94858.07],\n",
       "       [94858.07],\n",
       "       [94858.07],\n",
       "       [94858.07],\n",
       "       [94858.07],\n",
       "       [94858.07],\n",
       "       [94858.07],\n",
       "       [94858.07],\n",
       "       [94858.07],\n",
       "       [94858.08],\n",
       "       [94858.08],\n",
       "       [94858.07],\n",
       "       [94858.07],\n",
       "       [94858.07],\n",
       "       [94858.07],\n",
       "       [94858.07],\n",
       "       [94858.07],\n",
       "       [94858.07],\n",
       "       [94858.07],\n",
       "       [94858.07],\n",
       "       [94858.07],\n",
       "       [94858.07],\n",
       "       [94858.07],\n",
       "       [94858.07],\n",
       "       [94858.07],\n",
       "       [94858.07],\n",
       "       [94858.07],\n",
       "       [94858.07],\n",
       "       [94858.07],\n",
       "       [94858.07],\n",
       "       [94858.07],\n",
       "       [94858.07],\n",
       "       [94858.07],\n",
       "       [94858.07],\n",
       "       [94858.07],\n",
       "       [94858.08]], dtype=float32)"
      ]
     },
     "execution_count": 71,
     "metadata": {},
     "output_type": "execute_result"
    }
   ],
   "source": [
    "y_pred"
   ]
  },
  {
   "cell_type": "code",
   "execution_count": null,
   "metadata": {},
   "outputs": [],
   "source": []
  }
 ],
 "metadata": {
  "kernelspec": {
   "display_name": "Python 3.10.5 64-bit (system)",
   "language": "python",
   "name": "python3"
  },
  "language_info": {
   "codemirror_mode": {
    "name": "ipython",
    "version": 3
   },
   "file_extension": ".py",
   "mimetype": "text/x-python",
   "name": "python",
   "nbconvert_exporter": "python",
   "pygments_lexer": "ipython3",
   "version": "3.10.5"
  },
  "orig_nbformat": 4,
  "vscode": {
   "interpreter": {
    "hash": "26de051ba29f2982a8de78e945f0abaf191376122a1563185a90213a26c5da77"
   }
  }
 },
 "nbformat": 4,
 "nbformat_minor": 2
}
