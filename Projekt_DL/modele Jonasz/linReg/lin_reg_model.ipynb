{
 "cells": [
  {
   "cell_type": "code",
   "execution_count": 1,
   "id": "583828bd",
   "metadata": {},
   "outputs": [],
   "source": [
    "import numpy as np\n",
    "import pandas as pd\n",
    "import pickle\n",
    "\n",
    "from sklearn.linear_model import LinearRegression\n",
    "from sklearn.metrics import r2_score, mean_absolute_percentage_error, mean_squared_error\n",
    "\n",
    "import warnings\n",
    "warnings.filterwarnings('ignore')"
   ]
  },
  {
   "cell_type": "code",
   "execution_count": 2,
   "id": "45258a3b",
   "metadata": {},
   "outputs": [],
   "source": [
    "df = pd.read_excel(\"Walmart_clusters.xlsx\")"
   ]
  },
  {
   "cell_type": "code",
   "execution_count": 3,
   "id": "ca3334ce",
   "metadata": {},
   "outputs": [],
   "source": [
    "df0 = df.loc[(df['cluster_sklearn'] == 0)]\n",
    "df1 = df.loc[(df['cluster_sklearn'] == 1)]\n",
    "df2 = df.loc[(df['cluster_sklearn'] == 2)]"
   ]
  },
  {
   "cell_type": "code",
   "execution_count": 4,
   "id": "12af23fc",
   "metadata": {},
   "outputs": [],
   "source": [
    "def dataframe_preparator(dataframe):\n",
    "    dataframe = dataframe.drop([\n",
    "        'Date', 'Store', 'mm', 'dd', 'yyyy', 'week_absolute', 'cluster_sklearn'\n",
    "    ],\n",
    "                               axis=1)\n",
    "    divider = len(dataframe) / len(dataframe.week_relative.unique())\n",
    "    dataframe = dataframe.groupby('week_relative', as_index=False).sum()\n",
    "    columns = ['Temperature', 'Fuel_Price', 'CPI', 'Unemployment']\n",
    "    for j in columns:\n",
    "        dataframe[j] = dataframe[j] / divider\n",
    "    return dataframe"
   ]
  },
  {
   "cell_type": "code",
   "execution_count": 5,
   "id": "a48dfda6",
   "metadata": {},
   "outputs": [],
   "source": [
    "df0 = dataframe_preparator(df0)\n",
    "df1 = dataframe_preparator(df1)\n",
    "df2 = dataframe_preparator(df2)"
   ]
  },
  {
   "cell_type": "markdown",
   "id": "aaeff225",
   "metadata": {},
   "source": [
    "**------------------------------------------------------------------------------------**"
   ]
  },
  {
   "cell_type": "code",
   "execution_count": 6,
   "id": "9112f814",
   "metadata": {},
   "outputs": [],
   "source": [
    "def self_train_test_splitter(df):\n",
    "    X = df.drop('Weekly_Sales', axis=1)\n",
    "    X_train = X.loc[(X['week_relative'] < 105)]\n",
    "    X_test = X.loc[(X['week_relative'] >= 105)]\n",
    "    y = df.Weekly_Sales.values\n",
    "    y_train = y[:len(X_train)]\n",
    "    y_test = y[:len(X_test)]\n",
    "    return X, X_train, X_test, y, y_train, y_test"
   ]
  },
  {
   "cell_type": "code",
   "execution_count": 7,
   "id": "22070982",
   "metadata": {},
   "outputs": [],
   "source": [
    "X0, X0_train, X0_test, y0, y0_train, y0_test = self_train_test_splitter(df0)\n",
    "X1, X1_train, X1_test, y1, y1_train, y1_test = self_train_test_splitter(df1)\n",
    "X2, X2_train, X2_test, y2, y2_train, y2_test = self_train_test_splitter(df2)"
   ]
  },
  {
   "cell_type": "code",
   "execution_count": 8,
   "id": "92559b6f",
   "metadata": {},
   "outputs": [],
   "source": [
    "def name_of_global_obj(obj):\n",
    "    for objname, oid in globals().items():\n",
    "        if oid is obj:\n",
    "            objname += '.pickle'\n",
    "            return objname"
   ]
  },
  {
   "cell_type": "code",
   "execution_count": 9,
   "id": "3099324b",
   "metadata": {},
   "outputs": [],
   "source": [
    "def pickler(obj, objname):\n",
    "    with open(objname, 'wb') as handle:\n",
    "        pickle.dump(obj, handle, protocol=pickle.HIGHEST_PROTOCOL)"
   ]
  },
  {
   "cell_type": "code",
   "execution_count": 10,
   "id": "b8649ab6",
   "metadata": {},
   "outputs": [],
   "source": [
    "variable_list = [\n",
    "    df0, X0, X0_train, X0_test, y0, y0_train, y0_test, df1, X1, X1_train,\n",
    "    X1_test, y1, y1_train, y1_test, df2, X2, X2_train, X2_test, y2, y2_train,\n",
    "    y2_test\n",
    "]\n",
    "for i in variable_list:\n",
    "    pickler(i, name_of_global_obj(i))"
   ]
  },
  {
   "cell_type": "markdown",
   "id": "2d64f933",
   "metadata": {},
   "source": [
    "**------------------------------------------------------------------------------------**"
   ]
  },
  {
   "cell_type": "code",
   "execution_count": 11,
   "id": "aef20495",
   "metadata": {},
   "outputs": [],
   "source": [
    "def complex_modeller (X_train, X_test, y_train, y_test):\n",
    "    model = LinearRegression()\n",
    "    model.fit(X_train, y_train)\n",
    "    y_pred_train = model.predict(X_train)\n",
    "    y_pred_test = model.predict(X_test)\n",
    "    print(\"MAPE on train :\", round(100 * mean_absolute_percentage_error(y_train, y_pred_train), 3),\"%\")\n",
    "    print(\"MAPE on test  :\", round(100 * mean_absolute_percentage_error(y_test, y_pred_test), 3),\"%\")\n",
    "    print(\"MSE on train  :\", \"{:.3e}\".format(mean_squared_error(y_train, y_pred_train)))\n",
    "    print(\"MSE on test   :\", \"{:.3e}\".format(mean_squared_error(y_test, y_pred_test)))  \n",
    "    print(\"R2 on train   :\", round(r2_score(y_train, y_pred_train),3))\n",
    "    print(\"R2 on test    :\", round(r2_score(y_test, y_pred_test),3))"
   ]
  },
  {
   "cell_type": "code",
   "execution_count": 12,
   "id": "56c64fd9",
   "metadata": {},
   "outputs": [],
   "source": [
    "def total_modeller (X, X_train, X_test, y, y_train, y_test):\n",
    "    model = LinearRegression()\n",
    "    model.fit(X, y)\n",
    "    y_pred_train = model.predict(X_train)\n",
    "    y_pred_test = model.predict(X_test)\n",
    "    print(\"MAPE on train :\", round(100 * mean_absolute_percentage_error(y_train, y_pred_train), 3),\"%\")\n",
    "    print(\"MAPE on test  :\", round(100 * mean_absolute_percentage_error(y_test, y_pred_test), 3),\"%\")\n",
    "    print(\"MSE on train  :\", \"{:.3e}\".format(mean_squared_error(y_train, y_pred_train)))\n",
    "    print(\"MSE on test   :\", \"{:.3e}\".format(mean_squared_error(y_test, y_pred_test)))    \n",
    "    print(\"R2 on train   :\", round(r2_score(y_train, y_pred_train),3))\n",
    "    print(\"R2 on test    :\", round(r2_score(y_test, y_pred_test),3))"
   ]
  },
  {
   "cell_type": "code",
   "execution_count": 19,
   "id": "e3305c6d",
   "metadata": {},
   "outputs": [],
   "source": [
    "def simple_modeller(X, y):\n",
    "    model = LinearRegression()\n",
    "    model.fit(X, y)\n",
    "    y_pred = model.predict(X)\n",
    "    print(\"MAPE :\", round(100 * mean_absolute_percentage_error(y, y_pred), 3),\"%\")\n",
    "    print(\"MSE  :\", \"{:.3e}\".format(mean_squared_error(y, y_pred)))\n",
    "    print(\"R2   :\", round(r2_score(y, y_pred), 3))"
   ]
  },
  {
   "cell_type": "code",
   "execution_count": 14,
   "id": "a22c2b91",
   "metadata": {},
   "outputs": [
    {
     "name": "stdout",
     "output_type": "stream",
     "text": [
      "complex modeller used\n",
      "fit: 2010-2011, train: 2010-2011, test: 2012\n",
      "\n",
      "Results for cluster 0\n",
      "MAPE on train : 3.627 %\n",
      "MAPE on test  : 12.978 %\n",
      "MSE on train  : 2.337e+11\n",
      "MSE on test   : 1.699e+12\n",
      "R2 on train   : 0.636\n",
      "R2 on test    : -1.748\n",
      "\n",
      "Results for cluster 1\n",
      "MAPE on train : 6.816 %\n",
      "MAPE on test  : 16.054 %\n",
      "MSE on train  : 3.188e+12\n",
      "MSE on test   : 6.592e+12\n",
      "R2 on train   : 0.137\n",
      "R2 on test    : -0.684\n",
      "\n",
      "Results for cluster 2\n",
      "MAPE on train : 4.846 %\n",
      "MAPE on test  : 8.017 %\n",
      "MSE on train  : 1.769e+12\n",
      "MSE on test   : 9.633e+12\n",
      "R2 on train   : 0.777\n",
      "R2 on test    : -0.168\n"
     ]
    }
   ],
   "source": [
    "print(\"complex modeller used\")\n",
    "print(\"fit: 2010-2011, train: 2010-2011, test: 2012\")\n",
    "print(\"\\nResults for cluster 0\")\n",
    "complex_modeller(X0_train, X0_test, y0_train, y0_test)\n",
    "print(\"\\nResults for cluster 1\")\n",
    "complex_modeller(X1_train, X1_test, y1_train, y1_test)\n",
    "print(\"\\nResults for cluster 2\")\n",
    "complex_modeller(X2_train, X2_test, y2_train, y2_test)"
   ]
  },
  {
   "cell_type": "code",
   "execution_count": 15,
   "id": "8079b09f",
   "metadata": {},
   "outputs": [
    {
     "name": "stdout",
     "output_type": "stream",
     "text": [
      "total modeller used\n",
      "fit: 2010-2012, train: 2010-2011, test: 2012\n",
      "\n",
      "Results for cluster 0\n",
      "MAPE on train : 3.586 %\n",
      "MAPE on test  : 4.384 %\n",
      "MSE on train  : 2.793e+11\n",
      "MSE on test   : 5.770e+11\n",
      "R2 on train   : 0.565\n",
      "R2 on test    : 0.067\n",
      "\n",
      "Results for cluster 1\n",
      "MAPE on train : 6.351 %\n",
      "MAPE on test  : 5.962 %\n",
      "MSE on train  : 3.452e+12\n",
      "MSE on test   : 4.115e+12\n",
      "R2 on train   : 0.066\n",
      "R2 on test    : -0.051\n",
      "\n",
      "Results for cluster 2\n",
      "MAPE on train : 4.831 %\n",
      "MAPE on test  : 6.943 %\n",
      "MSE on train  : 1.799e+12\n",
      "MSE on test   : 9.547e+12\n",
      "R2 on train   : 0.773\n",
      "R2 on test    : -0.157\n"
     ]
    }
   ],
   "source": [
    "print(\"total modeller used\")\n",
    "print(\"fit: 2010-2012, train: 2010-2011, test: 2012\")\n",
    "print(\"\\nResults for cluster 0\")\n",
    "total_modeller(X0, X0_train, X0_test, y0, y0_train, y0_test)\n",
    "print(\"\\nResults for cluster 1\")\n",
    "total_modeller(X1, X1_train, X1_test, y1, y1_train, y1_test)\n",
    "print(\"\\nResults for cluster 2\")\n",
    "total_modeller(X2, X2_train, X2_test, y2, y2_train, y2_test)"
   ]
  },
  {
   "cell_type": "code",
   "execution_count": 20,
   "id": "d67f060c",
   "metadata": {
    "scrolled": false
   },
   "outputs": [
    {
     "name": "stdout",
     "output_type": "stream",
     "text": [
      "simple modeller used\n",
      "fit: 2010-2012, no train set, no test set\n",
      "\n",
      "Results for cluster 0\n",
      "MAPE : 3.56 %\n",
      "MSE  : 2.368e+11\n",
      "R2   : 0.492\n",
      "\n",
      "Results for cluster 1\n",
      "MAPE : 5.538 %\n",
      "MSE  : 2.481e+12\n",
      "R2   : 0.071\n",
      "\n",
      "Results for cluster 2\n",
      "MAPE : 4.63 %\n",
      "MSE  : 1.587e+12\n",
      "R2   : 0.716\n"
     ]
    }
   ],
   "source": [
    "print(\"simple modeller used\")\n",
    "print(\"fit: 2010-2012, no train set, no test set\")\n",
    "print(\"\\nResults for cluster 0\")\n",
    "simple_modeller(X0, y0)\n",
    "print(\"\\nResults for cluster 1\")\n",
    "simple_modeller(X1, y1)\n",
    "print(\"\\nResults for cluster 2\")\n",
    "simple_modeller(X2, y2)"
   ]
  },
  {
   "cell_type": "code",
   "execution_count": null,
   "id": "d583cd3a",
   "metadata": {},
   "outputs": [],
   "source": []
  }
 ],
 "metadata": {
  "hide_input": false,
  "kernelspec": {
   "display_name": "Python 3 (ipykernel)",
   "language": "python",
   "name": "python3"
  },
  "language_info": {
   "codemirror_mode": {
    "name": "ipython",
    "version": 3
   },
   "file_extension": ".py",
   "mimetype": "text/x-python",
   "name": "python",
   "nbconvert_exporter": "python",
   "pygments_lexer": "ipython3",
   "version": "3.9.12"
  },
  "varInspector": {
   "cols": {
    "lenName": 16,
    "lenType": 16,
    "lenVar": 40
   },
   "kernels_config": {
    "python": {
     "delete_cmd_postfix": "",
     "delete_cmd_prefix": "del ",
     "library": "var_list.py",
     "varRefreshCmd": "print(var_dic_list())"
    },
    "r": {
     "delete_cmd_postfix": ") ",
     "delete_cmd_prefix": "rm(",
     "library": "var_list.r",
     "varRefreshCmd": "cat(var_dic_list()) "
    }
   },
   "types_to_exclude": [
    "module",
    "function",
    "builtin_function_or_method",
    "instance",
    "_Feature"
   ],
   "window_display": false
  }
 },
 "nbformat": 4,
 "nbformat_minor": 5
}
